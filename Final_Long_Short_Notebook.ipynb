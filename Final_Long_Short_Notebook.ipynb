{
  "nbformat": 4,
  "nbformat_minor": 0,
  "metadata": {
    "kernelspec": {
      "display_name": "Python 3",
      "language": "python",
      "name": "python3"
    },
    "language_info": {
      "codemirror_mode": {
        "name": "ipython",
        "version": 3
      },
      "file_extension": ".py",
      "mimetype": "text/x-python",
      "name": "python",
      "nbconvert_exporter": "python",
      "pygments_lexer": "ipython3",
      "version": "3.7.6"
    },
    "colab": {
      "name": "Final Long-Short Notebook.ipynb",
      "provenance": [],
      "collapsed_sections": [
        "KRE5GCQ58FY9",
        "SufYC6Xg8FZB",
        "rRb5qN9M8FZE",
        "GFFZn4au8FZH",
        "ZlUaAsxr8FZf",
        "M7hmZTeb8FZi",
        "6jtuFTBP8Fco",
        "rMuQkJCG8FdC",
        "DXSNbXma8FdL",
        "NjWKHB128Fdk",
        "iCrruKGk8Fdr",
        "WAPweyOE8Fdu",
        "siQhHQoI8Fd2",
        "kb3nATXB8Fd8",
        "QEhTLtET8FeC",
        "UPaEq3Hm8FeJ",
        "MufKXT0t8FeM",
        "GT-CQT9I8FeY",
        "SjqG8yrS8Fec",
        "82HY6ygg8Fef",
        "Rjz8QMjf8Fei",
        "IJGjS4Z_8Fev",
        "b7H6XUCM8Fez",
        "wA8Iqgge8FfA",
        "woErewbH8FfC",
        "a2G2a4DU8FfG",
        "JvhbM6Ws8Ffi",
        "ODozuPrV8Ffv"
      ]
    }
  },
  "cells": [
    {
      "cell_type": "markdown",
      "metadata": {
        "id": "7gzgtrNN-4JT",
        "colab_type": "text"
      },
      "source": [
        "# TensorFlow 2.0 Question Answering\n",
        "## Identify the answers to real user questions about Wikipedia page content\n"
      ]
    },
    {
      "cell_type": "code",
      "metadata": {
        "id": "o4RiojrE-7AD",
        "colab_type": "code",
        "colab": {}
      },
      "source": [
        ""
      ],
      "execution_count": null,
      "outputs": []
    },
    {
      "cell_type": "markdown",
      "metadata": {
        "id": "y6MmOlo5-z7-",
        "colab_type": "text"
      },
      "source": [
        "## SHORT Q&A MODEL"
      ]
    },
    {
      "cell_type": "code",
      "metadata": {
        "id": "oISpJEjV8FYZ",
        "colab_type": "code",
        "colab": {},
        "outputId": "f1da3bb7-496d-46db-9066-3b7f1609b05b"
      },
      "source": [
        "import json\n",
        "import os\n",
        "import seaborn as sns\n",
        "import matplotlib.pyplot as plt \n",
        "import matplotlib.patches as patches\n",
        "from plotly import tools, subplots\n",
        "import plotly.offline as py\n",
        "py.init_notebook_mode(connected = True)\n",
        "import plotly.graph_objs as go\n",
        "\n",
        "import plotly.express as px\n",
        "import pandas as pd\n",
        "pd.set_option('max_columns', 1000)\n",
        "from bokeh.models import Panel, Tabs\n",
        "from bokeh.io import output_notebook, show\n",
        "from bokeh.plotting import figure\n",
        "#import lightgbm as lgb\n",
        "import plotly.figure_factory as ff\n",
        "import gc\n",
        "\n",
        "from sklearn.model_selection import KFold\n",
        "from sklearn.preprocessing import LabelEncoder\n",
        "import json\n",
        "from tensorflow.keras.preprocessing import text, sequence\n",
        "from sklearn.feature_extraction.text import CountVectorizer"
      ],
      "execution_count": null,
      "outputs": [
        {
          "output_type": "display_data",
          "data": {
            "text/html": [
              "        <script type=\"text/javascript\">\n",
              "        window.PlotlyConfig = {MathJaxConfig: 'local'};\n",
              "        if (window.MathJax) {MathJax.Hub.Config({SVG: {font: \"STIX-Web\"}});}\n",
              "        if (typeof require !== 'undefined') {\n",
              "        require.undef(\"plotly\");\n",
              "        requirejs.config({\n",
              "            paths: {\n",
              "                'plotly': ['https://cdn.plot.ly/plotly-latest.min']\n",
              "            }\n",
              "        });\n",
              "        require(['plotly'], function(Plotly) {\n",
              "            window._Plotly = Plotly;\n",
              "        });\n",
              "        }\n",
              "        </script>\n",
              "        "
            ]
          },
          "metadata": {
            "tags": []
          }
        }
      ]
    },
    {
      "cell_type": "code",
      "metadata": {
        "id": "0axXSSmu8FYf",
        "colab_type": "code",
        "colab": {}
      },
      "source": [
        "import numpy as np\n",
        "%matplotlib inline\n",
        "import matplotlib.pyplot as plt\n",
        "from tensorflow.keras import layers \n",
        "from keras.layers import Reshape,Concatenate \n",
        "from tensorflow.keras.layers import Reshape\n",
        "from tensorflow.keras.preprocessing.text import Tokenizer \n",
        "from tensorflow.keras.preprocessing.sequence import pad_sequences\n",
        "from tensorflow.keras.models import Sequential \n",
        "from tensorflow.keras.layers import Dense\n",
        "from tensorflow.keras.layers import Flatten\n",
        "from tensorflow.keras.layers import Embedding\n",
        "from tensorflow.keras import regularizers\n",
        "from tensorflow.keras.layers import LeakyReLU\n",
        "#from tensorboardcolab import *\n",
        "from tensorflow.keras.regularizers import l2  \n",
        "from tensorflow.keras.layers import LeakyReLU\n",
        "from tensorflow.keras.layers import Input, Dense, Embedding, SpatialDropout1D, concatenate, Masking\n",
        "from tensorflow.keras.layers import Conv1D,Conv2D, MaxPooling2D\n",
        "from tqdm import tqdm\n",
        "import pickle\n",
        "import tensorflow.keras\n",
        "from tensorflow.keras import layers\n",
        "from tensorflow.keras.layers import Dropout\n",
        "from tensorflow.keras.layers import BatchNormalization\n",
        "from tensorflow.keras.models import Model\n",
        "import gensim\n",
        "from gensim.scripts.glove2word2vec import glove2word2vec \n",
        "from tqdm import tqdm\n",
        "import tensorflow as tf\n",
        "import numpy as np \n",
        "import pandas as pd\n",
        "import tensorflow as tf\n",
        "import tensorflow_hub as hub\n",
        "from tensorflow.keras.models import Model"
      ],
      "execution_count": null,
      "outputs": []
    },
    {
      "cell_type": "code",
      "metadata": {
        "id": "mQI2qgSP8FYi",
        "colab_type": "code",
        "colab": {}
      },
      "source": [
        "import tokenization\n",
        "from tensorflow.keras.layers import Input, Dense, Embedding, SpatialDropout1D, concatenate, Masking\n",
        "from tensorflow.keras.layers import LSTM, Bidirectional, GlobalMaxPooling1D, Dropout\n",
        "from tensorflow.keras.preprocessing import text, sequence\n",
        "from tqdm import tqdm_notebook as tqdm\n",
        "import fasttext\n",
        "import os\n",
        "from tensorflow.keras.layers import Conv1D,Conv2D, MaxPooling2D\n",
        "import json\n",
        "import gc\n",
        "import pickle\n",
        "from tensorflow.keras.preprocessing import text, sequence \n",
        "import numpy as np\n",
        "import pandas as pd\n",
        "from tqdm import tqdm_notebook as tqdm\n",
        "from tensorflow.keras.models import Model\n",
        "from tensorflow.keras.models import load_model\n",
        "import pydot\n",
        "from IPython.display import SVG\n",
        "from keras.utils.vis_utils import model_to_dot\n",
        "from tensorflow.keras.callbacks import ModelCheckpoint, EarlyStopping\n",
        "from tensorflow.python.keras import backend\n",
        "import datetime\n",
        "from tensorflow.keras.callbacks import TensorBoard \n",
        "from sklearn.metrics import precision_recall_curve\n",
        "from sklearn.metrics import recall_score\n",
        "from sklearn.metrics import precision_score\n",
        "from sklearn.metrics import f1_score"
      ],
      "execution_count": null,
      "outputs": []
    },
    {
      "cell_type": "code",
      "metadata": {
        "id": "0K6miPUw8FYl",
        "colab_type": "code",
        "colab": {}
      },
      "source": [
        ""
      ],
      "execution_count": null,
      "outputs": []
    },
    {
      "cell_type": "markdown",
      "metadata": {
        "id": "amm4BQP28FYo",
        "colab_type": "text"
      },
      "source": [
        "## Reading the data"
      ]
    },
    {
      "cell_type": "code",
      "metadata": {
        "id": "aeB3Z0Rw8FYp",
        "colab_type": "code",
        "colab": {}
      },
      "source": [
        "def read_data(path, sample = True, chunksize = 50000): \n",
        "    if sample == True:\n",
        "        df = [] \n",
        "        with open(path, 'rt') as reader:\n",
        "            for i in range(chunksize):\n",
        "                df.append(json.loads(reader.readline()))\n",
        "        df = pd.DataFrame(df)\n",
        "        print('Our sampled dataset have {} rows and {} columns'.format(df.shape[0], df.shape[1]))\n",
        "    else:\n",
        "        df = pd.read_json(path, orient = 'records', lines = True)\n",
        "        print('Our dataset have {} rows and {} columns'.format(df.shape[0], df.shape[1]))\n",
        "        gc.collect()\n",
        "    return df\n",
        "\n",
        "train1 = read_data('simplified-nq-train.jsonl', sample = True)\n",
        "#test = read_data('simplified-nq-test.jsonl', sample = False)\n",
        "train1.head()"
      ],
      "execution_count": null,
      "outputs": []
    },
    {
      "cell_type": "code",
      "metadata": {
        "id": "ABYt9PPI8FYs",
        "colab_type": "code",
        "colab": {}
      },
      "source": [
        ""
      ],
      "execution_count": null,
      "outputs": []
    },
    {
      "cell_type": "markdown",
      "metadata": {
        "id": "J4FZ-NM08FYv",
        "colab_type": "text"
      },
      "source": [
        "## Empty Short indices"
      ]
    },
    {
      "cell_type": "code",
      "metadata": {
        "id": "lvSEDsco8FYw",
        "colab_type": "code",
        "colab": {}
      },
      "source": [
        "empty_shortindices=[]\n",
        "\n",
        "for i in range(50000):\n",
        "    if not train1['annotations'][i][0]['short_answers']:\n",
        "        empty_shortindices.append(i)\n"
      ],
      "execution_count": null,
      "outputs": []
    },
    {
      "cell_type": "markdown",
      "metadata": {
        "id": "slup1MTA8FYz",
        "colab_type": "text"
      },
      "source": [
        "## Yes Answers"
      ]
    },
    {
      "cell_type": "code",
      "metadata": {
        "id": "FcmYhVG-8FY0",
        "colab_type": "code",
        "colab": {}
      },
      "source": [
        "yl=[]\n",
        "for i in range(50000):\n",
        "    if train1['annotations'][i][0]['yes_no_answer']=='YES':\n",
        "        yl.append(i)\n",
        "print(len(yl))"
      ],
      "execution_count": null,
      "outputs": []
    },
    {
      "cell_type": "markdown",
      "metadata": {
        "id": "UyYS01zm8FY2",
        "colab_type": "text"
      },
      "source": [
        "## No Answers"
      ]
    },
    {
      "cell_type": "code",
      "metadata": {
        "scrolled": true,
        "id": "N4miNHIl8FY3",
        "colab_type": "code",
        "colab": {}
      },
      "source": [
        "nl=[]\n",
        "for i in range(50000):\n",
        "    if train1['annotations'][i][0]['yes_no_answer']=='NO':\n",
        "        nl.append(i)\n",
        "print(len(nl))"
      ],
      "execution_count": null,
      "outputs": []
    },
    {
      "cell_type": "markdown",
      "metadata": {
        "id": "vkjt0blF8FY6",
        "colab_type": "text"
      },
      "source": [
        "## Combining yes and no"
      ]
    },
    {
      "cell_type": "code",
      "metadata": {
        "id": "otigPpDJ8FY6",
        "colab_type": "code",
        "colab": {}
      },
      "source": [
        "ynl=yl+nl\n"
      ],
      "execution_count": null,
      "outputs": []
    },
    {
      "cell_type": "markdown",
      "metadata": {
        "id": "KRE5GCQ58FY9",
        "colab_type": "text"
      },
      "source": [
        "## Extracting data points excluding empty indices"
      ]
    },
    {
      "cell_type": "code",
      "metadata": {
        "id": "ZVALjOHn8FY-",
        "colab_type": "code",
        "colab": {}
      },
      "source": [
        "nonemptyshortindlist=[]\n",
        "for i in range(50000):\n",
        "    if i not in empty_shortindices: \n",
        "        nonemptyshortindlist.append(i)\n",
        "print(len(nonemptyshortindlist))"
      ],
      "execution_count": null,
      "outputs": []
    },
    {
      "cell_type": "markdown",
      "metadata": {
        "id": "SufYC6Xg8FZB",
        "colab_type": "text"
      },
      "source": [
        "## Final indices (comibnation of yes_no and non_empty indices)"
      ]
    },
    {
      "cell_type": "code",
      "metadata": {
        "id": "w3EwV0Eo8FZB",
        "colab_type": "code",
        "colab": {}
      },
      "source": [
        "finalshort=nonemptyshortindlist+ynl"
      ],
      "execution_count": null,
      "outputs": []
    },
    {
      "cell_type": "markdown",
      "metadata": {
        "id": "rRb5qN9M8FZE",
        "colab_type": "text"
      },
      "source": [
        "## Replacing the yes_no indices with 0"
      ]
    },
    {
      "cell_type": "code",
      "metadata": {
        "id": "IdbX97NB8FZE",
        "colab_type": "code",
        "colab": {}
      },
      "source": [
        "for i in ynl:\n",
        "    train1['annotations'][i][0]['short_answers'].append({'start_token': 0, 'end_token': 0})"
      ],
      "execution_count": null,
      "outputs": []
    },
    {
      "cell_type": "markdown",
      "metadata": {
        "id": "GFFZn4au8FZH",
        "colab_type": "text"
      },
      "source": [
        "## Adding to the dataframe"
      ]
    },
    {
      "cell_type": "code",
      "metadata": {
        "id": "KViIQUAT8FZH",
        "colab_type": "code",
        "colab": {}
      },
      "source": [
        "df=pd.DataFrame()"
      ],
      "execution_count": null,
      "outputs": []
    },
    {
      "cell_type": "code",
      "metadata": {
        "id": "9S2oEk_L8FZM",
        "colab_type": "code",
        "colab": {}
      },
      "source": [
        "ann_id=[]\n",
        "ques=[]\n",
        "doc_text=[]\n",
        "yn_label=[]\n",
        "eid=[]\n",
        "\n",
        "for i in finalshort:\n",
        "    \n",
        "    id1=train1['annotations'][i][0]['annotation_id']\n",
        "    q=train1['question_text'][i]\n",
        "    dt=train1['document_text'][i]\n",
        "    ynl=train1['annotations'][i][0]['yes_no_answer']   \n",
        "    ei=train1['example_id'][i]\n",
        "    \n",
        "    ann_id.append(id1)\n",
        "    ques.append(q)\n",
        "    doc_text.append(dt)\n",
        "    yn_label.append(ynl)\n",
        "    eid.append(ei)\n"
      ],
      "execution_count": null,
      "outputs": []
    },
    {
      "cell_type": "code",
      "metadata": {
        "id": "MZQUy6Nh8FZO",
        "colab_type": "code",
        "colab": {}
      },
      "source": [
        "s_i=[]\n",
        "for i in finalshort:\n",
        "    si=train1['annotations'][i][0]['short_answers'][0]['start_token']\n",
        "    s_i.append(si)"
      ],
      "execution_count": null,
      "outputs": []
    },
    {
      "cell_type": "code",
      "metadata": {
        "id": "T4qfVmqp8FZR",
        "colab_type": "code",
        "colab": {}
      },
      "source": [
        "e_i=[]\n",
        "for i in finalshort:\n",
        "    ei=train1['annotations'][i][0]['short_answers'][0]['end_token']\n",
        "    e_i.append(ei)"
      ],
      "execution_count": null,
      "outputs": []
    },
    {
      "cell_type": "code",
      "metadata": {
        "id": "KSUr1hwy8FZU",
        "colab_type": "code",
        "colab": {}
      },
      "source": [
        ""
      ],
      "execution_count": null,
      "outputs": []
    },
    {
      "cell_type": "code",
      "metadata": {
        "id": "5wnUFj6y8FZW",
        "colab_type": "code",
        "colab": {}
      },
      "source": [
        "df['annotation_id']=ann_id\n",
        "df['document_text']=doc_text\n",
        "df['question_text']=ques\n",
        "df['yes_or_no']=yn_label\n",
        "df['start_index']=s_i\n",
        "df['end_index']=e_i\n",
        "df['example_id']=eid"
      ],
      "execution_count": null,
      "outputs": []
    },
    {
      "cell_type": "code",
      "metadata": {
        "id": "nlPgaUL48FZY",
        "colab_type": "code",
        "colab": {}
      },
      "source": [
        ""
      ],
      "execution_count": null,
      "outputs": []
    },
    {
      "cell_type": "code",
      "metadata": {
        "id": "92HsVc8F8FZa",
        "colab_type": "code",
        "colab": {}
      },
      "source": [
        "X_train, X_test, y_train, y_test=train_test_split(df[['document_text','question_text','example_id']],df[['yes_or_no','start_index','end_index']],test_size=0.2)"
      ],
      "execution_count": null,
      "outputs": []
    },
    {
      "cell_type": "code",
      "metadata": {
        "id": "4oEuOoVu8FZd",
        "colab_type": "code",
        "colab": {}
      },
      "source": [
        ""
      ],
      "execution_count": null,
      "outputs": []
    },
    {
      "cell_type": "markdown",
      "metadata": {
        "id": "ZlUaAsxr8FZf",
        "colab_type": "text"
      },
      "source": [
        "## Load train and test data"
      ]
    },
    {
      "cell_type": "code",
      "metadata": {
        "id": "j1IrlQOf8FZg",
        "colab_type": "code",
        "colab": {}
      },
      "source": [
        "X_train = pickle.load(open(\"X_trainf1.pickel\",\"rb\"))\n",
        "X_test = pickle.load(open(\"X_testf1.pickel\",\"rb\"))\n",
        "y_train = pickle.load(open(\"y_trainf1.pickel\",\"rb\"))\n",
        "y_test = pickle.load(open(\"y_testf1.pickel\",\"rb\"))\n"
      ],
      "execution_count": null,
      "outputs": []
    },
    {
      "cell_type": "markdown",
      "metadata": {
        "id": "M7hmZTeb8FZi",
        "colab_type": "text"
      },
      "source": [
        "## Creating BERT Embeddings"
      ]
    },
    {
      "cell_type": "code",
      "metadata": {
        "id": "-a3I-lBL8FZk",
        "colab_type": "code",
        "colab": {}
      },
      "source": [
        "## Loading the Pretrained Model from tensorflow HUB\n",
        "tf.keras.backend.clear_session()\n",
        "\n",
        "# maximum length of a seq in the data we have, for now i am making it as 55. You can change this\n",
        "max_seq_length = 200\n",
        "\n",
        "#BERT takes 3 inputs\n",
        "\n",
        "#this is input words. Sequence of words represented as integers\n",
        "input_word_ids = tf.keras.layers.Input(shape=(max_seq_length,), dtype=tf.int32, name=\"input_word_ids\")\n",
        "\n",
        "#mask vector if you are padding anything\n",
        "input_mask = tf.keras.layers.Input(shape=(max_seq_length,), dtype=tf.int32, name=\"input_mask\")\n",
        "\n",
        "#segment vectors. If you are giving only one sentence for the classification, total seg vector is 0. \n",
        "#If you are giving two sentenced with [sep] token separated, first seq segment vectors are zeros and \n",
        "#second seq segment vector are 1's\n",
        "segment_ids = tf.keras.layers.Input(shape=(max_seq_length,), dtype=tf.int32, name=\"segment_ids\") \n",
        "\n",
        "#bert layer \n",
        "bert_layer = hub.KerasLayer(\"https://tfhub.dev/tensorflow/bert_en_uncased_L-12_H-768_A-12/1\", trainable=False) \n",
        "pooled_output, sequence_output = bert_layer([input_word_ids, input_mask, segment_ids])\n",
        "\n",
        "#Bert model\n",
        "#We are using only pooled output not sequence out. \n",
        "#If you want to know about those, please read https://www.kaggle.com/questions-and-answers/86510\n",
        "bert_model = Model(inputs=[input_word_ids, input_mask, segment_ids], outputs=pooled_output)\n"
      ],
      "execution_count": null,
      "outputs": []
    },
    {
      "cell_type": "code",
      "metadata": {
        "id": "8eEGkqnP8FZn",
        "colab_type": "code",
        "colab": {}
      },
      "source": [
        "bert_model.summary()"
      ],
      "execution_count": null,
      "outputs": []
    },
    {
      "cell_type": "code",
      "metadata": {
        "id": "H1iK9JVK8FZp",
        "colab_type": "code",
        "colab": {}
      },
      "source": [
        "#getting Vocab file\n",
        "vocab_file = bert_layer.resolved_object.vocab_file.asset_path.numpy()\n",
        "do_lower_case = bert_layer.resolved_object.do_lower_case.numpy()"
      ],
      "execution_count": null,
      "outputs": []
    },
    {
      "cell_type": "code",
      "metadata": {
        "id": "P_0aFmfB8FZr",
        "colab_type": "code",
        "colab": {}
      },
      "source": [
        "import tokenization"
      ],
      "execution_count": null,
      "outputs": []
    },
    {
      "cell_type": "code",
      "metadata": {
        "id": "N5Dgc5rW8FZu",
        "colab_type": "code",
        "colab": {}
      },
      "source": [
        "tokenizer= tokenization.FullTokenizer(vocab_file, do_lower_case)"
      ],
      "execution_count": null,
      "outputs": []
    },
    {
      "cell_type": "code",
      "metadata": {
        "id": "WsuR3zQO8FZw",
        "colab_type": "code",
        "colab": {}
      },
      "source": [
        "pickle.dump(tokenizer, open(\"tokenizerf.pickel\", \"wb\"))\n",
        "tokenizer = pickle.load(open(\"tokenizerf.pickel\",\"rb\"))"
      ],
      "execution_count": null,
      "outputs": []
    },
    {
      "cell_type": "code",
      "metadata": {
        "id": "QLM26jE78FZz",
        "colab_type": "code",
        "colab": {}
      },
      "source": [
        "tokenizer = pickle.load(open(\"tokenizerf.pickel\",\"rb\"))"
      ],
      "execution_count": null,
      "outputs": []
    },
    {
      "cell_type": "code",
      "metadata": {
        "id": "pFBXsJiB8FZ2",
        "colab_type": "code",
        "colab": {}
      },
      "source": [
        "#it has to give no error \n",
        "def grader_tokenize(tokenizer):\n",
        "    out = False\n",
        "    try: \n",
        "        out=('[CLS]' in tokenizer.vocab) and ('[SEP]' in tokenizer.vocab)  \n",
        "    except:\n",
        "        out = False\n",
        "    assert(out==True)\n",
        "    return out\n",
        "grader_tokenize(tokenizer)"
      ],
      "execution_count": null,
      "outputs": []
    },
    {
      "cell_type": "code",
      "metadata": {
        "id": "7ELiptGI8FZ7",
        "colab_type": "code",
        "colab": {}
      },
      "source": [
        "max_seq_length=200"
      ],
      "execution_count": null,
      "outputs": []
    },
    {
      "cell_type": "code",
      "metadata": {
        "id": "tGEBDcsv8FaB",
        "colab_type": "code",
        "colab": {}
      },
      "source": [
        "def TokenizeAndConvertToIds(text):\n",
        "    tokens= tokenizer.tokenize(text) # tokenize the reviews\n",
        "    tokens=tokens[0:(max_seq_length-2)] \n",
        "    tokens=['[CLS]',*tokens,'[SEP]'] # adding cls and sep at the end\n",
        "    masked_array=np.array([1]*len(tokens) + [0]* (max_seq_length-len(tokens))) # masking \n",
        "    segment_array=np.array([0]*max_seq_length) \n",
        "    if(len(tokens)<max_seq_length): \n",
        "        padding=['[PAD]']*(max_seq_length-len(tokens)) # padding\n",
        "        tokens=[*tokens,*padding] \n",
        "    tokentoid=np.array(tokenizer.convert_tokens_to_ids(tokens)) # converting the tokens to id\n",
        "    return tokentoid,masked_array,segment_array\n"
      ],
      "execution_count": null,
      "outputs": []
    },
    {
      "cell_type": "code",
      "metadata": {
        "id": "Rk8FApn68FaH",
        "colab_type": "code",
        "colab": {}
      },
      "source": [
        ""
      ],
      "execution_count": null,
      "outputs": []
    },
    {
      "cell_type": "code",
      "metadata": {
        "id": "1E3HpEUb8FaO",
        "colab_type": "code",
        "colab": {}
      },
      "source": [
        "X_tr=X_train['document_text']\n",
        "X_te=X_test['document_text']"
      ],
      "execution_count": null,
      "outputs": []
    },
    {
      "cell_type": "code",
      "metadata": {
        "id": "1YmXnICD8FaW",
        "colab_type": "code",
        "colab": {}
      },
      "source": [
        "X_trq=X_train['question_text']\n",
        "X_teq=X_test['question_text']"
      ],
      "execution_count": null,
      "outputs": []
    },
    {
      "cell_type": "code",
      "metadata": {
        "id": "HpqDTWWl8Fag",
        "colab_type": "code",
        "colab": {}
      },
      "source": [
        "pickle.dump(X_tr, open(\"X_trf.pickel\", \"wb\"))\n",
        "pickle.dump(X_te, open(\"X_tef.pickel\", \"wb\"))"
      ],
      "execution_count": null,
      "outputs": []
    },
    {
      "cell_type": "code",
      "metadata": {
        "id": "WX2p_xAB8Fal",
        "colab_type": "code",
        "colab": {}
      },
      "source": [
        "pickle.dump(X_trq, open(\"X_trqf.pickel\", \"wb\"))\n",
        "pickle.dump(X_teq, open(\"X_teqf.pickel\", \"wb\"))"
      ],
      "execution_count": null,
      "outputs": []
    },
    {
      "cell_type": "code",
      "metadata": {
        "id": "2ZM5LwbU8Fas",
        "colab_type": "code",
        "colab": {}
      },
      "source": [
        "X_tr = pickle.load(open(\"X_trf.pickel\",\"rb\"))\n",
        "X_te = pickle.load(open(\"X_tef.pickel\",\"rb\"))"
      ],
      "execution_count": null,
      "outputs": []
    },
    {
      "cell_type": "code",
      "metadata": {
        "id": "QS8J9e9f8Fa0",
        "colab_type": "code",
        "colab": {}
      },
      "source": [
        "X_trq = pickle.load(open(\"X_trqf.pickel\",\"rb\"))\n",
        "X_teq = pickle.load(open(\"X_teqf.pickel\",\"rb\"))"
      ],
      "execution_count": null,
      "outputs": []
    },
    {
      "cell_type": "code",
      "metadata": {
        "id": "vBRGBHYB8Fa6",
        "colab_type": "code",
        "colab": {}
      },
      "source": [
        ""
      ],
      "execution_count": null,
      "outputs": []
    },
    {
      "cell_type": "code",
      "metadata": {
        "id": "Q9Sfp4tg8FbB",
        "colab_type": "code",
        "colab": {}
      },
      "source": [
        "%%time\n",
        "from tqdm import tqdm\n",
        "X_train_tokens,X_test_tokens=[],[]\n",
        "X_train_mask,X_test_mask=[],[] \n",
        "X_train_segment,X_test_segment=[],[]\n",
        "for i in tqdm(X_tr):\n",
        "    tokentoid,masked_array,segment_array=TokenizeAndConvertToIds(i) \n",
        "    X_train_tokens.append(tokentoid) \n",
        "    X_train_mask.append(masked_array)\n",
        "    X_train_segment.append(segment_array) \n",
        "for i in tqdm(X_te): \n",
        "    tokentoid,masked_array,segment_array=TokenizeAndConvertToIds(i)\n",
        "    X_test_tokens.append(tokentoid)\n",
        "    X_test_mask.append(masked_array)\n",
        "    X_test_segment.append(segment_array)\n"
      ],
      "execution_count": null,
      "outputs": []
    },
    {
      "cell_type": "code",
      "metadata": {
        "id": "JehsA0oY8FbJ",
        "colab_type": "code",
        "colab": {}
      },
      "source": [
        "X_train_tokens,X_test_tokens=np.asarray(X_train_tokens),np.asarray(X_test_tokens)\n",
        "X_train_mask,X_test_mask=np.asarray(X_train_mask),np.asarray(X_test_mask) \n",
        "X_train_segment,X_test_segment=np.asarray(X_train_segment),np.asarray(X_test_segment) "
      ],
      "execution_count": null,
      "outputs": []
    },
    {
      "cell_type": "code",
      "metadata": {
        "id": "V9naEICH8FbP",
        "colab_type": "code",
        "colab": {}
      },
      "source": [
        "def grader_alltokens_train(): \n",
        "    out = False \n",
        "    \n",
        "    if type(X_train_tokens) == np.ndarray:\n",
        "        \n",
        "        temp_shapes = (X_train_tokens.shape[1]==max_seq_length) and (X_train_mask.shape[1]==max_seq_length) and \\\n",
        "        (X_train_segment.shape[1]==max_seq_length) \n",
        "        \n",
        "        segment_temp = not np.any(X_train_segment)\n",
        "        \n",
        "        mask_temp = np.sum(X_train_mask==0) == np.sum(X_train_tokens==0)\n",
        "        \n",
        "        no_cls = np.sum(X_train_tokens==tokenizer.vocab['[CLS]'])==X_train_tokens.shape[0]\n",
        "        \n",
        "        no_sep = np.sum(X_train_tokens==tokenizer.vocab['[SEP]'])==X_train_tokens.shape[0]   \n",
        "        \n",
        "        out = temp_shapes and segment_temp and mask_temp and no_cls and no_sep\n",
        "      \n",
        "    else:\n",
        "        print('Type of all above token arrays should be numpy array not list')\n",
        "        out = False\n",
        "    assert(out==True)\n",
        "    return out\n",
        "\n",
        "grader_alltokens_train()"
      ],
      "execution_count": null,
      "outputs": []
    },
    {
      "cell_type": "code",
      "metadata": {
        "id": "9xO7QSey8FbW",
        "colab_type": "code",
        "colab": {}
      },
      "source": [
        "def grader_alltokens_test():\n",
        "    out = False\n",
        "    if type(X_test_tokens) == np.ndarray:\n",
        "        \n",
        "        temp_shapes = (X_test_tokens.shape[1]==max_seq_length) and (X_test_mask.shape[1]==max_seq_length) and \\\n",
        "        (X_test_segment.shape[1]==max_seq_length)\n",
        "        \n",
        "        segment_temp = not np.any(X_test_segment) \n",
        "        \n",
        "        mask_temp = np.sum(X_test_mask==0) == np.sum(X_test_tokens==0)\n",
        "        \n",
        "        no_cls = np.sum(X_test_tokens==tokenizer.vocab['[CLS]'])==X_test_tokens.shape[0]\n",
        "        \n",
        "        no_sep = np.sum(X_test_tokens==tokenizer.vocab['[SEP]'])==X_test_tokens.shape[0]\n",
        "        \n",
        "        out = temp_shapes and segment_temp and mask_temp and no_cls and no_sep\n",
        "      \n",
        "    else:\n",
        "        print('Type of all above token arrays should be numpy array not list')\n",
        "        out = False\n",
        "    assert(out==True)\n",
        "    return out\n",
        "grader_alltokens_test()"
      ],
      "execution_count": null,
      "outputs": []
    },
    {
      "cell_type": "code",
      "metadata": {
        "id": "hsNQg1bF8Fba",
        "colab_type": "code",
        "colab": {}
      },
      "source": [
        "# get the train output, BERT model will give one output so save in\n",
        "# X_train_pooled_output \n",
        "X_train_pooled_output=bert_model.predict([X_train_tokens,X_train_mask,X_train_segment])"
      ],
      "execution_count": null,
      "outputs": []
    },
    {
      "cell_type": "code",
      "metadata": {
        "id": "zMhTvDUE8Fbf",
        "colab_type": "code",
        "colab": {}
      },
      "source": [
        "pickle.dump(X_train_pooled_output,open('X_train_pooled_output.pkl','wb'))"
      ],
      "execution_count": null,
      "outputs": []
    },
    {
      "cell_type": "code",
      "metadata": {
        "id": "f8vtcZa-8Fbj",
        "colab_type": "code",
        "colab": {}
      },
      "source": [
        "# get the test output, BERT model will give one output so save in\n",
        "# X_test_pooled_output \n",
        "X_test_pooled_output=bert_model.predict([X_test_tokens,X_test_mask,X_test_segment])  "
      ],
      "execution_count": null,
      "outputs": []
    },
    {
      "cell_type": "code",
      "metadata": {
        "id": "jIia7Jow8Fbq",
        "colab_type": "code",
        "colab": {}
      },
      "source": [
        "##save all your results to disk so that, no need to run all again. \n",
        "pickle.dump(X_test_pooled_output,open('X_test_pooled_output.pkl','wb'))"
      ],
      "execution_count": null,
      "outputs": []
    },
    {
      "cell_type": "code",
      "metadata": {
        "id": "Y6lWepiy8Fbu",
        "colab_type": "code",
        "colab": {}
      },
      "source": [
        ""
      ],
      "execution_count": null,
      "outputs": []
    },
    {
      "cell_type": "code",
      "metadata": {
        "id": "K-d31GEr8Fb1",
        "colab_type": "code",
        "colab": {}
      },
      "source": [
        "X_train_pooled_output = pickle.load(open(\"X_train_pooled_output.pkl\",\"rb\"))\n",
        "X_test_pooled_output = pickle.load(open(\"X_test_pooled_output.pkl\",\"rb\"))"
      ],
      "execution_count": null,
      "outputs": []
    },
    {
      "cell_type": "code",
      "metadata": {
        "id": "ZHV8t5rJ8Fb3",
        "colab_type": "code",
        "colab": {}
      },
      "source": [
        ""
      ],
      "execution_count": null,
      "outputs": []
    },
    {
      "cell_type": "code",
      "metadata": {
        "id": "pImpwGNH8Fb6",
        "colab_type": "code",
        "colab": {}
      },
      "source": [
        ""
      ],
      "execution_count": null,
      "outputs": []
    },
    {
      "cell_type": "code",
      "metadata": {
        "id": "d1YSem698Fb_",
        "colab_type": "code",
        "colab": {}
      },
      "source": [
        ""
      ],
      "execution_count": null,
      "outputs": []
    },
    {
      "cell_type": "code",
      "metadata": {
        "id": "SkXLdzO28FcD",
        "colab_type": "code",
        "colab": {}
      },
      "source": [
        "from tqdm import tqdm\n",
        "X_train_tokens,X_test_tokens=[],[]\n",
        "X_train_mask,X_test_mask=[],[]\n",
        "X_train_segment,X_test_segment=[],[]\n",
        "for i in tqdm(X_trq):\n",
        "    tokentoid,masked_array,segment_array=TokenizeAndConvertToIds(i) \n",
        "    X_train_tokens.append(tokentoid) \n",
        "    X_train_mask.append(masked_array)\n",
        "    X_train_segment.append(segment_array) \n",
        "for i in tqdm(X_teq): \n",
        "    tokentoid,masked_array,segment_array=TokenizeAndConvertToIds(i)\n",
        "    X_test_tokens.append(tokentoid)\n",
        "    X_test_mask.append(masked_array)\n",
        "    X_test_segment.append(segment_array)"
      ],
      "execution_count": null,
      "outputs": []
    },
    {
      "cell_type": "code",
      "metadata": {
        "id": "tLtrQBWu8FcJ",
        "colab_type": "code",
        "colab": {}
      },
      "source": [
        "X_train_tokens,X_test_tokens=np.asarray(X_train_tokens),np.asarray(X_test_tokens)\n",
        "X_train_mask,X_test_mask=np.asarray(X_train_mask),np.asarray(X_test_mask) \n",
        "X_train_segment,X_test_segment=np.asarray(X_train_segment),np.asarray(X_test_segment) "
      ],
      "execution_count": null,
      "outputs": []
    },
    {
      "cell_type": "code",
      "metadata": {
        "id": "-M9-KQnU8FcM",
        "colab_type": "code",
        "colab": {}
      },
      "source": [
        "def grader_alltokens_train(): \n",
        "    out = False \n",
        "    \n",
        "    if type(X_train_tokens) == np.ndarray:\n",
        "        \n",
        "        temp_shapes = (X_train_tokens.shape[1]==max_seq_length) and (X_train_mask.shape[1]==max_seq_length) and \\\n",
        "        (X_train_segment.shape[1]==max_seq_length) \n",
        "        \n",
        "        segment_temp = not np.any(X_train_segment)\n",
        "        \n",
        "        mask_temp = np.sum(X_train_mask==0) == np.sum(X_train_tokens==0)\n",
        "        \n",
        "        no_cls = np.sum(X_train_tokens==tokenizer.vocab['[CLS]'])==X_train_tokens.shape[0]\n",
        "        \n",
        "        no_sep = np.sum(X_train_tokens==tokenizer.vocab['[SEP]'])==X_train_tokens.shape[0]   \n",
        "        \n",
        "        out = temp_shapes and segment_temp and mask_temp and no_cls and no_sep\n",
        "      \n",
        "    else:\n",
        "        print('Type of all above token arrays should be numpy array not list')\n",
        "        out = False\n",
        "    assert(out==True)\n",
        "    return out\n",
        "\n",
        "grader_alltokens_train()"
      ],
      "execution_count": null,
      "outputs": []
    },
    {
      "cell_type": "code",
      "metadata": {
        "id": "ln_AsvjT8FcP",
        "colab_type": "code",
        "colab": {}
      },
      "source": [
        "def grader_alltokens_test():\n",
        "    out = False\n",
        "    if type(X_test_tokens) == np.ndarray:\n",
        "        \n",
        "        temp_shapes = (X_test_tokens.shape[1]==max_seq_length) and (X_test_mask.shape[1]==max_seq_length) and \\\n",
        "        (X_test_segment.shape[1]==max_seq_length)\n",
        "        \n",
        "        segment_temp = not np.any(X_test_segment) \n",
        "        \n",
        "        mask_temp = np.sum(X_test_mask==0) == np.sum(X_test_tokens==0)\n",
        "        \n",
        "        no_cls = np.sum(X_test_tokens==tokenizer.vocab['[CLS]'])==X_test_tokens.shape[0]\n",
        "        \n",
        "        no_sep = np.sum(X_test_tokens==tokenizer.vocab['[SEP]'])==X_test_tokens.shape[0]\n",
        "        \n",
        "        out = temp_shapes and segment_temp and mask_temp and no_cls and no_sep\n",
        "      \n",
        "    else:\n",
        "        print('Type of all above token arrays should be numpy array not list')\n",
        "        out = False\n",
        "    assert(out==True)\n",
        "    return out\n",
        "grader_alltokens_test()"
      ],
      "execution_count": null,
      "outputs": []
    },
    {
      "cell_type": "code",
      "metadata": {
        "id": "vOQ1FyJh8FcS",
        "colab_type": "code",
        "colab": {}
      },
      "source": [
        ""
      ],
      "execution_count": null,
      "outputs": []
    },
    {
      "cell_type": "code",
      "metadata": {
        "id": "w44YTzz38FcV",
        "colab_type": "code",
        "colab": {}
      },
      "source": [
        "# get the train output, BERT model will give one output so save in\n",
        "# X_train_pooled_output \n",
        "X_train_pooled_outputq=bert_model.predict([X_train_tokens,X_train_mask,X_train_segment])"
      ],
      "execution_count": null,
      "outputs": []
    },
    {
      "cell_type": "code",
      "metadata": {
        "id": "XSQoMfcy8FcY",
        "colab_type": "code",
        "colab": {}
      },
      "source": [
        "# get the test output, BERT model will give one output so save in\n",
        "# X_test_pooled_output \n",
        "X_test_pooled_outputq=bert_model.predict([X_test_tokens,X_test_mask,X_test_segment])  "
      ],
      "execution_count": null,
      "outputs": []
    },
    {
      "cell_type": "code",
      "metadata": {
        "id": "X4ArsigQ8Fca",
        "colab_type": "code",
        "colab": {}
      },
      "source": [
        "##save all your results to disk so that, no need to run all again. \n",
        "pickle.dump(X_train_pooled_outputq,open('X_train_pooled_outputq.pkl','wb'))\n",
        "pickle.dump(X_test_pooled_outputq,open('X_test_pooled_outputq.pkl','wb'))"
      ],
      "execution_count": null,
      "outputs": []
    },
    {
      "cell_type": "code",
      "metadata": {
        "id": "3Xjc-6pW8Fcd",
        "colab_type": "code",
        "colab": {}
      },
      "source": [
        ""
      ],
      "execution_count": null,
      "outputs": []
    },
    {
      "cell_type": "code",
      "metadata": {
        "id": "7TWp9tMb8Fcf",
        "colab_type": "code",
        "colab": {}
      },
      "source": [
        ""
      ],
      "execution_count": null,
      "outputs": []
    },
    {
      "cell_type": "code",
      "metadata": {
        "id": "yRdGAQWO8Fci",
        "colab_type": "code",
        "colab": {}
      },
      "source": [
        ""
      ],
      "execution_count": null,
      "outputs": []
    },
    {
      "cell_type": "code",
      "metadata": {
        "id": "L1CXXzNr8Fcm",
        "colab_type": "code",
        "colab": {}
      },
      "source": [
        "X_train_pooled_outputq = pickle.load(open(\"X_train_pooled_outputq.pkl\",\"rb\"))\n",
        "X_test_pooled_outputq = pickle.load(open(\"X_test_pooled_outputq.pkl\",\"rb\"))"
      ],
      "execution_count": null,
      "outputs": []
    },
    {
      "cell_type": "markdown",
      "metadata": {
        "id": "6jtuFTBP8Fco",
        "colab_type": "text"
      },
      "source": [
        "## Reshaping the data"
      ]
    },
    {
      "cell_type": "code",
      "metadata": {
        "id": "Jl2haQLc8Fco",
        "colab_type": "code",
        "colab": {}
      },
      "source": [
        "X_traint=X_train_pooled_output.reshape(X_train_pooled_output.shape[0],X_train_pooled_output.shape[1],1) "
      ],
      "execution_count": null,
      "outputs": []
    },
    {
      "cell_type": "code",
      "metadata": {
        "id": "HYAzEOH98Fcu",
        "colab_type": "code",
        "colab": {}
      },
      "source": [
        "X_trainq=X_train_pooled_outputq.reshape(X_train_pooled_outputq.shape[0],X_train_pooled_outputq.shape[1],1) "
      ],
      "execution_count": null,
      "outputs": []
    },
    {
      "cell_type": "code",
      "metadata": {
        "id": "JI6iB4FC8Fc4",
        "colab_type": "code",
        "colab": {},
        "outputId": "779680e7-0795-4028-f9a6-d2c230fb49b2"
      },
      "source": [
        "print(X_traint.shape)\n",
        "print(X_trainq.shape)"
      ],
      "execution_count": null,
      "outputs": [
        {
          "output_type": "stream",
          "text": [
            "(14574, 768, 1)\n",
            "(14574, 768, 1)\n"
          ],
          "name": "stdout"
        }
      ]
    },
    {
      "cell_type": "code",
      "metadata": {
        "id": "y6-dGxhL8Fc9",
        "colab_type": "code",
        "colab": {}
      },
      "source": [
        ""
      ],
      "execution_count": null,
      "outputs": []
    },
    {
      "cell_type": "markdown",
      "metadata": {
        "id": "rMuQkJCG8FdC",
        "colab_type": "text"
      },
      "source": [
        "## Model "
      ]
    },
    {
      "cell_type": "code",
      "metadata": {
        "id": "s3bOP8V28FdD",
        "colab_type": "code",
        "colab": {}
      },
      "source": [
        "k = tf.keras.initializers.he_uniform(seed=None)"
      ],
      "execution_count": null,
      "outputs": []
    },
    {
      "cell_type": "code",
      "metadata": {
        "id": "Ey7LVF0w8FdG",
        "colab_type": "code",
        "colab": {}
      },
      "source": [
        ""
      ],
      "execution_count": null,
      "outputs": []
    },
    {
      "cell_type": "code",
      "metadata": {
        "id": "i0tSGBGI8FdJ",
        "colab_type": "code",
        "colab": {}
      },
      "source": [
        ""
      ],
      "execution_count": null,
      "outputs": []
    },
    {
      "cell_type": "markdown",
      "metadata": {
        "id": "DXSNbXma8FdL",
        "colab_type": "text"
      },
      "source": [
        "## Model 2"
      ]
    },
    {
      "cell_type": "code",
      "metadata": {
        "id": "N95yvUdX8FdM",
        "colab_type": "code",
        "colab": {}
      },
      "source": [
        ""
      ],
      "execution_count": null,
      "outputs": []
    },
    {
      "cell_type": "code",
      "metadata": {
        "scrolled": true,
        "id": "vyOB1Rvi8FdO",
        "colab_type": "code",
        "colab": {},
        "outputId": "6e923ad0-dcd8-47a5-8c95-8daf95c0782d"
      },
      "source": [
        "tokenizer = Tokenizer(lower=False, num_words=80000)\n",
        "\n",
        "for text in tqdm(X_train.question_text.values):\n",
        "    tokenizer.fit_on_texts(text.split(\" \"))"
      ],
      "execution_count": null,
      "outputs": [
        {
          "output_type": "stream",
          "text": [
            "/opt/conda/lib/python3.7/site-packages/ipykernel_launcher.py:3: TqdmDeprecationWarning:\n",
            "\n",
            "This function will be removed in tqdm==5.0.0\n",
            "Please use `tqdm.notebook.tqdm` instead of `tqdm.tqdm_notebook`\n",
            "\n"
          ],
          "name": "stderr"
        },
        {
          "output_type": "display_data",
          "data": {
            "application/vnd.jupyter.widget-view+json": {
              "model_id": "4ec8db2ca22d4cd2b5dc2ce83e721583",
              "version_major": 2,
              "version_minor": 0
            },
            "text/plain": [
              "HBox(children=(FloatProgress(value=0.0, max=14574.0), HTML(value='')))"
            ]
          },
          "metadata": {
            "tags": []
          }
        },
        {
          "output_type": "stream",
          "text": [
            "\n"
          ],
          "name": "stdout"
        }
      ]
    },
    {
      "cell_type": "code",
      "metadata": {
        "id": "irUQNnkr8FdR",
        "colab_type": "code",
        "colab": {}
      },
      "source": [
        "pickle.dump(tokenizer, open(\"tokenizershort.pickel\", \"wb\"))\n"
      ],
      "execution_count": null,
      "outputs": []
    },
    {
      "cell_type": "code",
      "metadata": {
        "id": "sol_qDuA8FdU",
        "colab_type": "code",
        "colab": {}
      },
      "source": [
        "tokenizer = pickle.load(open(\"tokenizershort.pickel\",\"rb\"))"
      ],
      "execution_count": null,
      "outputs": []
    },
    {
      "cell_type": "code",
      "metadata": {
        "scrolled": false,
        "id": "I60umi2J8FdW",
        "colab_type": "code",
        "colab": {}
      },
      "source": [
        "def compute_text_and_questions(X_train,tokenizer):\n",
        "    \n",
        "    #train_text = tokenizer.texts_to_sequences(X_train.text.values)\n",
        "    train_questions = tokenizer.texts_to_sequences(X_train.question_text.values)  \n",
        "    #train_text = sequence.pad_sequences(train_text, maxlen=300)\n",
        "    train_questions = sequence.pad_sequences(train_questions)\n",
        "\n",
        "    return train_questions\n"
      ],
      "execution_count": null,
      "outputs": []
    },
    {
      "cell_type": "code",
      "metadata": {
        "id": "7Zhhz-Dm8FdZ",
        "colab_type": "code",
        "colab": {}
      },
      "source": [
        "def compute_text_and_questions1(X_test,tokenizer):\n",
        "    \n",
        "    test_questions = tokenizer.texts_to_sequences(X_test.question_text.values)\n",
        "    \n",
        "    \n",
        "    #train_text = sequence.pad_sequences(train_text, maxlen=300)\n",
        "    test_questions = sequence.pad_sequences(test_questions)\n",
        "\n",
        "   # return train_text, train_questions,cv_text,cv_questions, test_text, test_questions\n",
        "    return test_questions\n"
      ],
      "execution_count": null,
      "outputs": []
    },
    {
      "cell_type": "code",
      "metadata": {
        "id": "DuTHt5Vh8Fdb",
        "colab_type": "code",
        "colab": {}
      },
      "source": [
        "train_questions=compute_text_and_questions(X_train,tokenizer)\n",
        "test_questions=compute_text_and_questions1(X_test,tokenizer)"
      ],
      "execution_count": null,
      "outputs": []
    },
    {
      "cell_type": "code",
      "metadata": {
        "id": "zU24wf6w8Fdg",
        "colab_type": "code",
        "colab": {}
      },
      "source": [
        ""
      ],
      "execution_count": null,
      "outputs": []
    },
    {
      "cell_type": "markdown",
      "metadata": {
        "id": "NjWKHB128Fdk",
        "colab_type": "text"
      },
      "source": [
        "## Embedding Matrix creation"
      ]
    },
    {
      "cell_type": "code",
      "metadata": {
        "id": "sdFtvUig8Fdk",
        "colab_type": "code",
        "colab": {}
      },
      "source": [
        "def build_embedding_matrix(tokenizer, path):\n",
        "    embedding_matrix = np.zeros((tokenizer.num_words + 1, 300))\n",
        "    ft_model = fasttext.load_model(path)\n",
        "\n",
        "    for word, i in tokenizer.word_index.items():\n",
        "        if i >= tokenizer.num_words - 1:\n",
        "            break\n",
        "        embedding_matrix[i] = ft_model.get_word_vector(word)\n",
        "    \n",
        "    return embedding_matrix"
      ],
      "execution_count": null,
      "outputs": []
    },
    {
      "cell_type": "code",
      "metadata": {
        "id": "B77FxPDn8Fdm",
        "colab_type": "code",
        "colab": {},
        "outputId": "b5e9b2d6-ab5c-4464-a4d3-051ee50049e3"
      },
      "source": [
        "path = 'crawl-300d-2M-subword.bin'\n",
        "embedding_matrix = build_embedding_matrix(tokenizer, path)"
      ],
      "execution_count": null,
      "outputs": [
        {
          "output_type": "stream",
          "text": [
            "Warning : `load_model` does not return WordVectorModel or SupervisedModel any more, but a `FastText` object which is very similar.\n"
          ],
          "name": "stderr"
        }
      ]
    },
    {
      "cell_type": "code",
      "metadata": {
        "id": "XeKCh2s48Fdo",
        "colab_type": "code",
        "colab": {},
        "outputId": "e4ffb0be-95d8-4380-adfd-ed707478eed0"
      },
      "source": [
        "embedding_matrix.shape"
      ],
      "execution_count": null,
      "outputs": [
        {
          "output_type": "execute_result",
          "data": {
            "text/plain": [
              "(80001, 300)"
            ]
          },
          "metadata": {
            "tags": []
          },
          "execution_count": 23
        }
      ]
    },
    {
      "cell_type": "code",
      "metadata": {
        "id": "495IwOfP8Fdq",
        "colab_type": "code",
        "colab": {}
      },
      "source": [
        "embedding = Embedding(\n",
        "        *embedding_matrix.shape, \n",
        "        weights=[embedding_matrix], \n",
        "        trainable=False, \n",
        "        mask_zero=True)"
      ],
      "execution_count": null,
      "outputs": []
    },
    {
      "cell_type": "markdown",
      "metadata": {
        "id": "iCrruKGk8Fdr",
        "colab_type": "text"
      },
      "source": [
        "## Getting train Reshape"
      ]
    },
    {
      "cell_type": "code",
      "metadata": {
        "id": "ucqrU5XM8Fdr",
        "colab_type": "code",
        "colab": {}
      },
      "source": [
        "X_traint=X_train_pooled_output.reshape(X_train_pooled_output.shape[0],X_train_pooled_output.shape[1],1) "
      ],
      "execution_count": null,
      "outputs": []
    },
    {
      "cell_type": "code",
      "metadata": {
        "scrolled": false,
        "id": "65xRHMpu8Fdt",
        "colab_type": "code",
        "colab": {}
      },
      "source": [
        "k = tf.keras.initializers.he_uniform(seed=None)"
      ],
      "execution_count": null,
      "outputs": []
    },
    {
      "cell_type": "markdown",
      "metadata": {
        "id": "WAPweyOE8Fdu",
        "colab_type": "text"
      },
      "source": [
        "## Model 2"
      ]
    },
    {
      "cell_type": "code",
      "metadata": {
        "id": "tX_LI79K8Fdv",
        "colab_type": "code",
        "colab": {}
      },
      "source": [
        "q_in = Input(shape=(None,),name='input1')\n",
        "q= embedding(q_in)\n",
        "q= layers.Bidirectional(tf.keras.layers.LSTM(32, activation=\"tanh\",recurrent_activation=\"sigmoid\",\n",
        "                                         return_sequences=True))(q)\n",
        "q=tf.keras.layers.LeakyReLU(alpha=0.3)(q) \n",
        "q= tensorflow.keras.layers.GlobalMaxPooling1D()(q)\n",
        "\n",
        "#q = embedding(q_in)\n",
        "#q = SpatialDropout1D(0.2)(q)\n",
        "#q = layers.Bidirectional(layers.LSTM(100, return_sequences=True))(q)\n",
        "#q = tensorflow.keras.layers.GlobalMaxPooling1D()(q)\n",
        "\n",
        "t_in = Input(shape=X_traint.shape[1:],name='input2')  \n",
        "t=Conv1D(32, kernel_size=(3), activation='relu',strides=1,name='text_conv1d')(t_in) \n",
        "t=Conv1D(64, kernel_size=(3), activation='relu', strides=1)(t) \n",
        "t=tf.keras.layers.LeakyReLU(alpha=0.3)(t)\n",
        "t= tensorflow.keras.layers.GlobalMaxPooling1D()(t)\n",
        "\n",
        "concat1 = concatenate([q, t])\n",
        "hidden = Dense(700, activation='relu',kernel_initializer=k)(concat1)\n",
        "hidden=tf.keras.layers.LeakyReLU(alpha=0.3)(hidden)\n",
        "hidden = Dropout(0.5)(hidden)\n",
        "hidden = Dense(600, activation='relu',kernel_initializer=k)(hidden)\n",
        "hidden=tf.keras.layers.LeakyReLU(alpha=0.3)(hidden)\n",
        "hidden = Dropout(0.5)(hidden)\n",
        "hidden = Dense(500, activation='relu',kernel_initializer=k)(hidden)\n",
        "#hidden=tf.keras.layers.LayerNormalization()(hidden)\n",
        "\n",
        "    \n",
        "out1 = Dense(1, activation='softplus',name='out1')(hidden)\n",
        "out2 = Dense(1, activation='softplus',name='out2')(hidden)\n",
        "out=Dense(3,activation='softmax',name='out')(hidden)\n",
        "\n",
        "model = Model(inputs=[q_in, t_in], outputs=[out1,out2,out])\n",
        "model.compile(loss={'out1':'mean_squared_logarithmic_error','out2':'mean_squared_logarithmic_error',\n",
        "                   'out':'categorical_crossentropy'} , optimizer=tf.keras.optimizers.Adam(learning_rate=0.03))"
      ],
      "execution_count": null,
      "outputs": []
    },
    {
      "cell_type": "code",
      "metadata": {
        "scrolled": false,
        "id": "7LOY2yuj8Fdw",
        "colab_type": "code",
        "colab": {},
        "outputId": "9017d0f5-1032-4ed4-9309-55f46f5cb419"
      },
      "source": [
        "print(model.summary())"
      ],
      "execution_count": null,
      "outputs": [
        {
          "output_type": "stream",
          "text": [
            "Model: \"functional_5\"\n",
            "__________________________________________________________________________________________________\n",
            "Layer (type)                    Output Shape         Param #     Connected to                     \n",
            "==================================================================================================\n",
            "input1 (InputLayer)             [(None, None)]       0                                            \n",
            "__________________________________________________________________________________________________\n",
            "input2 (InputLayer)             [(None, 768, 1)]     0                                            \n",
            "__________________________________________________________________________________________________\n",
            "embedding (Embedding)           (None, None, 300)    24000300    input1[0][0]                     \n",
            "__________________________________________________________________________________________________\n",
            "text_conv1d (Conv1D)            (None, 766, 32)      128         input2[0][0]                     \n",
            "__________________________________________________________________________________________________\n",
            "bidirectional_1 (Bidirectional) (None, None, 64)     85248       embedding[1][0]                  \n",
            "__________________________________________________________________________________________________\n",
            "conv1d_1 (Conv1D)               (None, 764, 64)      6208        text_conv1d[0][0]                \n",
            "__________________________________________________________________________________________________\n",
            "leaky_re_lu_4 (LeakyReLU)       (None, None, 64)     0           bidirectional_1[0][0]            \n",
            "__________________________________________________________________________________________________\n",
            "leaky_re_lu_5 (LeakyReLU)       (None, 764, 64)      0           conv1d_1[0][0]                   \n",
            "__________________________________________________________________________________________________\n",
            "global_max_pooling1d_2 (GlobalM (None, 64)           0           leaky_re_lu_4[0][0]              \n",
            "__________________________________________________________________________________________________\n",
            "global_max_pooling1d_3 (GlobalM (None, 64)           0           leaky_re_lu_5[0][0]              \n",
            "__________________________________________________________________________________________________\n",
            "concatenate_1 (Concatenate)     (None, 128)          0           global_max_pooling1d_2[0][0]     \n",
            "                                                                 global_max_pooling1d_3[0][0]     \n",
            "__________________________________________________________________________________________________\n",
            "dense_3 (Dense)                 (None, 700)          90300       concatenate_1[0][0]              \n",
            "__________________________________________________________________________________________________\n",
            "leaky_re_lu_6 (LeakyReLU)       (None, 700)          0           dense_3[0][0]                    \n",
            "__________________________________________________________________________________________________\n",
            "dropout_2 (Dropout)             (None, 700)          0           leaky_re_lu_6[0][0]              \n",
            "__________________________________________________________________________________________________\n",
            "dense_4 (Dense)                 (None, 600)          420600      dropout_2[0][0]                  \n",
            "__________________________________________________________________________________________________\n",
            "leaky_re_lu_7 (LeakyReLU)       (None, 600)          0           dense_4[0][0]                    \n",
            "__________________________________________________________________________________________________\n",
            "dropout_3 (Dropout)             (None, 600)          0           leaky_re_lu_7[0][0]              \n",
            "__________________________________________________________________________________________________\n",
            "dense_5 (Dense)                 (None, 500)          300500      dropout_3[0][0]                  \n",
            "__________________________________________________________________________________________________\n",
            "out1 (Dense)                    (None, 1)            501         dense_5[0][0]                    \n",
            "__________________________________________________________________________________________________\n",
            "out2 (Dense)                    (None, 1)            501         dense_5[0][0]                    \n",
            "__________________________________________________________________________________________________\n",
            "out (Dense)                     (None, 3)            1503        dense_5[0][0]                    \n",
            "==================================================================================================\n",
            "Total params: 24,905,789\n",
            "Trainable params: 905,489\n",
            "Non-trainable params: 24,000,300\n",
            "__________________________________________________________________________________________________\n",
            "None\n"
          ],
          "name": "stdout"
        }
      ]
    },
    {
      "cell_type": "code",
      "metadata": {
        "id": "dwef6T9R8Fdx",
        "colab_type": "code",
        "colab": {}
      },
      "source": [
        ""
      ],
      "execution_count": null,
      "outputs": []
    },
    {
      "cell_type": "code",
      "metadata": {
        "id": "bmIaoGLM8Fdz",
        "colab_type": "code",
        "colab": {}
      },
      "source": [
        ""
      ],
      "execution_count": null,
      "outputs": []
    },
    {
      "cell_type": "code",
      "metadata": {
        "id": "5Wq3cfgN8Fd1",
        "colab_type": "code",
        "colab": {}
      },
      "source": [
        ""
      ],
      "execution_count": null,
      "outputs": []
    },
    {
      "cell_type": "markdown",
      "metadata": {
        "id": "siQhHQoI8Fd2",
        "colab_type": "text"
      },
      "source": [
        "## Image 1"
      ]
    },
    {
      "cell_type": "code",
      "metadata": {
        "scrolled": false,
        "id": "IgCSru208Fd2",
        "colab_type": "code",
        "colab": {},
        "outputId": "a17a4939-027b-4ad5-d05e-02373ff08140"
      },
      "source": [
        "SVG(model_to_dot(model).create(prog='dot',format='svg'))"
      ],
      "execution_count": null,
      "outputs": [
        {
          "output_type": "execute_result",
          "data": {
            "image/svg+xml": "<svg height=\"1325pt\" viewBox=\"0.00 0.00 594.00 994.00\" width=\"792pt\" xmlns=\"http://www.w3.org/2000/svg\" xmlns:xlink=\"http://www.w3.org/1999/xlink\">\n<g class=\"graph\" id=\"graph0\" transform=\"scale(0.75 0.75) rotate(0) translate(4 990)\">\n<title>G</title>\n<polygon fill=\"white\" points=\"-4,4 -4,-990 590,-990 590,4 -4,4\" stroke=\"transparent\"/>\n<!-- 140158303478544 -->\n<g class=\"node\" id=\"node1\">\n<title>140158303478544</title>\n<polygon fill=\"none\" points=\"82.5,-949.5 82.5,-985.5 201.5,-985.5 201.5,-949.5 82.5,-949.5\" stroke=\"black\"/>\n<text font-family=\"Times,serif\" font-size=\"14.00\" text-anchor=\"middle\" x=\"142\" y=\"-963.8\">input1: InputLayer</text>\n</g>\n<!-- 140157024983504 -->\n<g class=\"node\" id=\"node3\">\n<title>140157024983504</title>\n<polygon fill=\"none\" points=\"68,-876.5 68,-912.5 216,-912.5 216,-876.5 68,-876.5\" stroke=\"black\"/>\n<text font-family=\"Times,serif\" font-size=\"14.00\" text-anchor=\"middle\" x=\"142\" y=\"-890.8\">embedding: Embedding</text>\n</g>\n<!-- 140158303478544&#45;&gt;140157024983504 -->\n<g class=\"edge\" id=\"edge1\">\n<title>140158303478544-&gt;140157024983504</title>\n<path d=\"M142,-949.31C142,-941.29 142,-931.55 142,-922.57\" fill=\"none\" stroke=\"black\"/>\n<polygon fill=\"black\" points=\"145.5,-922.53 142,-912.53 138.5,-922.53 145.5,-922.53\" stroke=\"black\"/>\n</g>\n<!-- 140158303254160 -->\n<g class=\"node\" id=\"node2\">\n<title>140158303254160</title>\n<polygon fill=\"none\" points=\"384.5,-949.5 384.5,-985.5 503.5,-985.5 503.5,-949.5 384.5,-949.5\" stroke=\"black\"/>\n<text font-family=\"Times,serif\" font-size=\"14.00\" text-anchor=\"middle\" x=\"444\" y=\"-963.8\">input2: InputLayer</text>\n</g>\n<!-- 140158300457360 -->\n<g class=\"node\" id=\"node4\">\n<title>140158300457360</title>\n<polygon fill=\"none\" points=\"375.5,-876.5 375.5,-912.5 512.5,-912.5 512.5,-876.5 375.5,-876.5\" stroke=\"black\"/>\n<text font-family=\"Times,serif\" font-size=\"14.00\" text-anchor=\"middle\" x=\"444\" y=\"-890.8\">text_conv1d: Conv1D</text>\n</g>\n<!-- 140158303254160&#45;&gt;140158300457360 -->\n<g class=\"edge\" id=\"edge2\">\n<title>140158303254160-&gt;140158300457360</title>\n<path d=\"M444,-949.31C444,-941.29 444,-931.55 444,-922.57\" fill=\"none\" stroke=\"black\"/>\n<polygon fill=\"black\" points=\"447.5,-922.53 444,-912.53 440.5,-922.53 447.5,-922.53\" stroke=\"black\"/>\n</g>\n<!-- 140158303267856 -->\n<g class=\"node\" id=\"node5\">\n<title>140158303267856</title>\n<polygon fill=\"none\" points=\"7.5,-803.5 7.5,-839.5 276.5,-839.5 276.5,-803.5 7.5,-803.5\" stroke=\"black\"/>\n<text font-family=\"Times,serif\" font-size=\"14.00\" text-anchor=\"middle\" x=\"142\" y=\"-817.8\">bidirectional_1(lstm_1): Bidirectional(LSTM)</text>\n</g>\n<!-- 140157024983504&#45;&gt;140158303267856 -->\n<g class=\"edge\" id=\"edge3\">\n<title>140157024983504-&gt;140158303267856</title>\n<path d=\"M142,-876.31C142,-868.29 142,-858.55 142,-849.57\" fill=\"none\" stroke=\"black\"/>\n<polygon fill=\"black\" points=\"145.5,-849.53 142,-839.53 138.5,-849.53 145.5,-849.53\" stroke=\"black\"/>\n</g>\n<!-- 140155264757200 -->\n<g class=\"node\" id=\"node6\">\n<title>140155264757200</title>\n<polygon fill=\"none\" points=\"382.5,-803.5 382.5,-839.5 505.5,-839.5 505.5,-803.5 382.5,-803.5\" stroke=\"black\"/>\n<text font-family=\"Times,serif\" font-size=\"14.00\" text-anchor=\"middle\" x=\"444\" y=\"-817.8\">conv1d_1: Conv1D</text>\n</g>\n<!-- 140158300457360&#45;&gt;140155264757200 -->\n<g class=\"edge\" id=\"edge4\">\n<title>140158300457360-&gt;140155264757200</title>\n<path d=\"M444,-876.31C444,-868.29 444,-858.55 444,-849.57\" fill=\"none\" stroke=\"black\"/>\n<polygon fill=\"black\" points=\"447.5,-849.53 444,-839.53 440.5,-849.53 447.5,-849.53\" stroke=\"black\"/>\n</g>\n<!-- 140158303478672 -->\n<g class=\"node\" id=\"node7\">\n<title>140158303478672</title>\n<polygon fill=\"none\" points=\"58,-730.5 58,-766.5 226,-766.5 226,-730.5 58,-730.5\" stroke=\"black\"/>\n<text font-family=\"Times,serif\" font-size=\"14.00\" text-anchor=\"middle\" x=\"142\" y=\"-744.8\">leaky_re_lu_4: LeakyReLU</text>\n</g>\n<!-- 140158303267856&#45;&gt;140158303478672 -->\n<g class=\"edge\" id=\"edge5\">\n<title>140158303267856-&gt;140158303478672</title>\n<path d=\"M142,-803.31C142,-795.29 142,-785.55 142,-776.57\" fill=\"none\" stroke=\"black\"/>\n<polygon fill=\"black\" points=\"145.5,-776.53 142,-766.53 138.5,-776.53 145.5,-776.53\" stroke=\"black\"/>\n</g>\n<!-- 140158297685456 -->\n<g class=\"node\" id=\"node8\">\n<title>140158297685456</title>\n<polygon fill=\"none\" points=\"360,-730.5 360,-766.5 528,-766.5 528,-730.5 360,-730.5\" stroke=\"black\"/>\n<text font-family=\"Times,serif\" font-size=\"14.00\" text-anchor=\"middle\" x=\"444\" y=\"-744.8\">leaky_re_lu_5: LeakyReLU</text>\n</g>\n<!-- 140155264757200&#45;&gt;140158297685456 -->\n<g class=\"edge\" id=\"edge6\">\n<title>140155264757200-&gt;140158297685456</title>\n<path d=\"M444,-803.31C444,-795.29 444,-785.55 444,-776.57\" fill=\"none\" stroke=\"black\"/>\n<polygon fill=\"black\" points=\"447.5,-776.53 444,-766.53 440.5,-776.53 447.5,-776.53\" stroke=\"black\"/>\n</g>\n<!-- 140158303228112 -->\n<g class=\"node\" id=\"node9\">\n<title>140158303228112</title>\n<polygon fill=\"none\" points=\"0,-657.5 0,-693.5 284,-693.5 284,-657.5 0,-657.5\" stroke=\"black\"/>\n<text font-family=\"Times,serif\" font-size=\"14.00\" text-anchor=\"middle\" x=\"142\" y=\"-671.8\">global_max_pooling1d_2: GlobalMaxPooling1D</text>\n</g>\n<!-- 140158303478672&#45;&gt;140158303228112 -->\n<g class=\"edge\" id=\"edge7\">\n<title>140158303478672-&gt;140158303228112</title>\n<path d=\"M142,-730.31C142,-722.29 142,-712.55 142,-703.57\" fill=\"none\" stroke=\"black\"/>\n<polygon fill=\"black\" points=\"145.5,-703.53 142,-693.53 138.5,-703.53 145.5,-703.53\" stroke=\"black\"/>\n</g>\n<!-- 140158303952784 -->\n<g class=\"node\" id=\"node10\">\n<title>140158303952784</title>\n<polygon fill=\"none\" points=\"302,-657.5 302,-693.5 586,-693.5 586,-657.5 302,-657.5\" stroke=\"black\"/>\n<text font-family=\"Times,serif\" font-size=\"14.00\" text-anchor=\"middle\" x=\"444\" y=\"-671.8\">global_max_pooling1d_3: GlobalMaxPooling1D</text>\n</g>\n<!-- 140158297685456&#45;&gt;140158303952784 -->\n<g class=\"edge\" id=\"edge8\">\n<title>140158297685456-&gt;140158303952784</title>\n<path d=\"M444,-730.31C444,-722.29 444,-712.55 444,-703.57\" fill=\"none\" stroke=\"black\"/>\n<polygon fill=\"black\" points=\"447.5,-703.53 444,-693.53 440.5,-703.53 447.5,-703.53\" stroke=\"black\"/>\n</g>\n<!-- 140158297695568 -->\n<g class=\"node\" id=\"node11\">\n<title>140158297695568</title>\n<polygon fill=\"none\" points=\"209,-584.5 209,-620.5 377,-620.5 377,-584.5 209,-584.5\" stroke=\"black\"/>\n<text font-family=\"Times,serif\" font-size=\"14.00\" text-anchor=\"middle\" x=\"293\" y=\"-598.8\">concatenate_1: Concatenate</text>\n</g>\n<!-- 140158303228112&#45;&gt;140158297695568 -->\n<g class=\"edge\" id=\"edge9\">\n<title>140158303228112-&gt;140158297695568</title>\n<path d=\"M178.17,-657.49C198.93,-647.73 225.21,-635.38 247.38,-624.95\" fill=\"none\" stroke=\"black\"/>\n<polygon fill=\"black\" points=\"249.04,-628.04 256.6,-620.61 246.06,-621.7 249.04,-628.04\" stroke=\"black\"/>\n</g>\n<!-- 140158303952784&#45;&gt;140158297695568 -->\n<g class=\"edge\" id=\"edge10\">\n<title>140158303952784-&gt;140158297695568</title>\n<path d=\"M407.83,-657.49C387.07,-647.73 360.79,-635.38 338.62,-624.95\" fill=\"none\" stroke=\"black\"/>\n<polygon fill=\"black\" points=\"339.94,-621.7 329.4,-620.61 336.96,-628.04 339.94,-621.7\" stroke=\"black\"/>\n</g>\n<!-- 140158304181840 -->\n<g class=\"node\" id=\"node12\">\n<title>140158304181840</title>\n<polygon fill=\"none\" points=\"242,-511.5 242,-547.5 344,-547.5 344,-511.5 242,-511.5\" stroke=\"black\"/>\n<text font-family=\"Times,serif\" font-size=\"14.00\" text-anchor=\"middle\" x=\"293\" y=\"-525.8\">dense_3: Dense</text>\n</g>\n<!-- 140158297695568&#45;&gt;140158304181840 -->\n<g class=\"edge\" id=\"edge11\">\n<title>140158297695568-&gt;140158304181840</title>\n<path d=\"M293,-584.31C293,-576.29 293,-566.55 293,-557.57\" fill=\"none\" stroke=\"black\"/>\n<polygon fill=\"black\" points=\"296.5,-557.53 293,-547.53 289.5,-557.53 296.5,-557.53\" stroke=\"black\"/>\n</g>\n<!-- 140155272974288 -->\n<g class=\"node\" id=\"node13\">\n<title>140155272974288</title>\n<polygon fill=\"none\" points=\"209,-438.5 209,-474.5 377,-474.5 377,-438.5 209,-438.5\" stroke=\"black\"/>\n<text font-family=\"Times,serif\" font-size=\"14.00\" text-anchor=\"middle\" x=\"293\" y=\"-452.8\">leaky_re_lu_6: LeakyReLU</text>\n</g>\n<!-- 140158304181840&#45;&gt;140155272974288 -->\n<g class=\"edge\" id=\"edge12\">\n<title>140158304181840-&gt;140155272974288</title>\n<path d=\"M293,-511.31C293,-503.29 293,-493.55 293,-484.57\" fill=\"none\" stroke=\"black\"/>\n<polygon fill=\"black\" points=\"296.5,-484.53 293,-474.53 289.5,-484.53 296.5,-484.53\" stroke=\"black\"/>\n</g>\n<!-- 140155245774864 -->\n<g class=\"node\" id=\"node14\">\n<title>140155245774864</title>\n<polygon fill=\"none\" points=\"230.5,-365.5 230.5,-401.5 355.5,-401.5 355.5,-365.5 230.5,-365.5\" stroke=\"black\"/>\n<text font-family=\"Times,serif\" font-size=\"14.00\" text-anchor=\"middle\" x=\"293\" y=\"-379.8\">dropout_2: Dropout</text>\n</g>\n<!-- 140155272974288&#45;&gt;140155245774864 -->\n<g class=\"edge\" id=\"edge13\">\n<title>140155272974288-&gt;140155245774864</title>\n<path d=\"M293,-438.31C293,-430.29 293,-420.55 293,-411.57\" fill=\"none\" stroke=\"black\"/>\n<polygon fill=\"black\" points=\"296.5,-411.53 293,-401.53 289.5,-411.53 296.5,-411.53\" stroke=\"black\"/>\n</g>\n<!-- 140155245776592 -->\n<g class=\"node\" id=\"node15\">\n<title>140155245776592</title>\n<polygon fill=\"none\" points=\"242,-292.5 242,-328.5 344,-328.5 344,-292.5 242,-292.5\" stroke=\"black\"/>\n<text font-family=\"Times,serif\" font-size=\"14.00\" text-anchor=\"middle\" x=\"293\" y=\"-306.8\">dense_4: Dense</text>\n</g>\n<!-- 140155245774864&#45;&gt;140155245776592 -->\n<g class=\"edge\" id=\"edge14\">\n<title>140155245774864-&gt;140155245776592</title>\n<path d=\"M293,-365.31C293,-357.29 293,-347.55 293,-338.57\" fill=\"none\" stroke=\"black\"/>\n<polygon fill=\"black\" points=\"296.5,-338.53 293,-328.53 289.5,-338.53 296.5,-338.53\" stroke=\"black\"/>\n</g>\n<!-- 140158297734672 -->\n<g class=\"node\" id=\"node16\">\n<title>140158297734672</title>\n<polygon fill=\"none\" points=\"209,-219.5 209,-255.5 377,-255.5 377,-219.5 209,-219.5\" stroke=\"black\"/>\n<text font-family=\"Times,serif\" font-size=\"14.00\" text-anchor=\"middle\" x=\"293\" y=\"-233.8\">leaky_re_lu_7: LeakyReLU</text>\n</g>\n<!-- 140155245776592&#45;&gt;140158297734672 -->\n<g class=\"edge\" id=\"edge15\">\n<title>140155245776592-&gt;140158297734672</title>\n<path d=\"M293,-292.31C293,-284.29 293,-274.55 293,-265.57\" fill=\"none\" stroke=\"black\"/>\n<polygon fill=\"black\" points=\"296.5,-265.53 293,-255.53 289.5,-265.53 296.5,-265.53\" stroke=\"black\"/>\n</g>\n<!-- 140158304558672 -->\n<g class=\"node\" id=\"node17\">\n<title>140158304558672</title>\n<polygon fill=\"none\" points=\"230.5,-146.5 230.5,-182.5 355.5,-182.5 355.5,-146.5 230.5,-146.5\" stroke=\"black\"/>\n<text font-family=\"Times,serif\" font-size=\"14.00\" text-anchor=\"middle\" x=\"293\" y=\"-160.8\">dropout_3: Dropout</text>\n</g>\n<!-- 140158297734672&#45;&gt;140158304558672 -->\n<g class=\"edge\" id=\"edge16\">\n<title>140158297734672-&gt;140158304558672</title>\n<path d=\"M293,-219.31C293,-211.29 293,-201.55 293,-192.57\" fill=\"none\" stroke=\"black\"/>\n<polygon fill=\"black\" points=\"296.5,-192.53 293,-182.53 289.5,-192.53 296.5,-192.53\" stroke=\"black\"/>\n</g>\n<!-- 140158304746128 -->\n<g class=\"node\" id=\"node18\">\n<title>140158304746128</title>\n<polygon fill=\"none\" points=\"242,-73.5 242,-109.5 344,-109.5 344,-73.5 242,-73.5\" stroke=\"black\"/>\n<text font-family=\"Times,serif\" font-size=\"14.00\" text-anchor=\"middle\" x=\"293\" y=\"-87.8\">dense_5: Dense</text>\n</g>\n<!-- 140158304558672&#45;&gt;140158304746128 -->\n<g class=\"edge\" id=\"edge17\">\n<title>140158304558672-&gt;140158304746128</title>\n<path d=\"M293,-146.31C293,-138.29 293,-128.55 293,-119.57\" fill=\"none\" stroke=\"black\"/>\n<polygon fill=\"black\" points=\"296.5,-119.53 293,-109.53 289.5,-119.53 296.5,-119.53\" stroke=\"black\"/>\n</g>\n<!-- 140158304682384 -->\n<g class=\"node\" id=\"node19\">\n<title>140158304682384</title>\n<polygon fill=\"none\" points=\"152,-0.5 152,-36.5 234,-36.5 234,-0.5 152,-0.5\" stroke=\"black\"/>\n<text font-family=\"Times,serif\" font-size=\"14.00\" text-anchor=\"middle\" x=\"193\" y=\"-14.8\">out1: Dense</text>\n</g>\n<!-- 140158304746128&#45;&gt;140158304682384 -->\n<g class=\"edge\" id=\"edge18\">\n<title>140158304746128-&gt;140158304682384</title>\n<path d=\"M269.05,-73.49C256.03,-64.25 239.75,-52.69 225.59,-42.64\" fill=\"none\" stroke=\"black\"/>\n<polygon fill=\"black\" points=\"227.28,-39.55 217.1,-36.61 223.23,-45.26 227.28,-39.55\" stroke=\"black\"/>\n</g>\n<!-- 140158297355408 -->\n<g class=\"node\" id=\"node20\">\n<title>140158297355408</title>\n<polygon fill=\"none\" points=\"252,-0.5 252,-36.5 334,-36.5 334,-0.5 252,-0.5\" stroke=\"black\"/>\n<text font-family=\"Times,serif\" font-size=\"14.00\" text-anchor=\"middle\" x=\"293\" y=\"-14.8\">out2: Dense</text>\n</g>\n<!-- 140158304746128&#45;&gt;140158297355408 -->\n<g class=\"edge\" id=\"edge19\">\n<title>140158304746128-&gt;140158297355408</title>\n<path d=\"M293,-73.31C293,-65.29 293,-55.55 293,-46.57\" fill=\"none\" stroke=\"black\"/>\n<polygon fill=\"black\" points=\"296.5,-46.53 293,-36.53 289.5,-46.53 296.5,-46.53\" stroke=\"black\"/>\n</g>\n<!-- 140158297400144 -->\n<g class=\"node\" id=\"node21\">\n<title>140158297400144</title>\n<polygon fill=\"none\" points=\"352.5,-0.5 352.5,-36.5 427.5,-36.5 427.5,-0.5 352.5,-0.5\" stroke=\"black\"/>\n<text font-family=\"Times,serif\" font-size=\"14.00\" text-anchor=\"middle\" x=\"390\" y=\"-14.8\">out: Dense</text>\n</g>\n<!-- 140158304746128&#45;&gt;140158297400144 -->\n<g class=\"edge\" id=\"edge20\">\n<title>140158304746128-&gt;140158297400144</title>\n<path d=\"M316.48,-73.31C329.11,-64.07 344.86,-52.54 358.53,-42.53\" fill=\"none\" stroke=\"black\"/>\n<polygon fill=\"black\" points=\"360.73,-45.26 366.74,-36.53 356.6,-39.61 360.73,-45.26\" stroke=\"black\"/>\n</g>\n</g>\n</svg>",
            "text/plain": [
              "<IPython.core.display.SVG object>"
            ]
          },
          "metadata": {
            "tags": []
          },
          "execution_count": 33
        }
      ]
    },
    {
      "cell_type": "code",
      "metadata": {
        "id": "JRVSkPqI8Fd5",
        "colab_type": "code",
        "colab": {}
      },
      "source": [
        ""
      ],
      "execution_count": null,
      "outputs": []
    },
    {
      "cell_type": "markdown",
      "metadata": {
        "id": "kb3nATXB8Fd8",
        "colab_type": "text"
      },
      "source": [
        "## Image 2"
      ]
    },
    {
      "cell_type": "code",
      "metadata": {
        "scrolled": true,
        "id": "YhA7MV7C8Fd8",
        "colab_type": "code",
        "colab": {},
        "outputId": "123a52df-e777-41b8-9f7c-57a9e97dab2e"
      },
      "source": [
        "tf.keras.utils.plot_model(model,to_file=\"modellong.png\",show_shapes=True)"
      ],
      "execution_count": null,
      "outputs": [
        {
          "output_type": "execute_result",
          "data": {
            "image/png": "[encoded data removed]",
            "text/plain": [
              "<IPython.core.display.Image object>"
            ]
          },
          "metadata": {
            "tags": []
          },
          "execution_count": 34
        }
      ]
    },
    {
      "cell_type": "code",
      "metadata": {
        "id": "3JV2iM598Fd-",
        "colab_type": "code",
        "colab": {}
      },
      "source": [
        ""
      ],
      "execution_count": null,
      "outputs": []
    },
    {
      "cell_type": "code",
      "metadata": {
        "id": "vC14F_Fd8FeA",
        "colab_type": "code",
        "colab": {}
      },
      "source": [
        ""
      ],
      "execution_count": null,
      "outputs": []
    },
    {
      "cell_type": "markdown",
      "metadata": {
        "id": "QEhTLtET8FeC",
        "colab_type": "text"
      },
      "source": [
        "## Start and End indices"
      ]
    },
    {
      "cell_type": "code",
      "metadata": {
        "id": "bB0k3vZj8FeC",
        "colab_type": "code",
        "colab": {}
      },
      "source": [
        "y_trainsi=np.array(y_train['start_index'].apply('int32'))\n",
        "#y_cvsi=np.array(y_cv['start_index'])\n",
        "y_testsi=np.array(y_test['start_index'].apply('int32'))\n",
        "\n",
        "y_trainei=np.array(y_train['end_index'].apply('int32'))\n",
        "#y_cvei=np.array(y_cv['end_index'])\n",
        "y_testei=np.array(y_test['end_index'].apply('int32'))"
      ],
      "execution_count": null,
      "outputs": []
    },
    {
      "cell_type": "code",
      "metadata": {
        "id": "nmE5jKMC8FeE",
        "colab_type": "code",
        "colab": {}
      },
      "source": [
        "filepath=\"shortmodel2.cp5\"\n",
        "checkpoint_1 = ModelCheckpoint(filepath,monitor=\"val_auroc\",mode=\"max\",save_best_only = True,verbose=1)"
      ],
      "execution_count": null,
      "outputs": []
    },
    {
      "cell_type": "code",
      "metadata": {
        "id": "VgYCVfio8FeF",
        "colab_type": "code",
        "colab": {}
      },
      "source": [
        "logdir = os.path.join(\"logssf2\", datetime.datetime.now().strftime(\"%Y%m%d-%H%M%S\"))\n",
        "tensorboard_callback = TensorBoard(logdir, histogram_freq=1)\n",
        "callbacks_3 = [tensorboard_callback,checkpoint_1]"
      ],
      "execution_count": null,
      "outputs": []
    },
    {
      "cell_type": "code",
      "metadata": {
        "id": "Ujm49-Q88FeG",
        "colab_type": "code",
        "colab": {}
      },
      "source": [
        "from tensorflow.keras.optimizers import SGD\n",
        "from swa.tfkeras import SWA"
      ],
      "execution_count": null,
      "outputs": []
    },
    {
      "cell_type": "code",
      "metadata": {
        "id": "vM16gC7f8FeH",
        "colab_type": "code",
        "colab": {}
      },
      "source": [
        ""
      ],
      "execution_count": null,
      "outputs": []
    },
    {
      "cell_type": "markdown",
      "metadata": {
        "id": "UPaEq3Hm8FeJ",
        "colab_type": "text"
      },
      "source": [
        "## YES_NO_NONE LABELS"
      ]
    },
    {
      "cell_type": "code",
      "metadata": {
        "id": "8XhEw51j8FeJ",
        "colab_type": "code",
        "colab": {}
      },
      "source": [
        "vectorizer = CountVectorizer()\n",
        "vectorizer.fit(y_train['yes_or_no']) \n",
        "\n",
        "y_train1=vectorizer.transform(y_train['yes_or_no'].values) \n",
        "#y_cv1 = vectorizer.transform(y_cv['yes_or_no'].values) \n",
        "y_test1 = vectorizer.transform(y_test['yes_or_no'].values) "
      ],
      "execution_count": null,
      "outputs": []
    },
    {
      "cell_type": "code",
      "metadata": {
        "id": "9nGFvRWO8FeK",
        "colab_type": "code",
        "colab": {}
      },
      "source": [
        "y_train1=y_train1.toarray() \n",
        "#y_cv1=y_cv1.toarray()\n",
        "y_test1=y_test1.toarray()"
      ],
      "execution_count": null,
      "outputs": []
    },
    {
      "cell_type": "markdown",
      "metadata": {
        "id": "MufKXT0t8FeM",
        "colab_type": "text"
      },
      "source": [
        "## Training"
      ]
    },
    {
      "cell_type": "code",
      "metadata": {
        "id": "tJpOx7Vn8FeM",
        "colab_type": "code",
        "colab": {},
        "outputId": "6fd779ed-8073-400a-c0de-e6fd13181266"
      },
      "source": [
        "tf.profiler.experimental.stop"
      ],
      "execution_count": null,
      "outputs": [
        {
          "output_type": "execute_result",
          "data": {
            "text/plain": [
              "<function tensorflow.python.profiler.profiler_v2.stop(save=True)>"
            ]
          },
          "metadata": {
            "tags": []
          },
          "execution_count": 45
        }
      ]
    },
    {
      "cell_type": "code",
      "metadata": {
        "scrolled": false,
        "id": "gRD-eKTV8FeN",
        "colab_type": "code",
        "colab": {},
        "outputId": "225d9c79-51d4-4f18-ec38-87cad64f65ef"
      },
      "source": [
        "train_history1 = model.fit({'input1':train_questions,'input2':X_traint}, \n",
        "                           {'out1':y_trainsi,'out2':y_trainei,'out':y_train1},\n",
        "    epochs=30,batch_size=620,validation_split=0.3,callbacks=callbacks_3)"
      ],
      "execution_count": null,
      "outputs": [
        {
          "output_type": "stream",
          "text": [
            "Epoch 1/30\n",
            " 1/17 [>.............................] - ETA: 0s - loss: 3.3464 - out1_loss: 1.6783 - out2_loss: 1.6324 - out_loss: 0.0357WARNING:tensorflow:From /opt/conda/lib/python3.7/site-packages/tensorflow/python/ops/summary_ops_v2.py:1277: stop (from tensorflow.python.eager.profiler) is deprecated and will be removed after 2020-07-01.\n",
            "Instructions for updating:\n",
            "use `tf.profiler.experimental.stop` instead.\n",
            "17/17 [==============================] - ETA: 0s - loss: 3.4106 - out1_loss: 1.6716 - out2_loss: 1.6246 - out_loss: 0.1144WARNING:tensorflow:Can save best model only with val_auroc available, skipping.\n",
            "17/17 [==============================] - 9s 521ms/step - loss: 3.4106 - out1_loss: 1.6716 - out2_loss: 1.6246 - out_loss: 0.1144 - val_loss: 4.4680 - val_out1_loss: 1.8561 - val_out2_loss: 1.8100 - val_out_loss: 0.8019\n",
            "Epoch 2/30\n",
            "17/17 [==============================] - ETA: 0s - loss: 3.4008 - out1_loss: 1.6726 - out2_loss: 1.6253 - out_loss: 0.1029WARNING:tensorflow:Can save best model only with val_auroc available, skipping.\n",
            "17/17 [==============================] - 8s 490ms/step - loss: 3.4008 - out1_loss: 1.6726 - out2_loss: 1.6253 - out_loss: 0.1029 - val_loss: 4.3797 - val_out1_loss: 1.8459 - val_out2_loss: 1.7999 - val_out_loss: 0.7340\n",
            "Epoch 3/30\n",
            "17/17 [==============================] - ETA: 0s - loss: 3.3860 - out1_loss: 1.6581 - out2_loss: 1.6119 - out_loss: 0.1160WARNING:tensorflow:Can save best model only with val_auroc available, skipping.\n",
            "17/17 [==============================] - 8s 489ms/step - loss: 3.3860 - out1_loss: 1.6581 - out2_loss: 1.6119 - out_loss: 0.1160 - val_loss: 4.4063 - val_out1_loss: 1.8473 - val_out2_loss: 1.8016 - val_out_loss: 0.7575\n",
            "Epoch 4/30\n",
            "17/17 [==============================] - ETA: 0s - loss: 3.3239 - out1_loss: 1.6363 - out2_loss: 1.5895 - out_loss: 0.0980WARNING:tensorflow:Can save best model only with val_auroc available, skipping.\n",
            "17/17 [==============================] - 8s 488ms/step - loss: 3.3239 - out1_loss: 1.6363 - out2_loss: 1.5895 - out_loss: 0.0980 - val_loss: 4.5146 - val_out1_loss: 1.8586 - val_out2_loss: 1.8130 - val_out_loss: 0.8430\n",
            "Epoch 5/30\n",
            "17/17 [==============================] - ETA: 0s - loss: 3.3055 - out1_loss: 1.6254 - out2_loss: 1.5796 - out_loss: 0.1005WARNING:tensorflow:Can save best model only with val_auroc available, skipping.\n",
            "17/17 [==============================] - 8s 488ms/step - loss: 3.3055 - out1_loss: 1.6254 - out2_loss: 1.5796 - out_loss: 0.1005 - val_loss: 4.5552 - val_out1_loss: 1.8601 - val_out2_loss: 1.8147 - val_out_loss: 0.8804\n",
            "Epoch 6/30\n",
            "17/17 [==============================] - ETA: 0s - loss: 3.2819 - out1_loss: 1.6187 - out2_loss: 1.5733 - out_loss: 0.0899WARNING:tensorflow:Can save best model only with val_auroc available, skipping.\n",
            "17/17 [==============================] - 8s 488ms/step - loss: 3.2819 - out1_loss: 1.6187 - out2_loss: 1.5733 - out_loss: 0.0899 - val_loss: 4.4103 - val_out1_loss: 1.8717 - val_out2_loss: 1.8269 - val_out_loss: 0.7117\n",
            "Epoch 7/30\n",
            "17/17 [==============================] - ETA: 0s - loss: 3.2775 - out1_loss: 1.6200 - out2_loss: 1.5747 - out_loss: 0.0828WARNING:tensorflow:Can save best model only with val_auroc available, skipping.\n",
            "17/17 [==============================] - 8s 488ms/step - loss: 3.2775 - out1_loss: 1.6200 - out2_loss: 1.5747 - out_loss: 0.0828 - val_loss: 4.4524 - val_out1_loss: 1.8461 - val_out2_loss: 1.8012 - val_out_loss: 0.8052\n",
            "Epoch 8/30\n",
            "17/17 [==============================] - ETA: 0s - loss: 3.2348 - out1_loss: 1.5962 - out2_loss: 1.5510 - out_loss: 0.0876WARNING:tensorflow:Can save best model only with val_auroc available, skipping.\n",
            "17/17 [==============================] - 8s 489ms/step - loss: 3.2348 - out1_loss: 1.5962 - out2_loss: 1.5510 - out_loss: 0.0876 - val_loss: 4.4656 - val_out1_loss: 1.8569 - val_out2_loss: 1.8123 - val_out_loss: 0.7963\n",
            "Epoch 9/30\n",
            "17/17 [==============================] - ETA: 0s - loss: 3.1969 - out1_loss: 1.5809 - out2_loss: 1.5361 - out_loss: 0.0799WARNING:tensorflow:Can save best model only with val_auroc available, skipping.\n",
            "17/17 [==============================] - 8s 488ms/step - loss: 3.1969 - out1_loss: 1.5809 - out2_loss: 1.5361 - out_loss: 0.0799 - val_loss: 4.5257 - val_out1_loss: 1.8636 - val_out2_loss: 1.8191 - val_out_loss: 0.8430\n",
            "Epoch 10/30\n",
            "17/17 [==============================] - ETA: 0s - loss: 3.1511 - out1_loss: 1.5676 - out2_loss: 1.5233 - out_loss: 0.0602WARNING:tensorflow:Can save best model only with val_auroc available, skipping.\n",
            "17/17 [==============================] - 8s 489ms/step - loss: 3.1511 - out1_loss: 1.5676 - out2_loss: 1.5233 - out_loss: 0.0602 - val_loss: 4.4883 - val_out1_loss: 1.8560 - val_out2_loss: 1.8119 - val_out_loss: 0.8204\n",
            "Epoch 11/30\n",
            "17/17 [==============================] - ETA: 0s - loss: 3.1180 - out1_loss: 1.5510 - out2_loss: 1.5065 - out_loss: 0.0606WARNING:tensorflow:Can save best model only with val_auroc available, skipping.\n",
            "17/17 [==============================] - 8s 488ms/step - loss: 3.1180 - out1_loss: 1.5510 - out2_loss: 1.5065 - out_loss: 0.0606 - val_loss: 4.4990 - val_out1_loss: 1.8544 - val_out2_loss: 1.8105 - val_out_loss: 0.8341\n",
            "Epoch 12/30\n",
            "17/17 [==============================] - ETA: 0s - loss: 3.0924 - out1_loss: 1.5423 - out2_loss: 1.4989 - out_loss: 0.0512WARNING:tensorflow:Can save best model only with val_auroc available, skipping.\n",
            "17/17 [==============================] - 8s 489ms/step - loss: 3.0924 - out1_loss: 1.5423 - out2_loss: 1.4989 - out_loss: 0.0512 - val_loss: 4.4865 - val_out1_loss: 1.8559 - val_out2_loss: 1.8125 - val_out_loss: 0.8181\n",
            "Epoch 13/30\n",
            "17/17 [==============================] - ETA: 0s - loss: 3.0722 - out1_loss: 1.5330 - out2_loss: 1.4897 - out_loss: 0.0495WARNING:tensorflow:Can save best model only with val_auroc available, skipping.\n",
            "17/17 [==============================] - 8s 489ms/step - loss: 3.0722 - out1_loss: 1.5330 - out2_loss: 1.4897 - out_loss: 0.0495 - val_loss: 4.4903 - val_out1_loss: 1.8637 - val_out2_loss: 1.8210 - val_out_loss: 0.8056\n",
            "Epoch 14/30\n",
            "17/17 [==============================] - ETA: 0s - loss: 3.0442 - out1_loss: 1.5179 - out2_loss: 1.4754 - out_loss: 0.0508WARNING:tensorflow:Can save best model only with val_auroc available, skipping.\n",
            "17/17 [==============================] - 8s 488ms/step - loss: 3.0442 - out1_loss: 1.5179 - out2_loss: 1.4754 - out_loss: 0.0508 - val_loss: 4.4710 - val_out1_loss: 1.8626 - val_out2_loss: 1.8194 - val_out_loss: 0.7889\n",
            "Epoch 15/30\n",
            "17/17 [==============================] - ETA: 0s - loss: 3.0233 - out1_loss: 1.5092 - out2_loss: 1.4666 - out_loss: 0.0476WARNING:tensorflow:Can save best model only with val_auroc available, skipping.\n",
            "17/17 [==============================] - 8s 491ms/step - loss: 3.0233 - out1_loss: 1.5092 - out2_loss: 1.4666 - out_loss: 0.0476 - val_loss: 4.6752 - val_out1_loss: 1.8552 - val_out2_loss: 1.8123 - val_out_loss: 1.0077\n",
            "Epoch 16/30\n",
            "17/17 [==============================] - ETA: 0s - loss: 3.0042 - out1_loss: 1.4985 - out2_loss: 1.4573 - out_loss: 0.0484WARNING:tensorflow:Can save best model only with val_auroc available, skipping.\n",
            "17/17 [==============================] - 8s 489ms/step - loss: 3.0042 - out1_loss: 1.4985 - out2_loss: 1.4573 - out_loss: 0.0484 - val_loss: 4.5809 - val_out1_loss: 1.8562 - val_out2_loss: 1.8144 - val_out_loss: 0.9102\n",
            "Epoch 17/30\n",
            "17/17 [==============================] - ETA: 0s - loss: 2.9445 - out1_loss: 1.4706 - out2_loss: 1.4297 - out_loss: 0.0442WARNING:tensorflow:Can save best model only with val_auroc available, skipping.\n",
            "17/17 [==============================] - 8s 489ms/step - loss: 2.9445 - out1_loss: 1.4706 - out2_loss: 1.4297 - out_loss: 0.0442 - val_loss: 4.5478 - val_out1_loss: 1.8622 - val_out2_loss: 1.8199 - val_out_loss: 0.8658\n",
            "Epoch 18/30\n",
            "17/17 [==============================] - ETA: 0s - loss: 2.9039 - out1_loss: 1.4526 - out2_loss: 1.4127 - out_loss: 0.0386WARNING:tensorflow:Can save best model only with val_auroc available, skipping.\n",
            "17/17 [==============================] - 8s 490ms/step - loss: 2.9039 - out1_loss: 1.4526 - out2_loss: 1.4127 - out_loss: 0.0386 - val_loss: 4.5909 - val_out1_loss: 1.8780 - val_out2_loss: 1.8370 - val_out_loss: 0.8759\n",
            "Epoch 19/30\n",
            "17/17 [==============================] - ETA: 0s - loss: 2.8845 - out1_loss: 1.4387 - out2_loss: 1.3992 - out_loss: 0.0466WARNING:tensorflow:Can save best model only with val_auroc available, skipping.\n",
            "17/17 [==============================] - 8s 491ms/step - loss: 2.8845 - out1_loss: 1.4387 - out2_loss: 1.3992 - out_loss: 0.0466 - val_loss: 4.5445 - val_out1_loss: 1.8856 - val_out2_loss: 1.8445 - val_out_loss: 0.8144\n",
            "Epoch 20/30\n",
            "17/17 [==============================] - ETA: 0s - loss: 2.8577 - out1_loss: 1.4291 - out2_loss: 1.3907 - out_loss: 0.0380WARNING:tensorflow:Can save best model only with val_auroc available, skipping.\n",
            "17/17 [==============================] - 8s 490ms/step - loss: 2.8577 - out1_loss: 1.4291 - out2_loss: 1.3907 - out_loss: 0.0380 - val_loss: 4.6699 - val_out1_loss: 1.8490 - val_out2_loss: 1.8073 - val_out_loss: 1.0136\n",
            "Epoch 21/30\n",
            "17/17 [==============================] - ETA: 0s - loss: 2.8362 - out1_loss: 1.4193 - out2_loss: 1.3805 - out_loss: 0.0364WARNING:tensorflow:Can save best model only with val_auroc available, skipping.\n",
            "17/17 [==============================] - 8s 491ms/step - loss: 2.8362 - out1_loss: 1.4193 - out2_loss: 1.3805 - out_loss: 0.0364 - val_loss: 4.5577 - val_out1_loss: 1.8957 - val_out2_loss: 1.8551 - val_out_loss: 0.8068\n",
            "Epoch 22/30\n",
            "17/17 [==============================] - ETA: 0s - loss: 2.7984 - out1_loss: 1.4026 - out2_loss: 1.3638 - out_loss: 0.0320WARNING:tensorflow:Can save best model only with val_auroc available, skipping.\n",
            "17/17 [==============================] - 8s 496ms/step - loss: 2.7984 - out1_loss: 1.4026 - out2_loss: 1.3638 - out_loss: 0.0320 - val_loss: 4.6701 - val_out1_loss: 1.8596 - val_out2_loss: 1.8187 - val_out_loss: 0.9918\n",
            "Epoch 23/30\n",
            "17/17 [==============================] - ETA: 0s - loss: 2.7670 - out1_loss: 1.3849 - out2_loss: 1.3473 - out_loss: 0.0347WARNING:tensorflow:Can save best model only with val_auroc available, skipping.\n",
            "17/17 [==============================] - 8s 491ms/step - loss: 2.7670 - out1_loss: 1.3849 - out2_loss: 1.3473 - out_loss: 0.0347 - val_loss: 4.6116 - val_out1_loss: 1.8717 - val_out2_loss: 1.8309 - val_out_loss: 0.9090\n",
            "Epoch 24/30\n",
            "17/17 [==============================] - ETA: 0s - loss: 2.7516 - out1_loss: 1.3768 - out2_loss: 1.3395 - out_loss: 0.0353WARNING:tensorflow:Can save best model only with val_auroc available, skipping.\n",
            "17/17 [==============================] - 8s 489ms/step - loss: 2.7516 - out1_loss: 1.3768 - out2_loss: 1.3395 - out_loss: 0.0353 - val_loss: 4.5526 - val_out1_loss: 1.9026 - val_out2_loss: 1.8622 - val_out_loss: 0.7879\n",
            "Epoch 25/30\n",
            "17/17 [==============================] - ETA: 0s - loss: 2.7372 - out1_loss: 1.3711 - out2_loss: 1.3337 - out_loss: 0.0324WARNING:tensorflow:Can save best model only with val_auroc available, skipping.\n",
            "17/17 [==============================] - 8s 489ms/step - loss: 2.7372 - out1_loss: 1.3711 - out2_loss: 1.3337 - out_loss: 0.0324 - val_loss: 4.6008 - val_out1_loss: 1.8802 - val_out2_loss: 1.8399 - val_out_loss: 0.8806\n",
            "Epoch 26/30\n",
            "17/17 [==============================] - ETA: 0s - loss: 2.6729 - out1_loss: 1.3371 - out2_loss: 1.3007 - out_loss: 0.0351WARNING:tensorflow:Can save best model only with val_auroc available, skipping.\n",
            "17/17 [==============================] - 8s 490ms/step - loss: 2.6729 - out1_loss: 1.3371 - out2_loss: 1.3007 - out_loss: 0.0351 - val_loss: 4.6256 - val_out1_loss: 1.8727 - val_out2_loss: 1.8318 - val_out_loss: 0.9211\n",
            "Epoch 27/30\n",
            "17/17 [==============================] - ETA: 0s - loss: 2.6580 - out1_loss: 1.3309 - out2_loss: 1.2949 - out_loss: 0.0321WARNING:tensorflow:Can save best model only with val_auroc available, skipping.\n",
            "17/17 [==============================] - 8s 489ms/step - loss: 2.6580 - out1_loss: 1.3309 - out2_loss: 1.2949 - out_loss: 0.0321 - val_loss: 4.7042 - val_out1_loss: 1.8785 - val_out2_loss: 1.8376 - val_out_loss: 0.9881\n",
            "Epoch 28/30\n",
            "17/17 [==============================] - ETA: 0s - loss: 2.6047 - out1_loss: 1.3046 - out2_loss: 1.2690 - out_loss: 0.0310WARNING:tensorflow:Can save best model only with val_auroc available, skipping.\n",
            "17/17 [==============================] - 8s 489ms/step - loss: 2.6047 - out1_loss: 1.3046 - out2_loss: 1.2690 - out_loss: 0.0310 - val_loss: 4.6666 - val_out1_loss: 1.8964 - val_out2_loss: 1.8561 - val_out_loss: 0.9141\n",
            "Epoch 29/30\n",
            "17/17 [==============================] - ETA: 0s - loss: 2.5645 - out1_loss: 1.2834 - out2_loss: 1.2490 - out_loss: 0.0321WARNING:tensorflow:Can save best model only with val_auroc available, skipping.\n",
            "17/17 [==============================] - 8s 488ms/step - loss: 2.5645 - out1_loss: 1.2834 - out2_loss: 1.2490 - out_loss: 0.0321 - val_loss: 4.6916 - val_out1_loss: 1.8972 - val_out2_loss: 1.8567 - val_out_loss: 0.9376\n",
            "Epoch 30/30\n",
            "17/17 [==============================] - ETA: 0s - loss: 2.5423 - out1_loss: 1.2719 - out2_loss: 1.2381 - out_loss: 0.0324WARNING:tensorflow:Can save best model only with val_auroc available, skipping.\n",
            "17/17 [==============================] - 8s 491ms/step - loss: 2.5423 - out1_loss: 1.2719 - out2_loss: 1.2381 - out_loss: 0.0324 - val_loss: 4.7027 - val_out1_loss: 1.9158 - val_out2_loss: 1.8757 - val_out_loss: 0.9112\n"
          ],
          "name": "stdout"
        }
      ]
    },
    {
      "cell_type": "code",
      "metadata": {
        "id": "GgvuDsTz8FeQ",
        "colab_type": "code",
        "colab": {}
      },
      "source": [
        ""
      ],
      "execution_count": null,
      "outputs": []
    },
    {
      "cell_type": "code",
      "metadata": {
        "id": "sosfVno58FeR",
        "colab_type": "code",
        "colab": {},
        "outputId": "30518403-b1c7-46a8-ee8e-9a76de9ff764"
      },
      "source": [
        "model.save('shortmodelfinal')"
      ],
      "execution_count": null,
      "outputs": [
        {
          "output_type": "stream",
          "text": [
            "WARNING:tensorflow:From /opt/conda/lib/python3.7/site-packages/tensorflow/python/training/tracking/tracking.py:111: Model.state_updates (from tensorflow.python.keras.engine.training) is deprecated and will be removed in a future version.\n",
            "Instructions for updating:\n",
            "This property should not be used in TensorFlow 2.0, as updates are applied automatically.\n",
            "WARNING:tensorflow:From /opt/conda/lib/python3.7/site-packages/tensorflow/python/training/tracking/tracking.py:111: Layer.updates (from tensorflow.python.keras.engine.base_layer) is deprecated and will be removed in a future version.\n",
            "Instructions for updating:\n",
            "This property should not be used in TensorFlow 2.0, as updates are applied automatically.\n",
            "INFO:tensorflow:Assets written to: shortmodelfinal/assets\n"
          ],
          "name": "stdout"
        }
      ]
    },
    {
      "cell_type": "code",
      "metadata": {
        "scrolled": false,
        "id": "NoOUpnXr8FeT",
        "colab_type": "code",
        "colab": {}
      },
      "source": [
        "%load_ext tensorboard"
      ],
      "execution_count": null,
      "outputs": []
    },
    {
      "cell_type": "code",
      "metadata": {
        "scrolled": false,
        "id": "evEqfP8f8FeW",
        "colab_type": "code",
        "colab": {},
        "outputId": "d81be573-cc3f-4a84-982a-5d30f6529b4c"
      },
      "source": [
        "%tensorboard --logdir logssf2 --port=6006 --bind_all"
      ],
      "execution_count": null,
      "outputs": [
        {
          "output_type": "display_data",
          "data": {
            "text/html": [
              "\n",
              "      <iframe id=\"tensorboard-frame-142e6bec14cba014\" width=\"100%\" height=\"800\" frameborder=\"0\">\n",
              "      </iframe>\n",
              "      <script>\n",
              "        (function() {\n",
              "          const frame = document.getElementById(\"tensorboard-frame-142e6bec14cba014\");\n",
              "          const url = new URL(\"/\", window.location);\n",
              "          const port = 6006;\n",
              "          if (port) {\n",
              "            url.port = port;\n",
              "          }\n",
              "          frame.src = url;\n",
              "        })();\n",
              "      </script>\n",
              "    "
            ],
            "text/plain": [
              "<IPython.core.display.HTML object>"
            ]
          },
          "metadata": {
            "tags": []
          }
        }
      ]
    },
    {
      "cell_type": "code",
      "metadata": {
        "id": "lzzbJFuY8FeX",
        "colab_type": "code",
        "colab": {}
      },
      "source": [
        ""
      ],
      "execution_count": null,
      "outputs": []
    },
    {
      "cell_type": "markdown",
      "metadata": {
        "id": "GT-CQT9I8FeY",
        "colab_type": "text"
      },
      "source": [
        "## Epoch vs Validation of Start Index"
      ]
    },
    {
      "cell_type": "code",
      "metadata": {
        "id": "OcPDLTHA8FeY",
        "colab_type": "code",
        "colab": {}
      },
      "source": [
        "def plt_dynamic(x, vy, ty, ax, colors=['b']):\n",
        "    ax.plot(x, vy, 'b', label=\"Val_out1_loss\") \n",
        "    ax.plot(x, ty, 'r', label=\"Train Loss\")                                       \n",
        "    plt.legend()\n",
        "    plt.grid()\n",
        "    fig.canvas.draw()\n",
        "    "
      ],
      "execution_count": null,
      "outputs": []
    },
    {
      "cell_type": "code",
      "metadata": {
        "id": "lTgGTgX58FeZ",
        "colab_type": "code",
        "colab": {},
        "outputId": "46d6dac5-e3f2-4495-db24-9d396a675a15"
      },
      "source": [
        "fig,ax = plt.subplots(1,1)\n",
        "ax.set_xlabel('epoch') ; ax.set_ylabel('binary Crossentropy Loss')\n",
        "\n",
        "# list of epoch numbers\n",
        "x = list(range(1,30+1))\n",
        "\n",
        "vy = train_history1.history['val_out1_loss']\n",
        "ty = train_history1.history['out1_loss']\n",
        "plt_dynamic(x, vy, ty, ax)"
      ],
      "execution_count": null,
      "outputs": [
        {
          "output_type": "display_data",
          "data": {
            "image/png": "[encoded data removed]",
            "text/plain": [
              "<Figure size 432x288 with 1 Axes>"
            ]
          },
          "metadata": {
            "tags": [],
            "needs_background": "light"
          }
        }
      ]
    },
    {
      "cell_type": "code",
      "metadata": {
        "id": "0ZsqICH-8Feb",
        "colab_type": "code",
        "colab": {}
      },
      "source": [
        ""
      ],
      "execution_count": null,
      "outputs": []
    },
    {
      "cell_type": "markdown",
      "metadata": {
        "id": "SjqG8yrS8Fec",
        "colab_type": "text"
      },
      "source": [
        "## Epoch vs Validation of End Index"
      ]
    },
    {
      "cell_type": "code",
      "metadata": {
        "id": "nBdaQXyc8Fec",
        "colab_type": "code",
        "colab": {}
      },
      "source": [
        "def plt_dynamic(x, vy, ty, ax, colors=['b']):\n",
        "    ax.plot(x, vy, 'b', label=\"Val_out2_loss\") \n",
        "    ax.plot(x, ty, 'r', label=\"out2_loss\")                                       \n",
        "    plt.legend()\n",
        "    plt.grid()\n",
        "    fig.canvas.draw()"
      ],
      "execution_count": null,
      "outputs": []
    },
    {
      "cell_type": "code",
      "metadata": {
        "id": "MMZsAA0V8Fed",
        "colab_type": "code",
        "colab": {},
        "outputId": "96037248-d6d7-40b7-b2a0-7cf4cef02027"
      },
      "source": [
        "fig,ax = plt.subplots(1,1)\n",
        "ax.set_xlabel('epoch') ; ax.set_ylabel('binary Crossentropy Loss')\n",
        "\n",
        "# list of epoch numbers\n",
        "x = list(range(1,30+1))\n",
        "\n",
        "vy = train_history1.history['val_out2_loss']\n",
        "ty = train_history1.history['out2_loss']\n",
        "plt_dynamic(x, vy, ty, ax)"
      ],
      "execution_count": null,
      "outputs": [
        {
          "output_type": "display_data",
          "data": {
            "image/png": "[encoded data removed]",
            "text/plain": [
              "<Figure size 432x288 with 1 Axes>"
            ]
          },
          "metadata": {
            "tags": [],
            "needs_background": "light"
          }
        }
      ]
    },
    {
      "cell_type": "markdown",
      "metadata": {
        "id": "82HY6ygg8Fef",
        "colab_type": "text"
      },
      "source": [
        "## Epoch vs Validation of YES_OR_NO DATA"
      ]
    },
    {
      "cell_type": "code",
      "metadata": {
        "id": "AJf8mP5W8Fef",
        "colab_type": "code",
        "colab": {}
      },
      "source": [
        "def plt_dynamic(x, vy, ty, ax, colors=['b']):\n",
        "    ax.plot(x, vy, 'b', label=\"Val_out_loss\") \n",
        "    ax.plot(x, ty, 'r', label=\"out_loss\")                                       \n",
        "    plt.legend()\n",
        "    plt.grid()\n",
        "    fig.canvas.draw()"
      ],
      "execution_count": null,
      "outputs": []
    },
    {
      "cell_type": "code",
      "metadata": {
        "scrolled": true,
        "id": "uZk-sEdK8Feg",
        "colab_type": "code",
        "colab": {},
        "outputId": "c378569e-4182-4a6a-ca8b-4d24ae201f28"
      },
      "source": [
        "fig,ax = plt.subplots(1,1)\n",
        "ax.set_xlabel('epoch') ; ax.set_ylabel('binary Crossentropy Loss')\n",
        "\n",
        "# list of epoch numbers\n",
        "x = list(range(1,30+1))\n",
        "\n",
        "vy = train_history1.history['val_out_loss']\n",
        "ty = train_history1.history['out_loss']\n",
        "plt_dynamic(x, vy, ty, ax)"
      ],
      "execution_count": null,
      "outputs": [
        {
          "output_type": "display_data",
          "data": {
            "image/png": "[encoded data removed]",
            "text/plain": [
              "<Figure size 432x288 with 1 Axes>"
            ]
          },
          "metadata": {
            "tags": [],
            "needs_background": "light"
          }
        }
      ]
    },
    {
      "cell_type": "code",
      "metadata": {
        "id": "WexXRfNv8Feh",
        "colab_type": "code",
        "colab": {}
      },
      "source": [
        ""
      ],
      "execution_count": null,
      "outputs": []
    },
    {
      "cell_type": "markdown",
      "metadata": {
        "id": "Rjz8QMjf8Fei",
        "colab_type": "text"
      },
      "source": [
        "## Predicting the Train Data"
      ]
    },
    {
      "cell_type": "code",
      "metadata": {
        "id": "Sf0-bSL98Fej",
        "colab_type": "code",
        "colab": {}
      },
      "source": [
        "predtrain1=model.predict([train_questions,X_traint])"
      ],
      "execution_count": null,
      "outputs": []
    },
    {
      "cell_type": "code",
      "metadata": {
        "id": "raVZfxwL8Fel",
        "colab_type": "code",
        "colab": {}
      },
      "source": [
        "trsite=[]\n",
        "for i in y_train['start_index']:\n",
        "    trsite.append(i)"
      ],
      "execution_count": null,
      "outputs": []
    },
    {
      "cell_type": "code",
      "metadata": {
        "id": "tKnqwevo8Fen",
        "colab_type": "code",
        "colab": {}
      },
      "source": [
        "treite=[]\n",
        "for i in y_train['end_index']:\n",
        "    treite.append(i)"
      ],
      "execution_count": null,
      "outputs": []
    },
    {
      "cell_type": "code",
      "metadata": {
        "id": "yTJ5V3e78Fep",
        "colab_type": "code",
        "colab": {}
      },
      "source": [
        "#true start indices\n",
        "trst=[]\n",
        "for i in range(len(trsite)):\n",
        "    c=int(trsite[i])\n",
        "    trst.append(c)"
      ],
      "execution_count": null,
      "outputs": []
    },
    {
      "cell_type": "code",
      "metadata": {
        "id": "9kNc2-RI8Feq",
        "colab_type": "code",
        "colab": {}
      },
      "source": [
        "#true end indices\n",
        "tren=[]\n",
        "for i in range(len(treite)):\n",
        "    c=int(treite[i])\n",
        "    tren.append(c)"
      ],
      "execution_count": null,
      "outputs": []
    },
    {
      "cell_type": "code",
      "metadata": {
        "id": "LJSYEY1L8Fer",
        "colab_type": "code",
        "colab": {}
      },
      "source": [
        "#pred start indices\n",
        "prst=[]\n",
        "for i in range(len(predtrain1[0])):\n",
        "    c=int(predtrain1[0][i][0])\n",
        "    prst.append(c) \n",
        "#pred end indices\n",
        "pren=[]\n",
        "for i in range(len(predtrain1[0])):\n",
        "    c=int(predtrain1[1][i][0])\n",
        "    pren.append(c)"
      ],
      "execution_count": null,
      "outputs": []
    },
    {
      "cell_type": "code",
      "metadata": {
        "id": "QItTMXWm8Fes",
        "colab_type": "code",
        "colab": {}
      },
      "source": [
        "pr=[]\n",
        "tr=[]\n",
        "for i in range(0,len(trst)): #data points count\n",
        "    tr.append(X_train['document_text'].values[i].split(\" \")[trst[i]:tren[i]]) #true start and end indices\n",
        "    pr.append(X_train['document_text'].values[i].split(\" \")[prst[i]:pren[i]])# pred start and end indices"
      ],
      "execution_count": null,
      "outputs": []
    },
    {
      "cell_type": "code",
      "metadata": {
        "id": "Ae84Gz6s8Feu",
        "colab_type": "code",
        "colab": {}
      },
      "source": [
        "def Avg(lst): \n",
        "    return sum(lst) / len(lst) "
      ],
      "execution_count": null,
      "outputs": []
    },
    {
      "cell_type": "markdown",
      "metadata": {
        "id": "IJGjS4Z_8Fev",
        "colab_type": "text"
      },
      "source": [
        "## Jaccardian Similarity of Train Data"
      ]
    },
    {
      "cell_type": "code",
      "metadata": {
        "id": "hWun9Y5e8Fev",
        "colab_type": "code",
        "colab": {},
        "outputId": "cd1a1187-612f-49b1-81e5-3aab232fb44b"
      },
      "source": [
        "def jaccard_similarity(tr,pr): #true values and pred values \n",
        "#intersection\n",
        "    jk=[]\n",
        "    for i in range(len(trst)):\n",
        "        a = set(tr[i])\n",
        "        b = set(pr[i]) \n",
        "        c= len(set(a).intersection(b))\n",
        "        jk.append(c) \n",
        "#union\n",
        "    vk=[]\n",
        "    for i in range(len(trst)):\n",
        "        a = set(tr[i])\n",
        "        b = set(pr[i])\n",
        "        v= len(list(a.union(b)))\n",
        "        vk.append(v)\n",
        "        \n",
        "#intersection/union        \n",
        "    f=[]\n",
        "    for i in range(len(jk)):\n",
        "        jac=jk[i]/(vk[i]+0.1)\n",
        "        f.append(jac)\n",
        "        \n",
        "    return Avg(f)\n",
        "    \n",
        "    \n",
        "print(\"The Jaccard Similarity for long answer model is:\",jaccard_similarity(tr,pr))"
      ],
      "execution_count": null,
      "outputs": [
        {
          "output_type": "stream",
          "text": [
            "The Jaccard Similarity for long answer model is: 0.016739399852015578\n"
          ],
          "name": "stdout"
        }
      ]
    },
    {
      "cell_type": "code",
      "metadata": {
        "id": "uqJd-qsz8Fex",
        "colab_type": "code",
        "colab": {}
      },
      "source": [
        ""
      ],
      "execution_count": null,
      "outputs": []
    },
    {
      "cell_type": "markdown",
      "metadata": {
        "id": "b7H6XUCM8Fez",
        "colab_type": "text"
      },
      "source": [
        "## Micro F1 Score of only yes_no label data points of Train Data"
      ]
    },
    {
      "cell_type": "code",
      "metadata": {
        "id": "lJqt-s798Fez",
        "colab_type": "code",
        "colab": {}
      },
      "source": [
        "indf=[]\n",
        "for i in range(len(predtrain1[0])): \n",
        "    arg_max=np.argmax(predtrain1[2][i])\n",
        "    indf.append(arg_max) "
      ],
      "execution_count": null,
      "outputs": []
    },
    {
      "cell_type": "code",
      "metadata": {
        "id": "oUgqzJer8Fe1",
        "colab_type": "code",
        "colab": {}
      },
      "source": [
        "yesnolist=[]\n",
        "for i in range(len(indf)):\n",
        "    if indf[i]==0:\n",
        "        yesnolist.append('NO')\n",
        "    elif indf[i]==1:\n",
        "        yesnolist.append('NONE')\n",
        "    elif indf[i]==2:\n",
        "        yesnolist.append('YES')"
      ],
      "execution_count": null,
      "outputs": []
    },
    {
      "cell_type": "code",
      "metadata": {
        "id": "d1ZgUfMc8Fe2",
        "colab_type": "code",
        "colab": {}
      },
      "source": [
        "trueyn=[]\n",
        "for i in y_train['yes_or_no']:\n",
        "    trueyn.append(i)"
      ],
      "execution_count": null,
      "outputs": []
    },
    {
      "cell_type": "code",
      "metadata": {
        "id": "-nQxoQvZ8Fe3",
        "colab_type": "code",
        "colab": {},
        "outputId": "fcb3d0bf-5197-4895-decd-1f592cfbfea1"
      },
      "source": [
        "len(trueyn)"
      ],
      "execution_count": null,
      "outputs": [
        {
          "output_type": "execute_result",
          "data": {
            "text/plain": [
              "14574"
            ]
          },
          "metadata": {
            "tags": []
          },
          "execution_count": 83
        }
      ]
    },
    {
      "cell_type": "code",
      "metadata": {
        "id": "lmMNo_z68Fe5",
        "colab_type": "code",
        "colab": {}
      },
      "source": [
        "from sklearn.metrics import precision_recall_curve\n",
        "from sklearn.metrics import recall_score\n",
        "from sklearn.metrics import precision_score\n",
        "from sklearn.metrics import f1_score"
      ],
      "execution_count": null,
      "outputs": []
    },
    {
      "cell_type": "code",
      "metadata": {
        "id": "x7G9qCPT8Fe7",
        "colab_type": "code",
        "colab": {}
      },
      "source": [
        "h2=[]\n",
        "h3=[]\n",
        "for i in range(0,len(yesnolist)):\n",
        "    if y_train['yes_or_no'].values[i]=='NO'or y_train['yes_or_no'].values[i]=='YES':\n",
        "        h2.append(y_train['yes_or_no'].values[i])\n",
        "        h3.append(i)"
      ],
      "execution_count": null,
      "outputs": []
    },
    {
      "cell_type": "code",
      "metadata": {
        "id": "KF4mnuTN8Fe8",
        "colab_type": "code",
        "colab": {}
      },
      "source": [
        "h1=[]\n",
        "for i in h3: \n",
        "    if yesnolist[i]=='NO'or yesnolist[i]=='YES':\n",
        "        h1.append(yesnolist[i])\n",
        "    else:\n",
        "        h1.append('')"
      ],
      "execution_count": null,
      "outputs": []
    },
    {
      "cell_type": "code",
      "metadata": {
        "id": "fY6-uJR68Fe9",
        "colab_type": "code",
        "colab": {}
      },
      "source": [
        ""
      ],
      "execution_count": null,
      "outputs": []
    },
    {
      "cell_type": "code",
      "metadata": {
        "id": "h0G7U6VY8Fe_",
        "colab_type": "code",
        "colab": {},
        "outputId": "96906d7f-183d-487e-abdd-6f89b722ed06"
      },
      "source": [
        "len(h2)"
      ],
      "execution_count": null,
      "outputs": [
        {
          "output_type": "execute_result",
          "data": {
            "text/plain": [
              "506"
            ]
          },
          "metadata": {
            "tags": []
          },
          "execution_count": 87
        }
      ]
    },
    {
      "cell_type": "markdown",
      "metadata": {
        "id": "wA8Iqgge8FfA",
        "colab_type": "text"
      },
      "source": [
        "## Micro F1 Score of Train data"
      ]
    },
    {
      "cell_type": "code",
      "metadata": {
        "scrolled": false,
        "id": "pr__eap78FfB",
        "colab_type": "code",
        "colab": {},
        "outputId": "b9a2716d-8571-4c4d-a590-b2f5b52f9d89"
      },
      "source": [
        "f1_score(h1,h2,average='micro')"
      ],
      "execution_count": null,
      "outputs": [
        {
          "output_type": "execute_result",
          "data": {
            "text/plain": [
              "0.5849802371541502"
            ]
          },
          "metadata": {
            "tags": []
          },
          "execution_count": 88
        }
      ]
    },
    {
      "cell_type": "markdown",
      "metadata": {
        "id": "woErewbH8FfC",
        "colab_type": "text"
      },
      "source": [
        "## True and Predicted Yes_No values of Train data"
      ]
    },
    {
      "cell_type": "code",
      "metadata": {
        "scrolled": true,
        "id": "FTRNFYJS8FfC",
        "colab_type": "code",
        "colab": {},
        "outputId": "f8c555d4-880c-46ea-a2f8-bb0e53768eb3"
      },
      "source": [
        "for i in zip(h2,h1):\n",
        "    print(i)"
      ],
      "execution_count": null,
      "outputs": [
        {
          "output_type": "stream",
          "text": [
            "('YES', 'YES')\n",
            "('NO', 'YES')\n",
            "('NO', 'YES')\n",
            "('NO', 'YES')\n",
            "('NO', 'YES')\n",
            "('NO', 'YES')\n",
            "('NO', 'NO')\n",
            "('NO', 'YES')\n",
            "('YES', 'YES')\n",
            "('YES', 'YES')\n",
            "('YES', 'YES')\n",
            "('NO', 'YES')\n",
            "('YES', 'YES')\n",
            "('NO', '')\n",
            "('NO', 'YES')\n",
            "('YES', 'YES')\n",
            "('YES', 'YES')\n",
            "('NO', 'YES')\n",
            "('NO', 'YES')\n",
            "('NO', 'YES')\n",
            "('YES', 'YES')\n",
            "('YES', 'YES')\n",
            "('YES', 'YES')\n",
            "('YES', 'YES')\n",
            "('NO', 'YES')\n",
            "('NO', 'YES')\n",
            "('YES', 'NO')\n",
            "('YES', 'NO')\n",
            "('YES', 'YES')\n",
            "('YES', 'YES')\n",
            "('YES', '')\n",
            "('YES', 'YES')\n",
            "('YES', 'YES')\n",
            "('NO', 'YES')\n",
            "('NO', 'YES')\n",
            "('NO', 'YES')\n",
            "('YES', 'YES')\n",
            "('NO', 'YES')\n",
            "('YES', 'YES')\n",
            "('YES', 'YES')\n",
            "('YES', 'YES')\n",
            "('YES', 'YES')\n",
            "('YES', 'YES')\n",
            "('NO', 'YES')\n",
            "('YES', 'YES')\n",
            "('YES', 'YES')\n",
            "('YES', 'YES')\n",
            "('NO', 'YES')\n",
            "('NO', 'YES')\n",
            "('YES', 'YES')\n",
            "('YES', 'YES')\n",
            "('NO', 'NO')\n",
            "('YES', 'YES')\n",
            "('NO', 'YES')\n",
            "('NO', 'YES')\n",
            "('YES', 'YES')\n",
            "('YES', 'YES')\n",
            "('NO', 'YES')\n",
            "('YES', 'YES')\n",
            "('YES', 'YES')\n",
            "('YES', 'YES')\n",
            "('YES', 'YES')\n",
            "('YES', 'YES')\n",
            "('NO', 'YES')\n",
            "('YES', 'YES')\n",
            "('NO', 'YES')\n",
            "('NO', 'YES')\n",
            "('YES', 'YES')\n",
            "('YES', 'YES')\n",
            "('YES', 'YES')\n",
            "('NO', 'YES')\n",
            "('YES', 'YES')\n",
            "('YES', 'YES')\n",
            "('YES', 'YES')\n",
            "('YES', 'YES')\n",
            "('NO', 'YES')\n",
            "('NO', 'YES')\n",
            "('YES', 'YES')\n",
            "('NO', 'YES')\n",
            "('NO', 'YES')\n",
            "('NO', 'NO')\n",
            "('YES', 'YES')\n",
            "('YES', 'YES')\n",
            "('NO', 'YES')\n",
            "('YES', 'YES')\n",
            "('NO', 'YES')\n",
            "('NO', 'YES')\n",
            "('YES', 'YES')\n",
            "('NO', 'YES')\n",
            "('NO', 'YES')\n",
            "('NO', 'YES')\n",
            "('NO', 'YES')\n",
            "('YES', 'YES')\n",
            "('NO', 'YES')\n",
            "('YES', 'YES')\n",
            "('NO', 'YES')\n",
            "('NO', 'YES')\n",
            "('YES', 'YES')\n",
            "('YES', 'YES')\n",
            "('YES', 'YES')\n",
            "('YES', 'YES')\n",
            "('NO', 'YES')\n",
            "('NO', 'YES')\n",
            "('NO', 'YES')\n",
            "('YES', 'YES')\n",
            "('YES', 'YES')\n",
            "('YES', 'YES')\n",
            "('YES', 'YES')\n",
            "('YES', 'YES')\n",
            "('NO', 'YES')\n",
            "('YES', 'YES')\n",
            "('YES', 'YES')\n",
            "('YES', 'YES')\n",
            "('NO', 'YES')\n",
            "('NO', 'YES')\n",
            "('NO', 'YES')\n",
            "('YES', 'NO')\n",
            "('YES', 'YES')\n",
            "('NO', 'YES')\n",
            "('NO', 'YES')\n",
            "('YES', 'YES')\n",
            "('YES', 'YES')\n",
            "('YES', 'YES')\n",
            "('YES', 'YES')\n",
            "('NO', 'YES')\n",
            "('NO', 'YES')\n",
            "('NO', 'YES')\n",
            "('NO', 'YES')\n",
            "('YES', 'YES')\n",
            "('YES', 'YES')\n",
            "('YES', 'YES')\n",
            "('YES', 'YES')\n",
            "('NO', 'YES')\n",
            "('YES', 'YES')\n",
            "('YES', 'YES')\n",
            "('NO', 'YES')\n",
            "('NO', 'YES')\n",
            "('YES', 'YES')\n",
            "('NO', 'YES')\n",
            "('YES', 'YES')\n",
            "('NO', 'YES')\n",
            "('YES', 'YES')\n",
            "('YES', 'NO')\n",
            "('YES', 'YES')\n",
            "('YES', 'YES')\n",
            "('NO', 'YES')\n",
            "('YES', 'YES')\n",
            "('YES', 'YES')\n",
            "('YES', 'YES')\n",
            "('YES', 'YES')\n",
            "('NO', 'YES')\n",
            "('NO', 'YES')\n",
            "('NO', 'YES')\n",
            "('NO', 'NO')\n",
            "('NO', 'YES')\n",
            "('NO', 'YES')\n",
            "('YES', 'YES')\n",
            "('NO', 'YES')\n",
            "('YES', 'YES')\n",
            "('YES', 'YES')\n",
            "('NO', 'YES')\n",
            "('NO', 'YES')\n",
            "('YES', 'YES')\n",
            "('YES', 'YES')\n",
            "('YES', 'YES')\n",
            "('YES', 'YES')\n",
            "('NO', 'YES')\n",
            "('NO', 'YES')\n",
            "('NO', 'YES')\n",
            "('NO', 'YES')\n",
            "('YES', 'YES')\n",
            "('YES', 'YES')\n",
            "('YES', 'YES')\n",
            "('YES', 'YES')\n",
            "('YES', 'YES')\n",
            "('YES', 'YES')\n",
            "('YES', 'YES')\n",
            "('NO', 'YES')\n",
            "('YES', 'YES')\n",
            "('YES', 'NO')\n",
            "('YES', 'YES')\n",
            "('YES', 'YES')\n",
            "('YES', 'YES')\n",
            "('YES', 'YES')\n",
            "('NO', 'YES')\n",
            "('YES', 'YES')\n",
            "('YES', 'YES')\n",
            "('YES', 'YES')\n",
            "('YES', 'YES')\n",
            "('YES', 'YES')\n",
            "('YES', 'YES')\n",
            "('NO', 'YES')\n",
            "('YES', 'YES')\n",
            "('YES', 'YES')\n",
            "('YES', 'YES')\n",
            "('YES', 'YES')\n",
            "('YES', 'NO')\n",
            "('YES', 'YES')\n",
            "('NO', 'YES')\n",
            "('YES', 'YES')\n",
            "('NO', 'YES')\n",
            "('YES', 'YES')\n",
            "('YES', 'YES')\n",
            "('YES', 'YES')\n",
            "('YES', 'YES')\n",
            "('YES', 'YES')\n",
            "('YES', 'YES')\n",
            "('NO', 'YES')\n",
            "('NO', 'YES')\n",
            "('NO', 'YES')\n",
            "('YES', 'YES')\n",
            "('NO', 'YES')\n",
            "('NO', 'YES')\n",
            "('YES', 'YES')\n",
            "('NO', 'YES')\n",
            "('NO', 'YES')\n",
            "('NO', 'YES')\n",
            "('NO', 'YES')\n",
            "('NO', 'YES')\n",
            "('NO', 'YES')\n",
            "('NO', 'YES')\n",
            "('YES', 'YES')\n",
            "('NO', 'YES')\n",
            "('NO', 'YES')\n",
            "('YES', 'YES')\n",
            "('YES', 'YES')\n",
            "('YES', 'YES')\n",
            "('YES', 'YES')\n",
            "('YES', 'YES')\n",
            "('YES', 'YES')\n",
            "('YES', 'NO')\n",
            "('YES', 'YES')\n",
            "('NO', 'NO')\n",
            "('NO', 'YES')\n",
            "('YES', 'YES')\n",
            "('YES', 'YES')\n",
            "('YES', 'YES')\n",
            "('YES', 'YES')\n",
            "('YES', 'YES')\n",
            "('YES', 'YES')\n",
            "('YES', 'YES')\n",
            "('YES', 'YES')\n",
            "('YES', 'NO')\n",
            "('YES', 'YES')\n",
            "('NO', 'YES')\n",
            "('NO', 'YES')\n",
            "('YES', 'YES')\n",
            "('NO', 'YES')\n",
            "('YES', 'YES')\n",
            "('NO', 'YES')\n",
            "('YES', 'YES')\n",
            "('NO', 'YES')\n",
            "('YES', 'YES')\n",
            "('NO', 'YES')\n",
            "('YES', 'YES')\n",
            "('YES', 'YES')\n",
            "('YES', 'YES')\n",
            "('NO', 'YES')\n",
            "('NO', 'YES')\n",
            "('YES', 'YES')\n",
            "('YES', 'YES')\n",
            "('YES', 'YES')\n",
            "('YES', 'YES')\n",
            "('YES', 'YES')\n",
            "('NO', 'YES')\n",
            "('YES', 'YES')\n",
            "('YES', 'YES')\n",
            "('YES', 'YES')\n",
            "('YES', 'YES')\n",
            "('NO', 'YES')\n",
            "('NO', 'NO')\n",
            "('YES', 'YES')\n",
            "('YES', 'YES')\n",
            "('YES', 'YES')\n",
            "('NO', 'YES')\n",
            "('NO', 'YES')\n",
            "('YES', '')\n",
            "('YES', 'YES')\n",
            "('YES', 'YES')\n",
            "('NO', 'YES')\n",
            "('YES', 'YES')\n",
            "('YES', 'YES')\n",
            "('NO', 'YES')\n",
            "('YES', 'YES')\n",
            "('NO', 'YES')\n",
            "('YES', 'YES')\n",
            "('NO', 'YES')\n",
            "('YES', 'YES')\n",
            "('YES', 'YES')\n",
            "('NO', 'YES')\n",
            "('YES', 'YES')\n",
            "('NO', 'YES')\n",
            "('YES', 'YES')\n",
            "('YES', 'YES')\n",
            "('NO', 'YES')\n",
            "('YES', 'YES')\n",
            "('YES', 'YES')\n",
            "('YES', 'YES')\n",
            "('YES', 'YES')\n",
            "('NO', 'YES')\n",
            "('YES', 'YES')\n",
            "('YES', 'YES')\n",
            "('YES', 'YES')\n",
            "('NO', 'YES')\n",
            "('YES', 'YES')\n",
            "('YES', 'YES')\n",
            "('NO', 'YES')\n",
            "('NO', 'YES')\n",
            "('NO', 'YES')\n",
            "('YES', 'YES')\n",
            "('YES', 'YES')\n",
            "('YES', 'YES')\n",
            "('YES', 'YES')\n",
            "('YES', 'NO')\n",
            "('YES', 'YES')\n",
            "('YES', 'YES')\n",
            "('NO', 'YES')\n",
            "('YES', 'YES')\n",
            "('YES', 'YES')\n",
            "('YES', 'YES')\n",
            "('YES', 'YES')\n",
            "('YES', 'YES')\n",
            "('YES', 'YES')\n",
            "('NO', 'YES')\n",
            "('YES', 'YES')\n",
            "('NO', 'YES')\n",
            "('NO', 'YES')\n",
            "('YES', 'YES')\n",
            "('YES', 'YES')\n",
            "('YES', 'YES')\n",
            "('NO', 'YES')\n",
            "('YES', 'YES')\n",
            "('YES', 'YES')\n",
            "('YES', 'NO')\n",
            "('YES', 'YES')\n",
            "('YES', 'YES')\n",
            "('YES', 'YES')\n",
            "('YES', 'YES')\n",
            "('YES', 'YES')\n",
            "('YES', 'YES')\n",
            "('YES', 'YES')\n",
            "('YES', 'YES')\n",
            "('NO', 'YES')\n",
            "('YES', 'YES')\n",
            "('YES', 'YES')\n",
            "('YES', 'YES')\n",
            "('YES', 'YES')\n",
            "('YES', 'YES')\n",
            "('NO', '')\n",
            "('YES', 'YES')\n",
            "('NO', 'YES')\n",
            "('YES', 'NO')\n",
            "('YES', 'YES')\n",
            "('YES', 'YES')\n",
            "('YES', 'YES')\n",
            "('NO', 'YES')\n",
            "('YES', 'NO')\n",
            "('NO', 'YES')\n",
            "('YES', '')\n",
            "('YES', 'YES')\n",
            "('NO', 'YES')\n",
            "('NO', 'NO')\n",
            "('NO', 'YES')\n",
            "('NO', 'YES')\n",
            "('NO', 'YES')\n",
            "('YES', 'YES')\n",
            "('NO', 'YES')\n",
            "('NO', 'YES')\n",
            "('NO', 'YES')\n",
            "('NO', 'YES')\n",
            "('YES', 'YES')\n",
            "('YES', 'YES')\n",
            "('NO', 'YES')\n",
            "('NO', 'YES')\n",
            "('YES', 'YES')\n",
            "('YES', 'YES')\n",
            "('YES', 'YES')\n",
            "('NO', 'NO')\n",
            "('NO', '')\n",
            "('YES', 'YES')\n",
            "('YES', 'YES')\n",
            "('YES', 'YES')\n",
            "('NO', 'YES')\n",
            "('YES', 'YES')\n",
            "('YES', 'YES')\n",
            "('NO', '')\n",
            "('NO', 'YES')\n",
            "('NO', 'YES')\n",
            "('YES', 'YES')\n",
            "('NO', 'YES')\n",
            "('YES', 'YES')\n",
            "('YES', 'YES')\n",
            "('YES', 'YES')\n",
            "('NO', 'YES')\n",
            "('YES', '')\n",
            "('YES', 'YES')\n",
            "('NO', 'YES')\n",
            "('NO', 'YES')\n",
            "('YES', 'YES')\n",
            "('NO', 'YES')\n",
            "('YES', 'YES')\n",
            "('NO', 'YES')\n",
            "('YES', 'YES')\n",
            "('NO', 'YES')\n",
            "('NO', 'YES')\n",
            "('YES', 'NO')\n",
            "('NO', 'YES')\n",
            "('NO', 'YES')\n",
            "('YES', 'YES')\n",
            "('YES', '')\n",
            "('YES', 'YES')\n",
            "('YES', '')\n",
            "('NO', '')\n",
            "('NO', 'YES')\n",
            "('NO', 'YES')\n",
            "('YES', 'NO')\n",
            "('YES', 'YES')\n",
            "('YES', 'YES')\n",
            "('NO', 'YES')\n",
            "('NO', 'YES')\n",
            "('YES', 'YES')\n",
            "('NO', 'YES')\n",
            "('YES', '')\n",
            "('YES', 'YES')\n",
            "('NO', 'YES')\n",
            "('YES', 'YES')\n",
            "('NO', 'YES')\n",
            "('YES', 'YES')\n",
            "('NO', 'YES')\n",
            "('YES', '')\n",
            "('YES', 'NO')\n",
            "('YES', 'YES')\n",
            "('YES', '')\n",
            "('YES', 'YES')\n",
            "('YES', 'YES')\n",
            "('NO', 'YES')\n",
            "('NO', 'YES')\n",
            "('YES', 'YES')\n",
            "('NO', 'YES')\n",
            "('YES', 'YES')\n",
            "('YES', '')\n",
            "('NO', 'YES')\n",
            "('NO', 'YES')\n",
            "('YES', 'YES')\n",
            "('YES', 'YES')\n",
            "('NO', 'YES')\n",
            "('YES', '')\n",
            "('YES', 'YES')\n",
            "('YES', 'YES')\n",
            "('NO', 'YES')\n",
            "('NO', '')\n",
            "('YES', 'NO')\n",
            "('YES', 'YES')\n",
            "('YES', 'YES')\n",
            "('NO', 'YES')\n",
            "('YES', 'YES')\n",
            "('YES', 'YES')\n",
            "('YES', 'YES')\n",
            "('YES', '')\n",
            "('NO', 'YES')\n",
            "('YES', 'YES')\n",
            "('YES', 'YES')\n",
            "('NO', 'YES')\n",
            "('NO', '')\n",
            "('NO', 'YES')\n",
            "('YES', '')\n",
            "('YES', 'NO')\n",
            "('NO', 'YES')\n",
            "('YES', 'YES')\n",
            "('YES', 'YES')\n",
            "('YES', 'YES')\n",
            "('NO', 'YES')\n",
            "('YES', 'YES')\n",
            "('YES', 'NO')\n",
            "('YES', 'YES')\n",
            "('YES', 'YES')\n",
            "('YES', 'YES')\n",
            "('NO', 'YES')\n",
            "('NO', 'YES')\n",
            "('YES', 'YES')\n",
            "('YES', 'YES')\n",
            "('NO', 'YES')\n",
            "('YES', 'YES')\n",
            "('YES', 'NO')\n",
            "('NO', 'YES')\n",
            "('NO', 'YES')\n",
            "('YES', 'YES')\n",
            "('YES', 'YES')\n",
            "('YES', '')\n",
            "('NO', 'YES')\n",
            "('YES', '')\n",
            "('YES', 'YES')\n",
            "('NO', 'YES')\n",
            "('NO', '')\n",
            "('YES', 'YES')\n",
            "('YES', 'YES')\n",
            "('YES', 'YES')\n",
            "('YES', 'NO')\n",
            "('NO', 'YES')\n",
            "('NO', 'YES')\n",
            "('YES', '')\n",
            "('YES', '')\n",
            "('YES', 'YES')\n",
            "('YES', 'YES')\n",
            "('YES', 'YES')\n",
            "('YES', '')\n"
          ],
          "name": "stdout"
        }
      ]
    },
    {
      "cell_type": "code",
      "metadata": {
        "id": "G8CB4Q-_8FfE",
        "colab_type": "code",
        "colab": {}
      },
      "source": [
        ""
      ],
      "execution_count": null,
      "outputs": []
    },
    {
      "cell_type": "markdown",
      "metadata": {
        "id": "a2G2a4DU8FfG",
        "colab_type": "text"
      },
      "source": [
        "## Predicting with the test data"
      ]
    },
    {
      "cell_type": "code",
      "metadata": {
        "id": "bHjWFFue8FfG",
        "colab_type": "code",
        "colab": {}
      },
      "source": [
        "X_testq=X_test_pooled_outputq.reshape(X_test_pooled_outputq.shape[0],X_test_pooled_outputq.shape[1],1) "
      ],
      "execution_count": null,
      "outputs": []
    },
    {
      "cell_type": "code",
      "metadata": {
        "id": "4ZdDD8O_8FfH",
        "colab_type": "code",
        "colab": {}
      },
      "source": [
        "X_testt=X_test_pooled_output.reshape(X_test_pooled_output.shape[0],X_test_pooled_output.shape[1],1) "
      ],
      "execution_count": null,
      "outputs": []
    },
    {
      "cell_type": "code",
      "metadata": {
        "id": "s8dwXpxW8FfI",
        "colab_type": "code",
        "colab": {}
      },
      "source": [
        "predf1=model.predict([test_questions,X_testt])    "
      ],
      "execution_count": null,
      "outputs": []
    },
    {
      "cell_type": "code",
      "metadata": {
        "scrolled": true,
        "id": "JUpcvw4w8FfK",
        "colab_type": "code",
        "colab": {},
        "outputId": "308bdcc7-e087-4e8a-a00f-c4c9c3de22f5"
      },
      "source": [
        "predf1[0]"
      ],
      "execution_count": null,
      "outputs": [
        {
          "output_type": "execute_result",
          "data": {
            "text/plain": [
              "array([[488.36972],\n",
              "       [701.93604],\n",
              "       [640.74567],\n",
              "       ...,\n",
              "       [447.14496],\n",
              "       [283.6455 ],\n",
              "       [722.128  ]], dtype=float32)"
            ]
          },
          "metadata": {
            "tags": []
          },
          "execution_count": 56
        }
      ]
    },
    {
      "cell_type": "code",
      "metadata": {
        "id": "soifXo9h8FfM",
        "colab_type": "code",
        "colab": {},
        "outputId": "39d634de-3ac6-408d-adc6-133e77638fcd"
      },
      "source": [
        "predf1[1]"
      ],
      "execution_count": null,
      "outputs": [
        {
          "output_type": "execute_result",
          "data": {
            "text/plain": [
              "array([[498.159  ],\n",
              "       [715.8833 ],\n",
              "       [653.4905 ],\n",
              "       ...,\n",
              "       [456.1221 ],\n",
              "       [289.44458],\n",
              "       [736.4523 ]], dtype=float32)"
            ]
          },
          "metadata": {
            "tags": []
          },
          "execution_count": 57
        }
      ]
    },
    {
      "cell_type": "code",
      "metadata": {
        "id": "X4C3twNG8FfN",
        "colab_type": "code",
        "colab": {}
      },
      "source": [
        "trsite=[]\n",
        "for i in y_test['start_index']:\n",
        "    trsite.append(i)\n",
        "treite=[]\n",
        "for i in y_test['end_index']:\n",
        "    treite.append(i)\n",
        "#true start indices\n",
        "trst=[]\n",
        "for i in range(len(trsite)):\n",
        "    c=int(trsite[i])\n",
        "    trst.append(c)\n",
        "#true end indices\n",
        "tren=[]\n",
        "for i in range(len(treite)):\n",
        "    c=int(treite[i])\n",
        "    tren.append(c)"
      ],
      "execution_count": null,
      "outputs": []
    },
    {
      "cell_type": "code",
      "metadata": {
        "id": "2J9FeWNq8FfV",
        "colab_type": "code",
        "colab": {}
      },
      "source": [
        "#pred start indices\n",
        "prst=[]\n",
        "for i in range(len(predf1[0])):\n",
        "    c=int(predf1[0][i][0])\n",
        "    prst.append(c) \n",
        "#pred end indices\n",
        "pren=[]\n",
        "for i in range(len(predf1[0])):\n",
        "    c=int(predf1[1][i][0])\n",
        "    pren.append(c)"
      ],
      "execution_count": null,
      "outputs": []
    },
    {
      "cell_type": "code",
      "metadata": {
        "id": "lszm2fEh8FfY",
        "colab_type": "code",
        "colab": {}
      },
      "source": [
        "pr=[]\n",
        "tr=[]\n",
        "for i in range(0,len(trst)): #data points count\n",
        "    tr.append(X_test['document_text'].values[i].split(\" \")[trst[i]:tren[i]]) #true start and end indices\n",
        "    pr.append(X_test['document_text'].values[i].split(\" \")[prst[i]:pren[i]])# pred start and end indices"
      ],
      "execution_count": null,
      "outputs": []
    },
    {
      "cell_type": "code",
      "metadata": {
        "id": "9sgKy_ct8Ffc",
        "colab_type": "code",
        "colab": {}
      },
      "source": [
        "def Avg(lst): \n",
        "    return sum(lst) / len(lst) "
      ],
      "execution_count": null,
      "outputs": []
    },
    {
      "cell_type": "code",
      "metadata": {
        "id": "oS-F2R8a8Fff",
        "colab_type": "code",
        "colab": {},
        "outputId": "0c883005-baad-4bc2-d238-6b6ebc9033ab"
      },
      "source": [
        "def jaccard_similarity(tr,pr): #true values and pred values \n",
        "#intersection\n",
        "    jk=[]\n",
        "    for i in range(len(trst)):\n",
        "        a = set(tr[i])\n",
        "        b = set(pr[i]) \n",
        "        c= len(set(a).intersection(b))\n",
        "        jk.append(c) \n",
        "#union\n",
        "    vk=[]\n",
        "    for i in range(len(trst)):\n",
        "        a = set(tr[i])\n",
        "        b = set(pr[i])\n",
        "        v= len(list(a.union(b)))\n",
        "        vk.append(v)\n",
        "        \n",
        "#intersection/union        \n",
        "    f=[]\n",
        "    for i in range(len(jk)):\n",
        "        jac=jk[i]/(vk[i]+0.1)\n",
        "        f.append(jac)\n",
        "        \n",
        "    return Avg(f)\n",
        "    \n",
        "    \n",
        "print(\"The Jaccard Similarity for long answer model is:\",jaccard_similarity(tr,pr))"
      ],
      "execution_count": null,
      "outputs": [
        {
          "output_type": "stream",
          "text": [
            "The Jaccard Similarity for long answer model is: 0.016501299399126465\n"
          ],
          "name": "stdout"
        }
      ]
    },
    {
      "cell_type": "code",
      "metadata": {
        "id": "G77xBOYr8Ffh",
        "colab_type": "code",
        "colab": {}
      },
      "source": [
        ""
      ],
      "execution_count": null,
      "outputs": []
    },
    {
      "cell_type": "markdown",
      "metadata": {
        "id": "JvhbM6Ws8Ffi",
        "colab_type": "text"
      },
      "source": [
        "## Micro F1 Score of only yes_no label data points of Test Data"
      ]
    },
    {
      "cell_type": "code",
      "metadata": {
        "id": "MZu2vUdD8Ffj",
        "colab_type": "code",
        "colab": {}
      },
      "source": [
        "indf=[]\n",
        "for i in range(len(predf1[0])): \n",
        "    arg_max=np.argmax(predf1[2][i])\n",
        "    indf.append(arg_max) "
      ],
      "execution_count": null,
      "outputs": []
    },
    {
      "cell_type": "code",
      "metadata": {
        "id": "clOKCeiu8Ffl",
        "colab_type": "code",
        "colab": {}
      },
      "source": [
        "yesnolist=[]\n",
        "for i in range(len(indf)):\n",
        "    if indf[i]==0:\n",
        "        yesnolist.append('NO')\n",
        "    elif indf[i]==1:\n",
        "        yesnolist.append('NONE')\n",
        "    elif indf[i]==2:\n",
        "        yesnolist.append('YES')\n",
        "        "
      ],
      "execution_count": null,
      "outputs": []
    },
    {
      "cell_type": "code",
      "metadata": {
        "id": "pBfCYwis8Ffn",
        "colab_type": "code",
        "colab": {}
      },
      "source": [
        "trueyn=[]\n",
        "for i in y_test['yes_or_no']:\n",
        "    trueyn.append(i)"
      ],
      "execution_count": null,
      "outputs": []
    },
    {
      "cell_type": "code",
      "metadata": {
        "scrolled": true,
        "id": "m4MK9L3j8Ffo",
        "colab_type": "code",
        "colab": {},
        "outputId": "a421e8fd-4a46-42c5-da2e-76d8615bc11f"
      },
      "source": [
        "len(yesnolist)"
      ],
      "execution_count": null,
      "outputs": [
        {
          "output_type": "execute_result",
          "data": {
            "text/plain": [
              "3644"
            ]
          },
          "metadata": {
            "tags": []
          },
          "execution_count": 66
        }
      ]
    },
    {
      "cell_type": "code",
      "metadata": {
        "id": "UqmCwaPe8Ffq",
        "colab_type": "code",
        "colab": {}
      },
      "source": [
        "from sklearn.metrics import precision_recall_curve\n",
        "from sklearn.metrics import recall_score\n",
        "from sklearn.metrics import precision_score\n",
        "from sklearn.metrics import f1_score"
      ],
      "execution_count": null,
      "outputs": []
    },
    {
      "cell_type": "code",
      "metadata": {
        "id": "F1BO-z2R8Ffr",
        "colab_type": "code",
        "colab": {}
      },
      "source": [
        "h2=[]\n",
        "h3=[]\n",
        "for i in range(0,3644):\n",
        "    if y_test['yes_or_no'].values[i]=='NO'or y_test['yes_or_no'].values[i]=='YES':\n",
        "        h2.append(y_test['yes_or_no'].values[i])\n",
        "        h3.append(i)"
      ],
      "execution_count": null,
      "outputs": []
    },
    {
      "cell_type": "code",
      "metadata": {
        "id": "ZsnN94wp8Ffs",
        "colab_type": "code",
        "colab": {}
      },
      "source": [
        "h1=[]\n",
        "for i in h3: \n",
        "    if yesnolist[i]=='NO'or yesnolist[i]=='YES':\n",
        "        h1.append(yesnolist[i])\n",
        "    else:\n",
        "        h1.append('')"
      ],
      "execution_count": null,
      "outputs": []
    },
    {
      "cell_type": "code",
      "metadata": {
        "id": "eAhQbkpD8Ffu",
        "colab_type": "code",
        "colab": {}
      },
      "source": [
        ""
      ],
      "execution_count": null,
      "outputs": []
    },
    {
      "cell_type": "markdown",
      "metadata": {
        "id": "ODozuPrV8Ffv",
        "colab_type": "text"
      },
      "source": [
        "## Micro F1 Score of Test data"
      ]
    },
    {
      "cell_type": "code",
      "metadata": {
        "scrolled": false,
        "id": "JZvU0cJW8Ffv",
        "colab_type": "code",
        "colab": {},
        "outputId": "f05650d0-eef8-4218-b04a-b9bc7a908678"
      },
      "source": [
        "f1_score(h1,h2,average='micro')"
      ],
      "execution_count": null,
      "outputs": [
        {
          "output_type": "execute_result",
          "data": {
            "text/plain": [
              "0.47368421052631576"
            ]
          },
          "metadata": {
            "tags": []
          },
          "execution_count": 70
        }
      ]
    },
    {
      "cell_type": "markdown",
      "metadata": {
        "id": "M_CGphqg8Ffx",
        "colab_type": "text"
      },
      "source": [
        "## True and Predicted Yes_No values of Test Data"
      ]
    },
    {
      "cell_type": "code",
      "metadata": {
        "scrolled": false,
        "id": "KPFSwCI08Ffy",
        "colab_type": "code",
        "colab": {},
        "outputId": "f7735d76-963a-4b00-dd41-a80fa8b1c0a2"
      },
      "source": [
        "for i in zip(h2,h1):\n",
        "    print(i)"
      ],
      "execution_count": null,
      "outputs": [
        {
          "output_type": "stream",
          "text": [
            "('YES', 'YES')\n",
            "('NO', '')\n",
            "('YES', 'YES')\n",
            "('YES', 'YES')\n",
            "('YES', '')\n",
            "('NO', '')\n",
            "('NO', 'YES')\n",
            "('YES', 'YES')\n",
            "('NO', 'YES')\n",
            "('YES', 'YES')\n",
            "('YES', 'YES')\n",
            "('NO', 'YES')\n",
            "('YES', 'YES')\n",
            "('NO', 'YES')\n",
            "('YES', '')\n",
            "('YES', '')\n",
            "('NO', 'YES')\n",
            "('YES', 'YES')\n",
            "('YES', 'YES')\n",
            "('YES', '')\n",
            "('YES', '')\n",
            "('NO', '')\n",
            "('YES', '')\n",
            "('NO', '')\n",
            "('NO', 'NO')\n",
            "('NO', 'YES')\n",
            "('YES', '')\n",
            "('NO', 'YES')\n",
            "('YES', '')\n",
            "('YES', '')\n",
            "('YES', '')\n",
            "('NO', '')\n",
            "('YES', '')\n",
            "('YES', 'YES')\n",
            "('NO', '')\n",
            "('NO', '')\n",
            "('NO', 'YES')\n",
            "('YES', 'YES')\n",
            "('YES', 'YES')\n",
            "('YES', '')\n",
            "('NO', 'YES')\n",
            "('NO', 'YES')\n",
            "('YES', 'YES')\n",
            "('NO', '')\n",
            "('YES', 'YES')\n",
            "('YES', 'YES')\n",
            "('YES', '')\n",
            "('YES', 'YES')\n",
            "('NO', '')\n",
            "('YES', '')\n",
            "('YES', 'YES')\n",
            "('NO', '')\n",
            "('YES', '')\n",
            "('YES', 'YES')\n",
            "('NO', 'NO')\n",
            "('NO', 'YES')\n",
            "('YES', '')\n",
            "('YES', 'YES')\n",
            "('NO', '')\n",
            "('YES', 'YES')\n",
            "('NO', '')\n",
            "('NO', 'YES')\n",
            "('NO', 'YES')\n",
            "('NO', '')\n",
            "('YES', '')\n",
            "('YES', 'YES')\n",
            "('YES', 'YES')\n",
            "('NO', '')\n",
            "('YES', 'YES')\n",
            "('NO', '')\n",
            "('YES', '')\n",
            "('NO', '')\n",
            "('NO', 'YES')\n",
            "('YES', '')\n",
            "('YES', 'YES')\n",
            "('YES', 'YES')\n",
            "('NO', 'YES')\n",
            "('NO', 'YES')\n",
            "('YES', 'YES')\n",
            "('YES', 'YES')\n",
            "('NO', '')\n",
            "('NO', '')\n",
            "('NO', 'YES')\n",
            "('NO', '')\n",
            "('YES', 'YES')\n",
            "('NO', 'YES')\n",
            "('YES', '')\n",
            "('YES', '')\n",
            "('NO', 'YES')\n",
            "('NO', 'YES')\n",
            "('YES', 'YES')\n",
            "('YES', '')\n",
            "('YES', 'YES')\n",
            "('YES', 'YES')\n",
            "('YES', 'YES')\n",
            "('YES', '')\n",
            "('YES', '')\n",
            "('NO', '')\n",
            "('NO', '')\n",
            "('YES', '')\n",
            "('YES', 'YES')\n",
            "('YES', '')\n",
            "('NO', 'YES')\n",
            "('YES', 'YES')\n",
            "('NO', '')\n",
            "('NO', '')\n",
            "('NO', 'YES')\n",
            "('NO', 'YES')\n",
            "('YES', '')\n",
            "('YES', 'YES')\n",
            "('NO', 'YES')\n",
            "('YES', '')\n",
            "('NO', 'YES')\n",
            "('YES', '')\n"
          ],
          "name": "stdout"
        }
      ]
    },
    {
      "cell_type": "code",
      "metadata": {
        "id": "dVbOrLaV8Ff0",
        "colab_type": "code",
        "colab": {},
        "outputId": "43b58dd0-a3c7-4808-a174-ec76206f4bf3"
      },
      "source": [
        "len(h1)"
      ],
      "execution_count": null,
      "outputs": [
        {
          "output_type": "execute_result",
          "data": {
            "text/plain": [
              "114"
            ]
          },
          "metadata": {
            "tags": []
          },
          "execution_count": 163
        }
      ]
    },
    {
      "cell_type": "code",
      "metadata": {
        "id": "0ttvMSJ88Ff1",
        "colab_type": "code",
        "colab": {}
      },
      "source": [
        ""
      ],
      "execution_count": null,
      "outputs": []
    },
    {
      "cell_type": "code",
      "metadata": {
        "id": "O1VsVMEz8Ff3",
        "colab_type": "code",
        "colab": {}
      },
      "source": [
        ""
      ],
      "execution_count": null,
      "outputs": []
    },
    {
      "cell_type": "markdown",
      "metadata": {
        "id": "8A9oOGkY-udp",
        "colab_type": "text"
      },
      "source": [
        "## LONG Q&A MODEL"
      ]
    },
    {
      "cell_type": "code",
      "metadata": {
        "id": "PupsyvJu8Ff4",
        "colab_type": "code",
        "colab": {}
      },
      "source": [
        ""
      ],
      "execution_count": null,
      "outputs": []
    },
    {
      "cell_type": "code",
      "metadata": {
        "id": "xmTp3ken9uah",
        "colab_type": "code",
        "colab": {},
        "outputId": "8e13e729-51cc-4a9b-c953-8938a92d2ade"
      },
      "source": [
        "import json\n",
        "import os\n",
        "import seaborn as sns\n",
        "import matplotlib.pyplot as plt \n",
        "import matplotlib.patches as patches\n",
        "from plotly import tools, subplots\n",
        "import plotly.offline as py\n",
        "py.init_notebook_mode(connected = True) \n",
        "import plotly.graph_objs as go\n",
        "import plotly.express as px\n",
        "import pandas as pd\n",
        "pd.set_option('max_columns', 1000)\n",
        "from bokeh.models import Panel, Tabs\n",
        "from bokeh.io import output_notebook, show\n",
        "from bokeh.plotting import figure\n",
        "#import lightgbm as lgb\n",
        "import plotly.figure_factory as ff\n",
        "import gc\n",
        "\n",
        "from sklearn.model_selection import KFold\n",
        "from sklearn.preprocessing import LabelEncoder\n",
        "import json\n",
        "from tensorflow.keras.preprocessing import text, sequence\n",
        "from sklearn.feature_extraction.text import CountVectorizer"
      ],
      "execution_count": null,
      "outputs": [
        {
          "output_type": "display_data",
          "data": {
            "text/html": [
              "        <script type=\"text/javascript\">\n",
              "        window.PlotlyConfig = {MathJaxConfig: 'local'};\n",
              "        if (window.MathJax) {MathJax.Hub.Config({SVG: {font: \"STIX-Web\"}});}\n",
              "        if (typeof require !== 'undefined') {\n",
              "        require.undef(\"plotly\");\n",
              "        requirejs.config({\n",
              "            paths: {\n",
              "                'plotly': ['https://cdn.plot.ly/plotly-latest.min']\n",
              "            }\n",
              "        });\n",
              "        require(['plotly'], function(Plotly) {\n",
              "            window._Plotly = Plotly;\n",
              "        });\n",
              "        }\n",
              "        </script>\n",
              "        "
            ]
          },
          "metadata": {
            "tags": []
          }
        }
      ]
    },
    {
      "cell_type": "code",
      "metadata": {
        "id": "esX98Qd89uaq",
        "colab_type": "code",
        "colab": {}
      },
      "source": [
        "import numpy as np\n",
        "%matplotlib inline\n",
        "import matplotlib.pyplot as plt\n",
        "from tensorflow.keras import layers \n",
        "from keras.layers import Reshape,Concatenate \n",
        "from tensorflow.keras.layers import Reshape\n",
        "from tensorflow.keras.preprocessing.text import Tokenizer \n",
        "from tensorflow.keras.preprocessing.sequence import pad_sequences\n",
        "from tensorflow.keras.models import Sequential \n",
        "from tensorflow.keras.layers import Dense\n",
        "from tensorflow.keras.layers import Flatten\n",
        "from tensorflow.keras.layers import Embedding\n",
        "from tensorflow.keras import regularizers\n",
        "from tensorflow.keras.layers import LeakyReLU\n",
        "#from tensorboardcolab import *\n",
        "from tensorflow.keras.regularizers import l2  \n",
        "from tensorflow.keras.layers import LeakyReLU\n",
        "from tensorflow.keras.layers import Input, Dense, Embedding, SpatialDropout1D, concatenate, Masking\n",
        "from tensorflow.keras.layers import Conv1D,Conv2D, MaxPooling2D\n",
        "from tqdm import tqdm\n",
        "import pickle\n",
        "import tensorflow.keras\n",
        "from tensorflow.keras import layers\n",
        "from tensorflow.keras.layers import Dropout\n",
        "from tensorflow.keras.layers import BatchNormalization\n",
        "from tensorflow.keras.models import Model\n",
        "import gensim\n",
        "from gensim.scripts.glove2word2vec import glove2word2vec \n",
        "from tqdm import tqdm\n",
        "import tensorflow as tf\n",
        "import numpy as np \n",
        "import pandas as pd\n",
        "import tensorflow as tf\n",
        "import tensorflow_hub as hub\n",
        "from tensorflow.keras.models import Model"
      ],
      "execution_count": null,
      "outputs": []
    },
    {
      "cell_type": "code",
      "metadata": {
        "id": "TrpCkDc69uav",
        "colab_type": "code",
        "colab": {}
      },
      "source": [
        "import tokenization\n",
        "from tensorflow.keras.layers import Input, Dense, Embedding, SpatialDropout1D, concatenate, Masking\n",
        "from tensorflow.keras.layers import LSTM, Bidirectional, GlobalMaxPooling1D, Dropout\n",
        "from tensorflow.keras.preprocessing import text, sequence\n",
        "from tqdm import tqdm_notebook as tqdm\n",
        "import fasttext\n",
        "import os\n",
        "from tensorflow.keras.layers import Conv1D,Conv2D, MaxPooling2D\n",
        "import json\n",
        "import gc\n",
        "import pickle\n",
        "from tensorflow.keras.preprocessing import text, sequence \n",
        "import numpy as np\n",
        "import pandas as pd\n",
        "from tqdm import tqdm_notebook as tqdm\n",
        "from tensorflow.keras.models import Model\n",
        "from tensorflow.keras.models import load_model\n",
        "import pydot\n",
        "from IPython.display import SVG\n",
        "from keras.utils.vis_utils import model_to_dot\n",
        "from tensorflow.keras.callbacks import ModelCheckpoint, EarlyStopping\n",
        "from tensorflow.python.keras import backend\n",
        "import datetime\n",
        "from tensorflow.keras.callbacks import TensorBoard "
      ],
      "execution_count": null,
      "outputs": []
    },
    {
      "cell_type": "markdown",
      "metadata": {
        "id": "5hBmxeE79uaz",
        "colab_type": "text"
      },
      "source": [
        "## Reading the Data"
      ]
    },
    {
      "cell_type": "code",
      "metadata": {
        "id": "5kmqOVmd9uaz",
        "colab_type": "code",
        "colab": {}
      },
      "source": [
        "def read_data(path, sample = True, chunksize = 50000): \n",
        "    if sample == True:\n",
        "        df = [] \n",
        "        with open(path, 'rt') as reader:\n",
        "            for i in range(chunksize):\n",
        "                df.append(json.loads(reader.readline()))\n",
        "        df = pd.DataFrame(df)\n",
        "        print('Our sampled dataset have {} rows and {} columns'.format(df.shape[0], df.shape[1]))\n",
        "    else:\n",
        "        df = pd.read_json(path, orient = 'records', lines = True)\n",
        "        print('Our dataset have {} rows and {} columns'.format(df.shape[0], df.shape[1]))\n",
        "        gc.collect()\n",
        "    return df\n",
        "\n",
        "train1 = read_data('simplified-nq-train.jsonl', sample = True)\n",
        "#test = read_data('simplified-nq-test.jsonl', sample = False)\n",
        "train1.head()"
      ],
      "execution_count": null,
      "outputs": []
    },
    {
      "cell_type": "code",
      "metadata": {
        "id": "1Jq8TEb19ua2",
        "colab_type": "code",
        "colab": {}
      },
      "source": [
        ""
      ],
      "execution_count": null,
      "outputs": []
    },
    {
      "cell_type": "markdown",
      "metadata": {
        "id": "MWv46XVY9ua5",
        "colab_type": "text"
      },
      "source": [
        "## Data Preparation"
      ]
    },
    {
      "cell_type": "code",
      "metadata": {
        "id": "EetXNkJA9ua6",
        "colab_type": "code",
        "colab": {}
      },
      "source": [
        "def build_train(train_path, n_rows=200000, sampling_rate=15):\n",
        "    with open(train_path) as f:\n",
        "        processed_rows = []\n",
        "\n",
        "        for i in tqdm(range(n_rows)):\n",
        "            line = f.readline() \n",
        "            if not line:\n",
        "                break\n",
        "\n",
        "            line = json.loads(line)\n",
        "\n",
        "            text = line['document_text'].split(' ')\n",
        "            question = line['question_text']\n",
        "            annotations = line['annotations'][0]\n",
        "            example_id=line['example_id']\n",
        "\n",
        "            for i, candidate in enumerate(line['long_answer_candidates']):\n",
        "                label = i == annotations['long_answer']['candidate_index']\n",
        "\n",
        "                start = candidate['start_token']\n",
        "                end = candidate['end_token']\n",
        "\n",
        "                if label:\n",
        "                    processed_rows.append({\n",
        "                        'text': \" \".join(text),\n",
        "                        'is_long_answer': label,\n",
        "                        'question': question,\n",
        "                        'annotation_id': annotations['annotation_id'],\n",
        "                        'start_index':start,\n",
        "                        'end_index':end,\n",
        "                        'example_id':example_id\n",
        "                    })\n",
        "\n",
        "        train = pd.DataFrame(processed_rows)\n",
        "        \n",
        "        return train"
      ],
      "execution_count": null,
      "outputs": []
    },
    {
      "cell_type": "code",
      "metadata": {
        "id": "SKH3TG-s9ua9",
        "colab_type": "code",
        "colab": {}
      },
      "source": [
        "train_path='simplified-nq-train.jsonl'"
      ],
      "execution_count": null,
      "outputs": []
    },
    {
      "cell_type": "code",
      "metadata": {
        "id": "arqyz2YK9ubA",
        "colab_type": "code",
        "colab": {}
      },
      "source": [
        "train= build_train(train_path) "
      ],
      "execution_count": null,
      "outputs": []
    },
    {
      "cell_type": "code",
      "metadata": {
        "id": "M5J5QW1a9ubD",
        "colab_type": "code",
        "colab": {}
      },
      "source": [
        "pickle.dump(train, open(\"longtrainbuild.pickel\", \"wb\"))"
      ],
      "execution_count": null,
      "outputs": []
    },
    {
      "cell_type": "code",
      "metadata": {
        "id": "BGJMUQGb9ubG",
        "colab_type": "code",
        "colab": {}
      },
      "source": [
        "train=pickle.load(open(\"longtrainbuild.pickel\",\"rb\"))"
      ],
      "execution_count": null,
      "outputs": []
    },
    {
      "cell_type": "code",
      "metadata": {
        "id": "1XcfMPJq9ubI",
        "colab_type": "code",
        "colab": {}
      },
      "source": [
        "long=train[train['is_long_answer']==True]\n",
        "long.shape"
      ],
      "execution_count": null,
      "outputs": []
    },
    {
      "cell_type": "code",
      "metadata": {
        "id": "MhgAVrZ29ubL",
        "colab_type": "code",
        "colab": {}
      },
      "source": [
        "pickle.dump(long, open(\"longbuild.pickel\", \"wb\"))"
      ],
      "execution_count": null,
      "outputs": []
    },
    {
      "cell_type": "code",
      "metadata": {
        "id": "xfLVF5x29ubO",
        "colab_type": "code",
        "colab": {}
      },
      "source": [
        ""
      ],
      "execution_count": null,
      "outputs": []
    },
    {
      "cell_type": "markdown",
      "metadata": {
        "id": "3KwCp0QZ9ubQ",
        "colab_type": "text"
      },
      "source": [
        "## Train_Test_Split"
      ]
    },
    {
      "cell_type": "code",
      "metadata": {
        "id": "uEDIic1p9ubR",
        "colab_type": "code",
        "colab": {}
      },
      "source": [
        "X_trainl, X_testl, y_trainl, y_testl=train_test_split(long[['text','question','example_id']],long[['start_index','end_index']],test_size=0.2)\n",
        "#X_train,X_cv,y_train,y_cv=train_test_split(X_train,y_train,test_size=0.2)"
      ],
      "execution_count": null,
      "outputs": []
    },
    {
      "cell_type": "code",
      "metadata": {
        "id": "aeNExEaE9ubT",
        "colab_type": "code",
        "colab": {}
      },
      "source": [
        "X_trainl = pickle.load(open(\"X_trainl.pickel\",\"rb\"))\n",
        "y_trainl= pickle.load(open(\"y_trainl.pickel\",\"rb\"))\n",
        "X_testl = pickle.load(open(\"X_testl.pickel\",\"rb\"))\n",
        "y_testl=pickle.load(open(\"y_testl.pickel\",\"rb\"))"
      ],
      "execution_count": null,
      "outputs": []
    },
    {
      "cell_type": "code",
      "metadata": {
        "id": "DM1aIH3_9ubW",
        "colab_type": "code",
        "colab": {},
        "outputId": "a62a81ee-696e-49e5-cdc5-90387ebb97b9"
      },
      "source": [
        "X_trainl.head()"
      ],
      "execution_count": null,
      "outputs": [
        {
          "output_type": "execute_result",
          "data": {
            "text/html": [
              "<div>\n",
              "<style scoped>\n",
              "    .dataframe tbody tr th:only-of-type {\n",
              "        vertical-align: middle;\n",
              "    }\n",
              "\n",
              "    .dataframe tbody tr th {\n",
              "        vertical-align: top;\n",
              "    }\n",
              "\n",
              "    .dataframe thead th {\n",
              "        text-align: right;\n",
              "    }\n",
              "</style>\n",
              "<table border=\"1\" class=\"dataframe\">\n",
              "  <thead>\n",
              "    <tr style=\"text-align: right;\">\n",
              "      <th></th>\n",
              "      <th>text</th>\n",
              "      <th>question</th>\n",
              "      <th>example_id</th>\n",
              "    </tr>\n",
              "  </thead>\n",
              "  <tbody>\n",
              "    <tr>\n",
              "      <th>69384</th>\n",
              "      <td>Nobel Prize - Wikipedia &lt;H1&gt; Nobel Prize &lt;/H1&gt;...</td>\n",
              "      <td>what do you get with the nobel peace prize</td>\n",
              "      <td>5511169681578460606</td>\n",
              "    </tr>\n",
              "    <tr>\n",
              "      <th>56120</th>\n",
              "      <td>É - wikipedia &lt;H1&gt; É &lt;/H1&gt; Jump to : navigatio...</td>\n",
              "      <td>how do you get the apostrophe over the e</td>\n",
              "      <td>7180563391193184058</td>\n",
              "    </tr>\n",
              "    <tr>\n",
              "      <th>98445</th>\n",
              "      <td>Mines and Geosciences Bureau Region 13 ( Phili...</td>\n",
              "      <td>where can manganese be found in the philippines</td>\n",
              "      <td>2727980537421680961</td>\n",
              "    </tr>\n",
              "    <tr>\n",
              "      <th>28948</th>\n",
              "      <td>Kensington Security slot - Wikipedia &lt;H1&gt; Kens...</td>\n",
              "      <td>what is a kensington lock slot on a mac</td>\n",
              "      <td>3989086785524790815</td>\n",
              "    </tr>\n",
              "    <tr>\n",
              "      <th>3911</th>\n",
              "      <td>Peaches ( the Presidents of the United States ...</td>\n",
              "      <td>peaches presidents of the united states lyrics...</td>\n",
              "      <td>-2266002850140951599</td>\n",
              "    </tr>\n",
              "  </tbody>\n",
              "</table>\n",
              "</div>"
            ],
            "text/plain": [
              "                                                    text  \\\n",
              "69384  Nobel Prize - Wikipedia <H1> Nobel Prize </H1>...   \n",
              "56120  É - wikipedia <H1> É </H1> Jump to : navigatio...   \n",
              "98445  Mines and Geosciences Bureau Region 13 ( Phili...   \n",
              "28948  Kensington Security slot - Wikipedia <H1> Kens...   \n",
              "3911   Peaches ( the Presidents of the United States ...   \n",
              "\n",
              "                                                question           example_id  \n",
              "69384         what do you get with the nobel peace prize  5511169681578460606  \n",
              "56120           how do you get the apostrophe over the e  7180563391193184058  \n",
              "98445    where can manganese be found in the philippines  2727980537421680961  \n",
              "28948            what is a kensington lock slot on a mac  3989086785524790815  \n",
              "3911   peaches presidents of the united states lyrics... -2266002850140951599  "
            ]
          },
          "metadata": {
            "tags": []
          },
          "execution_count": 20
        }
      ]
    },
    {
      "cell_type": "code",
      "metadata": {
        "id": "gpCosv-a9ubZ",
        "colab_type": "code",
        "colab": {}
      },
      "source": [
        ""
      ],
      "execution_count": null,
      "outputs": []
    },
    {
      "cell_type": "markdown",
      "metadata": {
        "id": "uyjl6bF09ubb",
        "colab_type": "text"
      },
      "source": [
        "## Creating BERT Embeddings for Train and Test Question & Answers"
      ]
    },
    {
      "cell_type": "code",
      "metadata": {
        "id": "SKVEsd4P9ubc",
        "colab_type": "code",
        "colab": {}
      },
      "source": [
        "## Loading the Pretrained Model from tensorflow HUB\n",
        "tf.keras.backend.clear_session()\n",
        "\n",
        "# maximum length of a seq in the data we have, for now i am making it as 55. You can change this\n",
        "max_seq_length = 200\n",
        "\n",
        "#BERT takes 3 inputs\n",
        "\n",
        "#this is input words. Sequence of words represented as integers\n",
        "input_word_ids = tf.keras.layers.Input(shape=(max_seq_length,), dtype=tf.int32, name=\"input_word_ids\")\n",
        "\n",
        "#mask vector if you are padding anything\n",
        "input_mask = tf.keras.layers.Input(shape=(max_seq_length,), dtype=tf.int32, name=\"input_mask\")\n",
        "\n",
        "#segment vectors. If you are giving only one sentence for the classification, total seg vector is 0. \n",
        "#If you are giving two sentenced with [sep] token separated, first seq segment vectors are zeros and \n",
        "#second seq segment vector are 1's\n",
        "segment_ids = tf.keras.layers.Input(shape=(max_seq_length,), dtype=tf.int32, name=\"segment_ids\") \n",
        "\n",
        "#bert layer \n",
        "bert_layer = hub.KerasLayer(\"https://tfhub.dev/tensorflow/bert_en_uncased_L-12_H-768_A-12/1\", trainable=False) \n",
        "pooled_output, sequence_output = bert_layer([input_word_ids, input_mask, segment_ids])\n",
        "\n",
        "#Bert model\n",
        "#We are using only pooled output not sequence out. \n",
        "#If you want to know about those, please read https://www.kaggle.com/questions-and-answers/86510\n",
        "bert_model = Model(inputs=[input_word_ids, input_mask, segment_ids], outputs=pooled_output)\n"
      ],
      "execution_count": null,
      "outputs": []
    },
    {
      "cell_type": "code",
      "metadata": {
        "id": "6SwnEdb29ube",
        "colab_type": "code",
        "colab": {},
        "outputId": "668edc92-066c-4e03-febf-34bdcd4bd9cd"
      },
      "source": [
        "bert_model.summary()"
      ],
      "execution_count": null,
      "outputs": [
        {
          "output_type": "stream",
          "text": [
            "Model: \"functional_1\"\n",
            "__________________________________________________________________________________________________\n",
            "Layer (type)                    Output Shape         Param #     Connected to                     \n",
            "==================================================================================================\n",
            "input_word_ids (InputLayer)     [(None, 200)]        0                                            \n",
            "__________________________________________________________________________________________________\n",
            "input_mask (InputLayer)         [(None, 200)]        0                                            \n",
            "__________________________________________________________________________________________________\n",
            "segment_ids (InputLayer)        [(None, 200)]        0                                            \n",
            "__________________________________________________________________________________________________\n",
            "keras_layer (KerasLayer)        [(None, 768), (None, 109482241   input_word_ids[0][0]             \n",
            "                                                                 input_mask[0][0]                 \n",
            "                                                                 segment_ids[0][0]                \n",
            "==================================================================================================\n",
            "Total params: 109,482,241\n",
            "Trainable params: 0\n",
            "Non-trainable params: 109,482,241\n",
            "__________________________________________________________________________________________________\n"
          ],
          "name": "stdout"
        }
      ]
    },
    {
      "cell_type": "code",
      "metadata": {
        "id": "JK8yYjw39ubh",
        "colab_type": "code",
        "colab": {},
        "outputId": "926c2c4c-241a-4b66-9773-e9900ee5fcb8"
      },
      "source": [
        "bert_model.save(\"bertmodel.pickel\")"
      ],
      "execution_count": null,
      "outputs": [
        {
          "output_type": "stream",
          "text": [
            "WARNING:tensorflow:From /opt/conda/lib/python3.7/site-packages/tensorflow/python/training/tracking/tracking.py:111: Model.state_updates (from tensorflow.python.keras.engine.training) is deprecated and will be removed in a future version.\n",
            "Instructions for updating:\n",
            "This property should not be used in TensorFlow 2.0, as updates are applied automatically.\n"
          ],
          "name": "stdout"
        },
        {
          "output_type": "stream",
          "text": [
            "WARNING:tensorflow:From /opt/conda/lib/python3.7/site-packages/tensorflow/python/training/tracking/tracking.py:111: Model.state_updates (from tensorflow.python.keras.engine.training) is deprecated and will be removed in a future version.\n",
            "Instructions for updating:\n",
            "This property should not be used in TensorFlow 2.0, as updates are applied automatically.\n"
          ],
          "name": "stderr"
        },
        {
          "output_type": "stream",
          "text": [
            "WARNING:tensorflow:From /opt/conda/lib/python3.7/site-packages/tensorflow/python/training/tracking/tracking.py:111: Layer.updates (from tensorflow.python.keras.engine.base_layer) is deprecated and will be removed in a future version.\n",
            "Instructions for updating:\n",
            "This property should not be used in TensorFlow 2.0, as updates are applied automatically.\n"
          ],
          "name": "stdout"
        },
        {
          "output_type": "stream",
          "text": [
            "WARNING:tensorflow:From /opt/conda/lib/python3.7/site-packages/tensorflow/python/training/tracking/tracking.py:111: Layer.updates (from tensorflow.python.keras.engine.base_layer) is deprecated and will be removed in a future version.\n",
            "Instructions for updating:\n",
            "This property should not be used in TensorFlow 2.0, as updates are applied automatically.\n"
          ],
          "name": "stderr"
        },
        {
          "output_type": "stream",
          "text": [
            "INFO:tensorflow:Assets written to: bertmodel.pickel/assets\n"
          ],
          "name": "stdout"
        },
        {
          "output_type": "stream",
          "text": [
            "INFO:tensorflow:Assets written to: bertmodel.pickel/assets\n"
          ],
          "name": "stderr"
        }
      ]
    },
    {
      "cell_type": "code",
      "metadata": {
        "id": "6i1Cibur9ubk",
        "colab_type": "code",
        "colab": {}
      },
      "source": [
        "#getting Vocab file\n",
        "vocab_file = bert_layer.resolved_object.vocab_file.asset_path.numpy()\n",
        "do_lower_case = bert_layer.resolved_object.do_lower_case.numpy()"
      ],
      "execution_count": null,
      "outputs": []
    },
    {
      "cell_type": "code",
      "metadata": {
        "id": "PRXkgLAI9ubm",
        "colab_type": "code",
        "colab": {}
      },
      "source": [
        "tokenizer= tokenization.FullTokenizer(vocab_file, do_lower_case)"
      ],
      "execution_count": null,
      "outputs": []
    },
    {
      "cell_type": "code",
      "metadata": {
        "id": "4J5HMoQT9ubp",
        "colab_type": "code",
        "colab": {}
      },
      "source": [
        "pickle.dump(tokenizer, open(\"tokenizerf.pickel\", \"wb\"))\n",
        "tokenizer = pickle.load(open(\"tokenizerf.pickel\",\"rb\"))"
      ],
      "execution_count": null,
      "outputs": []
    },
    {
      "cell_type": "code",
      "metadata": {
        "id": "SbO5xczq9ubs",
        "colab_type": "code",
        "colab": {}
      },
      "source": [
        "tokenizer = pickle.load(open(\"tokenizerf.pickel\",\"rb\"))"
      ],
      "execution_count": null,
      "outputs": []
    },
    {
      "cell_type": "code",
      "metadata": {
        "id": "u8kHzEqJ9ubu",
        "colab_type": "code",
        "colab": {}
      },
      "source": [
        "to = pickle.load(open(\"tokenizerf.pickel\",\"rb\"))"
      ],
      "execution_count": null,
      "outputs": []
    },
    {
      "cell_type": "code",
      "metadata": {
        "id": "FnqF5UPt9ubx",
        "colab_type": "code",
        "colab": {},
        "outputId": "e7b41222-2940-4121-f72a-9008a1e8aa61"
      },
      "source": [
        "#it has to give no error \n",
        "def grader_tokenize(tokenizer):\n",
        "    out = False\n",
        "    try: \n",
        "        out=('[CLS]' in tokenizer.vocab) and ('[SEP]' in tokenizer.vocab)  \n",
        "    except:\n",
        "        out = False\n",
        "    assert(out==True)\n",
        "    return out\n",
        "grader_tokenize(tokenizer)"
      ],
      "execution_count": null,
      "outputs": [
        {
          "output_type": "execute_result",
          "data": {
            "text/plain": [
              "True"
            ]
          },
          "metadata": {
            "tags": []
          },
          "execution_count": 15
        }
      ]
    },
    {
      "cell_type": "code",
      "metadata": {
        "id": "zNewkAGi9ub0",
        "colab_type": "code",
        "colab": {}
      },
      "source": [
        "max_seq_length=200"
      ],
      "execution_count": null,
      "outputs": []
    },
    {
      "cell_type": "code",
      "metadata": {
        "id": "eVCT0xfx9ub2",
        "colab_type": "code",
        "colab": {}
      },
      "source": [
        "def TokenizeAndConvertToIds(text):\n",
        "    tokens= tokenizer.tokenize(text) # tokenize the reviews\n",
        "    tokens=tokens[0:(max_seq_length-2)] \n",
        "    tokens=['[CLS]',*tokens,'[SEP]'] # adding cls and sep at the end\n",
        "    masked_array=np.array([1]*len(tokens) + [0]* (max_seq_length-len(tokens))) # masking \n",
        "    segment_array=np.array([0]*max_seq_length) \n",
        "    if(len(tokens)<max_seq_length): \n",
        "        padding=['[PAD]']*(max_seq_length-len(tokens)) # padding\n",
        "        tokens=[*tokens,*padding] \n",
        "    tokentoid=np.array(tokenizer.convert_tokens_to_ids(tokens)) # converting the tokens to id\n",
        "    return tokentoid,masked_array,segment_array\n"
      ],
      "execution_count": null,
      "outputs": []
    },
    {
      "cell_type": "code",
      "metadata": {
        "id": "hJ7j4UMx9ub4",
        "colab_type": "code",
        "colab": {}
      },
      "source": [
        "X_tr1=X_trainl['text']\n",
        "X_te1=X_testl['text']"
      ],
      "execution_count": null,
      "outputs": []
    },
    {
      "cell_type": "code",
      "metadata": {
        "id": "Z8nXV7rp9ub6",
        "colab_type": "code",
        "colab": {}
      },
      "source": [
        "X_trq1=X_trainl['question']\n",
        "X_teq1=X_testl['question']"
      ],
      "execution_count": null,
      "outputs": []
    },
    {
      "cell_type": "code",
      "metadata": {
        "id": "MhoQvgOP9ub_",
        "colab_type": "code",
        "colab": {}
      },
      "source": [
        "pickle.dump(X_tr1, open(\"X_trf1.pickel\", \"wb\"))\n",
        "pickle.dump(X_te1, open(\"X_tef1.pickel\", \"wb\"))"
      ],
      "execution_count": null,
      "outputs": []
    },
    {
      "cell_type": "code",
      "metadata": {
        "id": "P3TPla2O9ucB",
        "colab_type": "code",
        "colab": {}
      },
      "source": [
        "pickle.dump(X_trq1, open(\"X_trqf1.pickel\", \"wb\"))\n",
        "pickle.dump(X_teq1, open(\"X_teqf1.pickel\", \"wb\"))"
      ],
      "execution_count": null,
      "outputs": []
    },
    {
      "cell_type": "code",
      "metadata": {
        "id": "3c8T0iKC9ucE",
        "colab_type": "code",
        "colab": {}
      },
      "source": [
        "X_tr1 = pickle.load(open(\"X_trf1.pickel\",\"rb\"))\n",
        "X_te1 = pickle.load(open(\"X_tef1.pickel\",\"rb\"))"
      ],
      "execution_count": null,
      "outputs": []
    },
    {
      "cell_type": "code",
      "metadata": {
        "id": "Tj7QPdhn9ucG",
        "colab_type": "code",
        "colab": {}
      },
      "source": [
        "X_trq1 = pickle.load(open(\"X_trqf1.pickel\",\"rb\"))\n",
        "X_teq1 = pickle.load(open(\"X_teqf1.pickel\",\"rb\"))"
      ],
      "execution_count": null,
      "outputs": []
    },
    {
      "cell_type": "code",
      "metadata": {
        "id": "3Y7ko8x29ucI",
        "colab_type": "code",
        "colab": {}
      },
      "source": [
        ""
      ],
      "execution_count": null,
      "outputs": []
    },
    {
      "cell_type": "code",
      "metadata": {
        "id": "iThajLkC9ucK",
        "colab_type": "code",
        "colab": {}
      },
      "source": [
        "%%time\n",
        "from tqdm import tqdm\n",
        "X_train_tokens,X_test_tokens=[],[]\n",
        "X_train_mask,X_test_mask=[],[] \n",
        "X_train_segment,X_test_segment=[],[]\n",
        "for i in tqdm(X_tr1):\n",
        "    tokentoid,masked_array,segment_array=TokenizeAndConvertToIds(i) \n",
        "    X_train_tokens.append(tokentoid) \n",
        "    X_train_mask.append(masked_array)\n",
        "    X_train_segment.append(segment_array) \n",
        "for i in tqdm(X_te1): \n",
        "    tokentoid,masked_array,segment_array=TokenizeAndConvertToIds(i)\n",
        "    X_test_tokens.append(tokentoid)\n",
        "    X_test_mask.append(masked_array)\n",
        "    X_test_segment.append(segment_array)\n"
      ],
      "execution_count": null,
      "outputs": []
    },
    {
      "cell_type": "code",
      "metadata": {
        "id": "sVpU28gB9ucM",
        "colab_type": "code",
        "colab": {}
      },
      "source": [
        "X_train_tokens,X_test_tokens=np.asarray(X_train_tokens),np.asarray(X_test_tokens)\n",
        "X_train_mask,X_test_mask=np.asarray(X_train_mask),np.asarray(X_test_mask) \n",
        "X_train_segment,X_test_segment=np.asarray(X_train_segment),np.asarray(X_test_segment) "
      ],
      "execution_count": null,
      "outputs": []
    },
    {
      "cell_type": "code",
      "metadata": {
        "id": "9RWjTDKe9ucO",
        "colab_type": "code",
        "colab": {}
      },
      "source": [
        "def grader_alltokens_train(): \n",
        "    out = False \n",
        "    \n",
        "    if type(X_train_tokens) == np.ndarray:\n",
        "        \n",
        "        temp_shapes = (X_train_tokens.shape[1]==max_seq_length) and (X_train_mask.shape[1]==max_seq_length) and \\\n",
        "        (X_train_segment.shape[1]==max_seq_length) \n",
        "        \n",
        "        segment_temp = not np.any(X_train_segment)\n",
        "        \n",
        "        mask_temp = np.sum(X_train_mask==0) == np.sum(X_train_tokens==0)\n",
        "        \n",
        "        no_cls = np.sum(X_train_tokens==tokenizer.vocab['[CLS]'])==X_train_tokens.shape[0]\n",
        "        \n",
        "        no_sep = np.sum(X_train_tokens==tokenizer.vocab['[SEP]'])==X_train_tokens.shape[0]   \n",
        "        \n",
        "        out = temp_shapes and segment_temp and mask_temp and no_cls and no_sep\n",
        "      \n",
        "    else:\n",
        "        print('Type of all above token arrays should be numpy array not list')\n",
        "        out = False\n",
        "    assert(out==True)\n",
        "    return out\n",
        "\n",
        "grader_alltokens_train()"
      ],
      "execution_count": null,
      "outputs": []
    },
    {
      "cell_type": "code",
      "metadata": {
        "id": "WpdOoaZL9ucR",
        "colab_type": "code",
        "colab": {}
      },
      "source": [
        "def grader_alltokens_test():\n",
        "    out = False\n",
        "    if type(X_test_tokens) == np.ndarray:\n",
        "        \n",
        "        temp_shapes = (X_test_tokens.shape[1]==max_seq_length) and (X_test_mask.shape[1]==max_seq_length) and \\\n",
        "        (X_test_segment.shape[1]==max_seq_length)\n",
        "        \n",
        "        segment_temp = not np.any(X_test_segment) \n",
        "        \n",
        "        mask_temp = np.sum(X_test_mask==0) == np.sum(X_test_tokens==0)\n",
        "        \n",
        "        no_cls = np.sum(X_test_tokens==tokenizer.vocab['[CLS]'])==X_test_tokens.shape[0]\n",
        "        \n",
        "        no_sep = np.sum(X_test_tokens==tokenizer.vocab['[SEP]'])==X_test_tokens.shape[0]\n",
        "        \n",
        "        out = temp_shapes and segment_temp and mask_temp and no_cls and no_sep\n",
        "      \n",
        "    else:\n",
        "        print('Type of all above token arrays should be numpy array not list')\n",
        "        out = False\n",
        "    assert(out==True)\n",
        "    return out\n",
        "grader_alltokens_test()"
      ],
      "execution_count": null,
      "outputs": []
    },
    {
      "cell_type": "code",
      "metadata": {
        "id": "3lZlPpI39ucT",
        "colab_type": "code",
        "colab": {}
      },
      "source": [
        "# get the train output, BERT model will give one output so save in\n",
        "# X_train_pooled_output \n",
        "X_train_pooled_output1=bert_model.predict([X_train_tokens,X_train_mask,X_train_segment])\n",
        "pickle.dump(X_train_pooled_output1,open('X_train_pooled_output1.pkl','wb'))"
      ],
      "execution_count": null,
      "outputs": []
    },
    {
      "cell_type": "code",
      "metadata": {
        "id": "SY4QJMEH9ucV",
        "colab_type": "code",
        "colab": {}
      },
      "source": [
        "# get the test output, BERT model will give one output so save in\n",
        "# X_test_pooled_output \n",
        "X_test_pooled_output1=bert_model.predict([X_test_tokens,X_test_mask,X_test_segment])  \n",
        "##save all your results to disk so that, no need to run all again. \n",
        "\n",
        "pickle.dump(X_test_pooled_output1,open('X_test_pooled_output1.pkl','wb'))"
      ],
      "execution_count": null,
      "outputs": []
    },
    {
      "cell_type": "code",
      "metadata": {
        "id": "6RxhI3OI9ucY",
        "colab_type": "code",
        "colab": {}
      },
      "source": [
        "X_train_pooled_output1 = pickle.load(open(\"X_train_pooled_output1.pkl\",\"rb\"))\n",
        "X_test_pooled_output1 = pickle.load(open(\"X_test_pooled_output1.pkl\",\"rb\"))"
      ],
      "execution_count": null,
      "outputs": []
    },
    {
      "cell_type": "code",
      "metadata": {
        "id": "38PoAUQf9ucb",
        "colab_type": "code",
        "colab": {}
      },
      "source": [
        ""
      ],
      "execution_count": null,
      "outputs": []
    },
    {
      "cell_type": "code",
      "metadata": {
        "id": "Bk2IU_zg9uce",
        "colab_type": "code",
        "colab": {}
      },
      "source": [
        "from tqdm import tqdm\n",
        "X_train_tokens,X_test_tokens=[],[]\n",
        "X_train_mask,X_test_mask=[],[]\n",
        "X_train_segment,X_test_segment=[],[]\n",
        "for i in tqdm(X_trq1):\n",
        "    tokentoid,masked_array,segment_array=TokenizeAndConvertToIds(i) \n",
        "    X_train_tokens.append(tokentoid) \n",
        "    X_train_mask.append(masked_array)\n",
        "    X_train_segment.append(segment_array) \n",
        "for i in tqdm(X_teq1): \n",
        "    tokentoid,masked_array,segment_array=TokenizeAndConvertToIds(i)\n",
        "    X_test_tokens.append(tokentoid)\n",
        "    X_test_mask.append(masked_array)\n",
        "    X_test_segment.append(segment_array)"
      ],
      "execution_count": null,
      "outputs": []
    },
    {
      "cell_type": "code",
      "metadata": {
        "id": "cVnB_CO59ucg",
        "colab_type": "code",
        "colab": {}
      },
      "source": [
        "X_train_tokens,X_test_tokens=np.asarray(X_train_tokens),np.asarray(X_test_tokens)\n",
        "X_train_mask,X_test_mask=np.asarray(X_train_mask),np.asarray(X_test_mask) \n",
        "X_train_segment,X_test_segment=np.asarray(X_train_segment),np.asarray(X_test_segment) "
      ],
      "execution_count": null,
      "outputs": []
    },
    {
      "cell_type": "code",
      "metadata": {
        "id": "weSW-k_P9ucj",
        "colab_type": "code",
        "colab": {}
      },
      "source": [
        "def grader_alltokens_train(): \n",
        "    out = False \n",
        "    \n",
        "    if type(X_train_tokens) == np.ndarray:\n",
        "        \n",
        "        temp_shapes = (X_train_tokens.shape[1]==max_seq_length) and (X_train_mask.shape[1]==max_seq_length) and \\\n",
        "        (X_train_segment.shape[1]==max_seq_length) \n",
        "        \n",
        "        segment_temp = not np.any(X_train_segment)\n",
        "        \n",
        "        mask_temp = np.sum(X_train_mask==0) == np.sum(X_train_tokens==0)\n",
        "        \n",
        "        no_cls = np.sum(X_train_tokens==tokenizer.vocab['[CLS]'])==X_train_tokens.shape[0]\n",
        "        \n",
        "        no_sep = np.sum(X_train_tokens==tokenizer.vocab['[SEP]'])==X_train_tokens.shape[0]   \n",
        "        \n",
        "        out = temp_shapes and segment_temp and mask_temp and no_cls and no_sep\n",
        "      \n",
        "    else:\n",
        "        print('Type of all above token arrays should be numpy array not list')\n",
        "        out = False\n",
        "    assert(out==True)\n",
        "    return out\n",
        "\n",
        "grader_alltokens_train()"
      ],
      "execution_count": null,
      "outputs": []
    },
    {
      "cell_type": "code",
      "metadata": {
        "id": "NClS3XEt9ucl",
        "colab_type": "code",
        "colab": {}
      },
      "source": [
        "def grader_alltokens_test():\n",
        "    out = False\n",
        "    if type(X_test_tokens) == np.ndarray:\n",
        "        \n",
        "        temp_shapes = (X_test_tokens.shape[1]==max_seq_length) and (X_test_mask.shape[1]==max_seq_length) and \\\n",
        "        (X_test_segment.shape[1]==max_seq_length)\n",
        "        \n",
        "        segment_temp = not np.any(X_test_segment) \n",
        "        \n",
        "        mask_temp = np.sum(X_test_mask==0) == np.sum(X_test_tokens==0)\n",
        "        \n",
        "        no_cls = np.sum(X_test_tokens==tokenizer.vocab['[CLS]'])==X_test_tokens.shape[0]\n",
        "        \n",
        "        no_sep = np.sum(X_test_tokens==tokenizer.vocab['[SEP]'])==X_test_tokens.shape[0]\n",
        "        \n",
        "        out = temp_shapes and segment_temp and mask_temp and no_cls and no_sep\n",
        "      \n",
        "    else:\n",
        "        print('Type of all above token arrays should be numpy array not list')\n",
        "        out = False\n",
        "    assert(out==True)\n",
        "    return out\n",
        "grader_alltokens_test()"
      ],
      "execution_count": null,
      "outputs": []
    },
    {
      "cell_type": "code",
      "metadata": {
        "id": "a3OS9den9ucn",
        "colab_type": "code",
        "colab": {}
      },
      "source": [
        "# get the train output, BERT model will give one output so save in\n",
        "# X_train_pooled_output \n",
        "X_train_pooled_outputq1=bert_model.predict([X_train_tokens,X_train_mask,X_train_segment])"
      ],
      "execution_count": null,
      "outputs": []
    },
    {
      "cell_type": "code",
      "metadata": {
        "id": "HFwmD71l9ucp",
        "colab_type": "code",
        "colab": {}
      },
      "source": [
        "##save all your results to disk so that, no need to run all again. \n",
        "pickle.dump(X_train_pooled_outputq1,open('X_train_pooled_outputq1.pkl','wb'))"
      ],
      "execution_count": null,
      "outputs": []
    },
    {
      "cell_type": "code",
      "metadata": {
        "id": "c0z3kuTK9ucr",
        "colab_type": "code",
        "colab": {}
      },
      "source": [
        "# get the test output, BERT model will give one output so save in\n",
        "# X_test_pooled_output \n",
        "X_test_pooled_outputq1=bert_model.predict([X_test_tokens,X_test_mask,X_test_segment])  "
      ],
      "execution_count": null,
      "outputs": []
    },
    {
      "cell_type": "code",
      "metadata": {
        "id": "U1tCgilf9ucu",
        "colab_type": "code",
        "colab": {}
      },
      "source": [
        "pickle.dump(X_test_pooled_outputq1,open('X_test_pooled_outputq1.pkl','wb'))"
      ],
      "execution_count": null,
      "outputs": []
    },
    {
      "cell_type": "code",
      "metadata": {
        "id": "JXSuPYX09ucx",
        "colab_type": "code",
        "colab": {}
      },
      "source": [
        "X_train_pooled_outputq1 = pickle.load(open(\"X_train_pooled_outputq1.pkl\",\"rb\"))\n",
        "X_test_pooled_outputq1 = pickle.load(open(\"X_test_pooled_outputq1.pkl\",\"rb\"))"
      ],
      "execution_count": null,
      "outputs": []
    },
    {
      "cell_type": "code",
      "metadata": {
        "id": "tYKEUAok9uc0",
        "colab_type": "code",
        "colab": {}
      },
      "source": [
        ""
      ],
      "execution_count": null,
      "outputs": []
    },
    {
      "cell_type": "code",
      "metadata": {
        "id": "A-lo8p-k9uc2",
        "colab_type": "code",
        "colab": {}
      },
      "source": [
        ""
      ],
      "execution_count": null,
      "outputs": []
    },
    {
      "cell_type": "markdown",
      "metadata": {
        "id": "zgu8M3969uc5",
        "colab_type": "text"
      },
      "source": [
        "## Train question and text Reshape"
      ]
    },
    {
      "cell_type": "code",
      "metadata": {
        "id": "_8RJynYq9uc5",
        "colab_type": "code",
        "colab": {}
      },
      "source": [
        "X_traint1=X_train_pooled_output1.reshape(X_train_pooled_output1.shape[0],X_train_pooled_output1.shape[1],1) "
      ],
      "execution_count": null,
      "outputs": []
    },
    {
      "cell_type": "code",
      "metadata": {
        "id": "Epn2_YQn9uc7",
        "colab_type": "code",
        "colab": {}
      },
      "source": [
        "X_trainq1=X_train_pooled_outputq1.reshape(X_train_pooled_outputq1.shape[0],X_train_pooled_outputq1.shape[1],1) "
      ],
      "execution_count": null,
      "outputs": []
    },
    {
      "cell_type": "code",
      "metadata": {
        "id": "jgs2qvZK9uc9",
        "colab_type": "code",
        "colab": {}
      },
      "source": [
        ""
      ],
      "execution_count": null,
      "outputs": []
    },
    {
      "cell_type": "code",
      "metadata": {
        "id": "C-fqo4kL9uc_",
        "colab_type": "code",
        "colab": {}
      },
      "source": [
        "import tensorflow as tf"
      ],
      "execution_count": null,
      "outputs": []
    },
    {
      "cell_type": "code",
      "metadata": {
        "id": "YCmSX1CI9udB",
        "colab_type": "code",
        "colab": {}
      },
      "source": [
        "k = tf.keras.initializers.he_uniform(seed=None)"
      ],
      "execution_count": null,
      "outputs": []
    },
    {
      "cell_type": "code",
      "metadata": {
        "id": "a1FX2jIv9udD",
        "colab_type": "code",
        "colab": {}
      },
      "source": [
        ""
      ],
      "execution_count": null,
      "outputs": []
    },
    {
      "cell_type": "code",
      "metadata": {
        "id": "vO36ly9A9udF",
        "colab_type": "code",
        "colab": {}
      },
      "source": [
        ""
      ],
      "execution_count": null,
      "outputs": []
    },
    {
      "cell_type": "markdown",
      "metadata": {
        "id": "fNO6Au_u9udH",
        "colab_type": "text"
      },
      "source": [
        "## MODEL 2"
      ]
    },
    {
      "cell_type": "code",
      "metadata": {
        "id": "5iYlYRqe9udH",
        "colab_type": "code",
        "colab": {}
      },
      "source": [
        "tokenizer=pickle.load(open(\"tokenizerlong2f.pickel\",\"rb\"))"
      ],
      "execution_count": null,
      "outputs": []
    },
    {
      "cell_type": "code",
      "metadata": {
        "id": "G0ST_Vp69udK",
        "colab_type": "code",
        "colab": {}
      },
      "source": [
        "def compute_text_and_questions(X_trainl,tokenizer):\n",
        "    \n",
        "    #train_text = tokenizer.texts_to_sequences(X_train.text.values)\n",
        "    train_questions = tokenizer.texts_to_sequences(X_trainl.question.values)  \n",
        "    #train_text = sequence.pad_sequences(train_text, maxlen=300)\n",
        "    train_questions = sequence.pad_sequences(train_questions)\n",
        "\n",
        "    return train_questions\n"
      ],
      "execution_count": null,
      "outputs": []
    },
    {
      "cell_type": "code",
      "metadata": {
        "id": "K4scXWxL9udL",
        "colab_type": "code",
        "colab": {}
      },
      "source": [
        "def compute_text_and_questions1(X_testl,tokenizer):\n",
        "    \n",
        "    test_questions = tokenizer.texts_to_sequences(X_testl.question.values)\n",
        "    \n",
        "    \n",
        "    #train_text = sequence.pad_sequences(train_text, maxlen=300)\n",
        "    test_questions = sequence.pad_sequences(test_questions)\n",
        "\n",
        "   # return train_text, train_questions,cv_text,cv_questions, test_text, test_questions\n",
        "    return test_questions\n"
      ],
      "execution_count": null,
      "outputs": []
    },
    {
      "cell_type": "code",
      "metadata": {
        "id": "ui02YUla9udN",
        "colab_type": "code",
        "colab": {}
      },
      "source": [
        "train_questions=compute_text_and_questions(X_trainl,tokenizer)\n",
        "test_questions=compute_text_and_questions1(X_testl,tokenizer)"
      ],
      "execution_count": null,
      "outputs": []
    },
    {
      "cell_type": "code",
      "metadata": {
        "id": "BJzQndRY9udP",
        "colab_type": "code",
        "colab": {}
      },
      "source": [
        "def build_embedding_matrix(tokenizer, path):\n",
        "    embedding_matrix = np.zeros((tokenizer.num_words + 1, 300))\n",
        "    ft_model = fasttext.load_model(path)\n",
        "\n",
        "    for word, i in tokenizer.word_index.items():\n",
        "        if i >= tokenizer.num_words - 1:\n",
        "            break\n",
        "        embedding_matrix[i] = ft_model.get_word_vector(word)\n",
        "    \n",
        "    return embedding_matrix"
      ],
      "execution_count": null,
      "outputs": []
    },
    {
      "cell_type": "code",
      "metadata": {
        "scrolled": true,
        "id": "yfqbTuHW9udR",
        "colab_type": "code",
        "colab": {},
        "outputId": "6bb95b5c-1f20-4000-9019-91abd9811402"
      },
      "source": [
        "path = 'crawl-300d-2M-subword.bin'\n",
        "embedding_matrix = build_embedding_matrix(tokenizer, path)"
      ],
      "execution_count": null,
      "outputs": [
        {
          "output_type": "stream",
          "text": [
            "Warning : `load_model` does not return WordVectorModel or SupervisedModel any more, but a `FastText` object which is very similar.\n"
          ],
          "name": "stderr"
        }
      ]
    },
    {
      "cell_type": "code",
      "metadata": {
        "id": "lxYaWJLW9udS",
        "colab_type": "code",
        "colab": {},
        "outputId": "88f0614f-4e10-41b5-bc49-e9fa48dd9f08"
      },
      "source": [
        "embedding_matrix.shape"
      ],
      "execution_count": null,
      "outputs": [
        {
          "output_type": "execute_result",
          "data": {
            "text/plain": [
              "(80001, 300)"
            ]
          },
          "metadata": {
            "tags": []
          },
          "execution_count": 17
        }
      ]
    },
    {
      "cell_type": "code",
      "metadata": {
        "id": "whKJqZoD9udU",
        "colab_type": "code",
        "colab": {}
      },
      "source": [
        "np.save('embedding_matrix1.npy', embedding_matrix) # save\n",
        "embedding_matrix = np.load('embedding_matrix1.npy') # load"
      ],
      "execution_count": null,
      "outputs": []
    },
    {
      "cell_type": "code",
      "metadata": {
        "id": "H15tsiNr9udX",
        "colab_type": "code",
        "colab": {}
      },
      "source": [
        "embedding = Embedding(\n",
        "        *embedding_matrix.shape, \n",
        "        weights=[embedding_matrix], \n",
        "        trainable=False, \n",
        "        mask_zero=True)"
      ],
      "execution_count": null,
      "outputs": []
    },
    {
      "cell_type": "code",
      "metadata": {
        "id": "Kt2EPqy49udb",
        "colab_type": "code",
        "colab": {}
      },
      "source": [
        ""
      ],
      "execution_count": null,
      "outputs": []
    },
    {
      "cell_type": "code",
      "metadata": {
        "id": "WLZ1n6ye9udd",
        "colab_type": "code",
        "colab": {}
      },
      "source": [
        "#k = tf.keras.initializers.GlorotUniform(seed=None)"
      ],
      "execution_count": null,
      "outputs": []
    },
    {
      "cell_type": "code",
      "metadata": {
        "id": "MFGAA_Tn9ude",
        "colab_type": "code",
        "colab": {}
      },
      "source": [
        ""
      ],
      "execution_count": null,
      "outputs": []
    },
    {
      "cell_type": "code",
      "metadata": {
        "id": "AkWxBvYH9udf",
        "colab_type": "code",
        "colab": {}
      },
      "source": [
        ""
      ],
      "execution_count": null,
      "outputs": []
    },
    {
      "cell_type": "code",
      "metadata": {
        "id": "01Ia3TMZ9udh",
        "colab_type": "code",
        "colab": {}
      },
      "source": [
        "q_in = Input(shape=(None,),name='input1') \n",
        "\n",
        "#embedding = Embedding(len(tokenizer.word_index)+1,300,input_length=X_train_pooled_outputq1.shape[1:],trainable=False,mask_zero=True)(q_in)\n",
        "q= embedding(q_in)\n",
        "q = layers.Bidirectional(tf.keras.layers.LSTM(64, activation=\"tanh\",recurrent_activation=\"sigmoid\",\n",
        "                                              return_sequences=True),name='questionLSTM')(q)\n",
        "q = SpatialDropout1D(0.2,name='questionDropout')(q) \n",
        "q = tf.keras.layers.LeakyReLU(alpha=0.3,name='questionLeakyReLU')(q) \n",
        "q = tensorflow.keras.layers.GlobalMaxPooling1D(name='questionGBMaxPool')(q)\n",
        "\n",
        "\n",
        "t_in = Input(shape=X_traint1.shape[1:],name='input2')                 \n",
        "t = Conv1D(32, kernel_size=(3), activation='relu',strides=1, name='textCNN1')(t_in) \n",
        "t = Conv1D(64, kernel_size=(3), activation='relu',strides=1,name='textCNN2')(t) \n",
        "t = tf.keras.layers.LeakyReLU(alpha=0.3,name='textLeakyReLU')(t)\n",
        "t = tensorflow.keras.layers.GlobalMaxPooling1D(name='textGBMaxPool')(t)\n",
        "\n",
        "\n",
        "\n",
        "hidden = concatenate([q, t])  \n",
        "hidden = Dense(700, activation='relu',kernel_initializer=k)(hidden) \n",
        "hidden = Dropout(0.6)(hidden)\n",
        "hidden = Dense(600, activation='relu',kernel_initializer=k)(hidden) \n",
        "hidden = Dropout(0.5)(hidden)\n",
        "hidden = Dense(500, activation='relu',kernel_initializer=k)(hidden)\n",
        "hidden = Dropout(0.5)(hidden)\n",
        "hidden = Dense(400, activation='relu',kernel_initializer=k)(hidden)\n",
        "\n",
        "\n",
        "\n",
        "out1 = Dense(1, activation='softplus',name='out1')(hidden) \n",
        "out2 = Dense(1, activation='softplus',name='out2')(hidden)\n",
        "#out=Dense(3,activation='softmax',name='out')(hidden)\n",
        "\n",
        "model1 = Model(inputs=[q_in, t_in], outputs=[out1,out2])\n",
        "model1.compile(loss={'out1':'mean_squared_logarithmic_error','out2':'mean_squared_logarithmic_error'\n",
        "                   } , optimizer=tf.keras.optimizers.Adam(learning_rate=0.03))"
      ],
      "execution_count": null,
      "outputs": []
    },
    {
      "cell_type": "code",
      "metadata": {
        "scrolled": false,
        "id": "LtscE8gT9udk",
        "colab_type": "code",
        "colab": {},
        "outputId": "29341d29-5681-404c-fd4b-0bee83185781"
      },
      "source": [
        "print(model1.summary()) "
      ],
      "execution_count": null,
      "outputs": [
        {
          "output_type": "stream",
          "text": [
            "Model: \"functional_1\"\n",
            "__________________________________________________________________________________________________\n",
            "Layer (type)                    Output Shape         Param #     Connected to                     \n",
            "==================================================================================================\n",
            "input1 (InputLayer)             [(None, None)]       0                                            \n",
            "__________________________________________________________________________________________________\n",
            "embedding (Embedding)           (None, None, 300)    24000300    input1[0][0]                     \n",
            "__________________________________________________________________________________________________\n",
            "input2 (InputLayer)             [(None, 768, 1)]     0                                            \n",
            "__________________________________________________________________________________________________\n",
            "questionLSTM (Bidirectional)    (None, None, 128)    186880      embedding[1][0]                  \n",
            "__________________________________________________________________________________________________\n",
            "textCNN1 (Conv1D)               (None, 766, 32)      128         input2[0][0]                     \n",
            "__________________________________________________________________________________________________\n",
            "questionDropout (SpatialDropout (None, None, 128)    0           questionLSTM[0][0]               \n",
            "__________________________________________________________________________________________________\n",
            "textCNN2 (Conv1D)               (None, 764, 64)      6208        textCNN1[0][0]                   \n",
            "__________________________________________________________________________________________________\n",
            "questionLeakyReLU (LeakyReLU)   (None, None, 128)    0           questionDropout[0][0]            \n",
            "__________________________________________________________________________________________________\n",
            "textLeakyReLU (LeakyReLU)       (None, 764, 64)      0           textCNN2[0][0]                   \n",
            "__________________________________________________________________________________________________\n",
            "questionGBMaxPool (GlobalMaxPoo (None, 128)          0           questionLeakyReLU[0][0]          \n",
            "__________________________________________________________________________________________________\n",
            "textGBMaxPool (GlobalMaxPooling (None, 64)           0           textLeakyReLU[0][0]              \n",
            "__________________________________________________________________________________________________\n",
            "concatenate (Concatenate)       (None, 192)          0           questionGBMaxPool[0][0]          \n",
            "                                                                 textGBMaxPool[0][0]              \n",
            "__________________________________________________________________________________________________\n",
            "dense (Dense)                   (None, 700)          135100      concatenate[0][0]                \n",
            "__________________________________________________________________________________________________\n",
            "dropout (Dropout)               (None, 700)          0           dense[0][0]                      \n",
            "__________________________________________________________________________________________________\n",
            "dense_1 (Dense)                 (None, 600)          420600      dropout[0][0]                    \n",
            "__________________________________________________________________________________________________\n",
            "dropout_1 (Dropout)             (None, 600)          0           dense_1[0][0]                    \n",
            "__________________________________________________________________________________________________\n",
            "dense_2 (Dense)                 (None, 500)          300500      dropout_1[0][0]                  \n",
            "__________________________________________________________________________________________________\n",
            "dropout_2 (Dropout)             (None, 500)          0           dense_2[0][0]                    \n",
            "__________________________________________________________________________________________________\n",
            "dense_3 (Dense)                 (None, 400)          200400      dropout_2[0][0]                  \n",
            "__________________________________________________________________________________________________\n",
            "out1 (Dense)                    (None, 1)            401         dense_3[0][0]                    \n",
            "__________________________________________________________________________________________________\n",
            "out2 (Dense)                    (None, 1)            401         dense_3[0][0]                    \n",
            "==================================================================================================\n",
            "Total params: 25,250,918\n",
            "Trainable params: 1,250,618\n",
            "Non-trainable params: 24,000,300\n",
            "__________________________________________________________________________________________________\n",
            "None\n"
          ],
          "name": "stdout"
        }
      ]
    },
    {
      "cell_type": "code",
      "metadata": {
        "id": "a2XbqPwG9udm",
        "colab_type": "code",
        "colab": {}
      },
      "source": [
        ""
      ],
      "execution_count": null,
      "outputs": []
    },
    {
      "cell_type": "code",
      "metadata": {
        "id": "_lshwJFZ9udo",
        "colab_type": "code",
        "colab": {}
      },
      "source": [
        ""
      ],
      "execution_count": null,
      "outputs": []
    },
    {
      "cell_type": "code",
      "metadata": {
        "id": "EW0rJuFB9udq",
        "colab_type": "code",
        "colab": {}
      },
      "source": [
        ""
      ],
      "execution_count": null,
      "outputs": []
    },
    {
      "cell_type": "markdown",
      "metadata": {
        "id": "k94VXpcW9udr",
        "colab_type": "text"
      },
      "source": [
        "## Image 1"
      ]
    },
    {
      "cell_type": "code",
      "metadata": {
        "scrolled": true,
        "id": "7ndwSvMM9uds",
        "colab_type": "code",
        "colab": {},
        "outputId": "ee7f199f-552d-4b58-acbc-3aa9914b0021"
      },
      "source": [
        "SVG(model_to_dot(model1).create(prog='dot',format='svg'))"
      ],
      "execution_count": null,
      "outputs": [
        {
          "output_type": "execute_result",
          "data": {
            "image/svg+xml": "<svg height=\"1423pt\" viewBox=\"0.00 0.00 524.50 1067.00\" width=\"699pt\" xmlns=\"http://www.w3.org/2000/svg\" xmlns:xlink=\"http://www.w3.org/1999/xlink\">\n<g class=\"graph\" id=\"graph0\" transform=\"scale(0.75 0.75) rotate(0) translate(4 1063)\">\n<title>G</title>\n<polygon fill=\"white\" points=\"-4,4 -4,-1063 520.5,-1063 520.5,4 -4,4\" stroke=\"transparent\"/>\n<!-- 140003526005648 -->\n<g class=\"node\" id=\"node1\">\n<title>140003526005648</title>\n<polygon fill=\"none\" points=\"75,-1022.5 75,-1058.5 194,-1058.5 194,-1022.5 75,-1022.5\" stroke=\"black\"/>\n<text font-family=\"Times,serif\" font-size=\"14.00\" text-anchor=\"middle\" x=\"134.5\" y=\"-1036.8\">input1: InputLayer</text>\n</g>\n<!-- 140003667587664 -->\n<g class=\"node\" id=\"node2\">\n<title>140003667587664</title>\n<polygon fill=\"none\" points=\"60.5,-949.5 60.5,-985.5 208.5,-985.5 208.5,-949.5 60.5,-949.5\" stroke=\"black\"/>\n<text font-family=\"Times,serif\" font-size=\"14.00\" text-anchor=\"middle\" x=\"134.5\" y=\"-963.8\">embedding: Embedding</text>\n</g>\n<!-- 140003526005648&#45;&gt;140003667587664 -->\n<g class=\"edge\" id=\"edge1\">\n<title>140003526005648-&gt;140003667587664</title>\n<path d=\"M134.5,-1022.31C134.5,-1014.29 134.5,-1004.55 134.5,-995.57\" fill=\"none\" stroke=\"black\"/>\n<polygon fill=\"black\" points=\"138,-995.53 134.5,-985.53 131,-995.53 138,-995.53\" stroke=\"black\"/>\n</g>\n<!-- 140003526007504 -->\n<g class=\"node\" id=\"node4\">\n<title>140003526007504</title>\n<polygon fill=\"none\" points=\"0,-876.5 0,-912.5 269,-912.5 269,-876.5 0,-876.5\" stroke=\"black\"/>\n<text font-family=\"Times,serif\" font-size=\"14.00\" text-anchor=\"middle\" x=\"134.5\" y=\"-890.8\">questionLSTM(lstm_1): Bidirectional(LSTM)</text>\n</g>\n<!-- 140003667587664&#45;&gt;140003526007504 -->\n<g class=\"edge\" id=\"edge2\">\n<title>140003667587664-&gt;140003526007504</title>\n<path d=\"M134.5,-949.31C134.5,-941.29 134.5,-931.55 134.5,-922.57\" fill=\"none\" stroke=\"black\"/>\n<polygon fill=\"black\" points=\"138,-922.53 134.5,-912.53 131,-922.53 138,-922.53\" stroke=\"black\"/>\n</g>\n<!-- 140003525977552 -->\n<g class=\"node\" id=\"node3\">\n<title>140003525977552</title>\n<polygon fill=\"none\" points=\"340,-949.5 340,-985.5 459,-985.5 459,-949.5 340,-949.5\" stroke=\"black\"/>\n<text font-family=\"Times,serif\" font-size=\"14.00\" text-anchor=\"middle\" x=\"399.5\" y=\"-963.8\">input2: InputLayer</text>\n</g>\n<!-- 140003053521104 -->\n<g class=\"node\" id=\"node5\">\n<title>140003053521104</title>\n<polygon fill=\"none\" points=\"337,-876.5 337,-912.5 462,-912.5 462,-876.5 337,-876.5\" stroke=\"black\"/>\n<text font-family=\"Times,serif\" font-size=\"14.00\" text-anchor=\"middle\" x=\"399.5\" y=\"-890.8\">textCNN1: Conv1D</text>\n</g>\n<!-- 140003525977552&#45;&gt;140003053521104 -->\n<g class=\"edge\" id=\"edge3\">\n<title>140003525977552-&gt;140003053521104</title>\n<path d=\"M399.5,-949.31C399.5,-941.29 399.5,-931.55 399.5,-922.57\" fill=\"none\" stroke=\"black\"/>\n<polygon fill=\"black\" points=\"403,-922.53 399.5,-912.53 396,-922.53 403,-922.53\" stroke=\"black\"/>\n</g>\n<!-- 140003525092176 -->\n<g class=\"node\" id=\"node6\">\n<title>140003525092176</title>\n<polygon fill=\"none\" points=\"27.5,-803.5 27.5,-839.5 241.5,-839.5 241.5,-803.5 27.5,-803.5\" stroke=\"black\"/>\n<text font-family=\"Times,serif\" font-size=\"14.00\" text-anchor=\"middle\" x=\"134.5\" y=\"-817.8\">questionDropout: SpatialDropout1D</text>\n</g>\n<!-- 140003526007504&#45;&gt;140003525092176 -->\n<g class=\"edge\" id=\"edge4\">\n<title>140003526007504-&gt;140003525092176</title>\n<path d=\"M134.5,-876.31C134.5,-868.29 134.5,-858.55 134.5,-849.57\" fill=\"none\" stroke=\"black\"/>\n<polygon fill=\"black\" points=\"138,-849.53 134.5,-839.53 131,-849.53 138,-849.53\" stroke=\"black\"/>\n</g>\n<!-- 140003053543184 -->\n<g class=\"node\" id=\"node7\">\n<title>140003053543184</title>\n<polygon fill=\"none\" points=\"337,-803.5 337,-839.5 462,-839.5 462,-803.5 337,-803.5\" stroke=\"black\"/>\n<text font-family=\"Times,serif\" font-size=\"14.00\" text-anchor=\"middle\" x=\"399.5\" y=\"-817.8\">textCNN2: Conv1D</text>\n</g>\n<!-- 140003053521104&#45;&gt;140003053543184 -->\n<g class=\"edge\" id=\"edge5\">\n<title>140003053521104-&gt;140003053543184</title>\n<path d=\"M399.5,-876.31C399.5,-868.29 399.5,-858.55 399.5,-849.57\" fill=\"none\" stroke=\"black\"/>\n<polygon fill=\"black\" points=\"403,-849.53 399.5,-839.53 396,-849.53 403,-849.53\" stroke=\"black\"/>\n</g>\n<!-- 140003056299280 -->\n<g class=\"node\" id=\"node8\">\n<title>140003056299280</title>\n<polygon fill=\"none\" points=\"33,-730.5 33,-766.5 236,-766.5 236,-730.5 33,-730.5\" stroke=\"black\"/>\n<text font-family=\"Times,serif\" font-size=\"14.00\" text-anchor=\"middle\" x=\"134.5\" y=\"-744.8\">questionLeakyReLU: LeakyReLU</text>\n</g>\n<!-- 140003525092176&#45;&gt;140003056299280 -->\n<g class=\"edge\" id=\"edge6\">\n<title>140003525092176-&gt;140003056299280</title>\n<path d=\"M134.5,-803.31C134.5,-795.29 134.5,-785.55 134.5,-776.57\" fill=\"none\" stroke=\"black\"/>\n<polygon fill=\"black\" points=\"138,-776.53 134.5,-766.53 131,-776.53 138,-776.53\" stroke=\"black\"/>\n</g>\n<!-- 140003053542736 -->\n<g class=\"node\" id=\"node9\">\n<title>140003053542736</title>\n<polygon fill=\"none\" points=\"310.5,-730.5 310.5,-766.5 488.5,-766.5 488.5,-730.5 310.5,-730.5\" stroke=\"black\"/>\n<text font-family=\"Times,serif\" font-size=\"14.00\" text-anchor=\"middle\" x=\"399.5\" y=\"-744.8\">textLeakyReLU: LeakyReLU</text>\n</g>\n<!-- 140003053543184&#45;&gt;140003053542736 -->\n<g class=\"edge\" id=\"edge7\">\n<title>140003053543184-&gt;140003053542736</title>\n<path d=\"M399.5,-803.31C399.5,-795.29 399.5,-785.55 399.5,-776.57\" fill=\"none\" stroke=\"black\"/>\n<polygon fill=\"black\" points=\"403,-776.53 399.5,-766.53 396,-776.53 403,-776.53\" stroke=\"black\"/>\n</g>\n<!-- 140003056297360 -->\n<g class=\"node\" id=\"node10\">\n<title>140003056297360</title>\n<polygon fill=\"none\" points=\"4.5,-657.5 4.5,-693.5 264.5,-693.5 264.5,-657.5 4.5,-657.5\" stroke=\"black\"/>\n<text font-family=\"Times,serif\" font-size=\"14.00\" text-anchor=\"middle\" x=\"134.5\" y=\"-671.8\">questionGBMaxPool: GlobalMaxPooling1D</text>\n</g>\n<!-- 140003056299280&#45;&gt;140003056297360 -->\n<g class=\"edge\" id=\"edge8\">\n<title>140003056299280-&gt;140003056297360</title>\n<path d=\"M134.5,-730.31C134.5,-722.29 134.5,-712.55 134.5,-703.57\" fill=\"none\" stroke=\"black\"/>\n<polygon fill=\"black\" points=\"138,-703.53 134.5,-693.53 131,-703.53 138,-703.53\" stroke=\"black\"/>\n</g>\n<!-- 140003053604816 -->\n<g class=\"node\" id=\"node11\">\n<title>140003053604816</title>\n<polygon fill=\"none\" points=\"282.5,-657.5 282.5,-693.5 516.5,-693.5 516.5,-657.5 282.5,-657.5\" stroke=\"black\"/>\n<text font-family=\"Times,serif\" font-size=\"14.00\" text-anchor=\"middle\" x=\"399.5\" y=\"-671.8\">textGBMaxPool: GlobalMaxPooling1D</text>\n</g>\n<!-- 140003053542736&#45;&gt;140003053604816 -->\n<g class=\"edge\" id=\"edge9\">\n<title>140003053542736-&gt;140003053604816</title>\n<path d=\"M399.5,-730.31C399.5,-722.29 399.5,-712.55 399.5,-703.57\" fill=\"none\" stroke=\"black\"/>\n<polygon fill=\"black\" points=\"403,-703.53 399.5,-693.53 396,-703.53 403,-703.53\" stroke=\"black\"/>\n</g>\n<!-- 140003053614544 -->\n<g class=\"node\" id=\"node12\">\n<title>140003053614544</title>\n<polygon fill=\"none\" points=\"189,-584.5 189,-620.5 344,-620.5 344,-584.5 189,-584.5\" stroke=\"black\"/>\n<text font-family=\"Times,serif\" font-size=\"14.00\" text-anchor=\"middle\" x=\"266.5\" y=\"-598.8\">concatenate: Concatenate</text>\n</g>\n<!-- 140003056297360&#45;&gt;140003053614544 -->\n<g class=\"edge\" id=\"edge10\">\n<title>140003056297360-&gt;140003053614544</title>\n<path d=\"M166.12,-657.49C184.03,-647.86 206.62,-635.71 225.84,-625.37\" fill=\"none\" stroke=\"black\"/>\n<polygon fill=\"black\" points=\"227.53,-628.43 234.68,-620.61 224.22,-622.27 227.53,-628.43\" stroke=\"black\"/>\n</g>\n<!-- 140003053604816&#45;&gt;140003053614544 -->\n<g class=\"edge\" id=\"edge11\">\n<title>140003053604816-&gt;140003053614544</title>\n<path d=\"M367.64,-657.49C349.6,-647.86 326.83,-635.71 307.47,-625.37\" fill=\"none\" stroke=\"black\"/>\n<polygon fill=\"black\" points=\"309.03,-622.24 298.56,-620.61 305.73,-628.41 309.03,-622.24\" stroke=\"black\"/>\n</g>\n<!-- 140003053633104 -->\n<g class=\"node\" id=\"node13\">\n<title>140003053633104</title>\n<polygon fill=\"none\" points=\"222,-511.5 222,-547.5 311,-547.5 311,-511.5 222,-511.5\" stroke=\"black\"/>\n<text font-family=\"Times,serif\" font-size=\"14.00\" text-anchor=\"middle\" x=\"266.5\" y=\"-525.8\">dense: Dense</text>\n</g>\n<!-- 140003053614544&#45;&gt;140003053633104 -->\n<g class=\"edge\" id=\"edge12\">\n<title>140003053614544-&gt;140003053633104</title>\n<path d=\"M266.5,-584.31C266.5,-576.29 266.5,-566.55 266.5,-557.57\" fill=\"none\" stroke=\"black\"/>\n<polygon fill=\"black\" points=\"270,-557.53 266.5,-547.53 263,-557.53 270,-557.53\" stroke=\"black\"/>\n</g>\n<!-- 140003053633296 -->\n<g class=\"node\" id=\"node14\">\n<title>140003053633296</title>\n<polygon fill=\"none\" points=\"211,-438.5 211,-474.5 322,-474.5 322,-438.5 211,-438.5\" stroke=\"black\"/>\n<text font-family=\"Times,serif\" font-size=\"14.00\" text-anchor=\"middle\" x=\"266.5\" y=\"-452.8\">dropout: Dropout</text>\n</g>\n<!-- 140003053633104&#45;&gt;140003053633296 -->\n<g class=\"edge\" id=\"edge13\">\n<title>140003053633104-&gt;140003053633296</title>\n<path d=\"M266.5,-511.31C266.5,-503.29 266.5,-493.55 266.5,-484.57\" fill=\"none\" stroke=\"black\"/>\n<polygon fill=\"black\" points=\"270,-484.53 266.5,-474.53 263,-484.53 270,-484.53\" stroke=\"black\"/>\n</g>\n<!-- 140003053129680 -->\n<g class=\"node\" id=\"node15\">\n<title>140003053129680</title>\n<polygon fill=\"none\" points=\"215.5,-365.5 215.5,-401.5 317.5,-401.5 317.5,-365.5 215.5,-365.5\" stroke=\"black\"/>\n<text font-family=\"Times,serif\" font-size=\"14.00\" text-anchor=\"middle\" x=\"266.5\" y=\"-379.8\">dense_1: Dense</text>\n</g>\n<!-- 140003053633296&#45;&gt;140003053129680 -->\n<g class=\"edge\" id=\"edge14\">\n<title>140003053633296-&gt;140003053129680</title>\n<path d=\"M266.5,-438.31C266.5,-430.29 266.5,-420.55 266.5,-411.57\" fill=\"none\" stroke=\"black\"/>\n<polygon fill=\"black\" points=\"270,-411.53 266.5,-401.53 263,-411.53 270,-411.53\" stroke=\"black\"/>\n</g>\n<!-- 140003053186128 -->\n<g class=\"node\" id=\"node16\">\n<title>140003053186128</title>\n<polygon fill=\"none\" points=\"204,-292.5 204,-328.5 329,-328.5 329,-292.5 204,-292.5\" stroke=\"black\"/>\n<text font-family=\"Times,serif\" font-size=\"14.00\" text-anchor=\"middle\" x=\"266.5\" y=\"-306.8\">dropout_1: Dropout</text>\n</g>\n<!-- 140003053129680&#45;&gt;140003053186128 -->\n<g class=\"edge\" id=\"edge15\">\n<title>140003053129680-&gt;140003053186128</title>\n<path d=\"M266.5,-365.31C266.5,-357.29 266.5,-347.55 266.5,-338.57\" fill=\"none\" stroke=\"black\"/>\n<polygon fill=\"black\" points=\"270,-338.53 266.5,-328.53 263,-338.53 270,-338.53\" stroke=\"black\"/>\n</g>\n<!-- 140003053204752 -->\n<g class=\"node\" id=\"node17\">\n<title>140003053204752</title>\n<polygon fill=\"none\" points=\"215.5,-219.5 215.5,-255.5 317.5,-255.5 317.5,-219.5 215.5,-219.5\" stroke=\"black\"/>\n<text font-family=\"Times,serif\" font-size=\"14.00\" text-anchor=\"middle\" x=\"266.5\" y=\"-233.8\">dense_2: Dense</text>\n</g>\n<!-- 140003053186128&#45;&gt;140003053204752 -->\n<g class=\"edge\" id=\"edge16\">\n<title>140003053186128-&gt;140003053204752</title>\n<path d=\"M266.5,-292.31C266.5,-284.29 266.5,-274.55 266.5,-265.57\" fill=\"none\" stroke=\"black\"/>\n<polygon fill=\"black\" points=\"270,-265.53 266.5,-255.53 263,-265.53 270,-265.53\" stroke=\"black\"/>\n</g>\n<!-- 140003053281424 -->\n<g class=\"node\" id=\"node18\">\n<title>140003053281424</title>\n<polygon fill=\"none\" points=\"204,-146.5 204,-182.5 329,-182.5 329,-146.5 204,-146.5\" stroke=\"black\"/>\n<text font-family=\"Times,serif\" font-size=\"14.00\" text-anchor=\"middle\" x=\"266.5\" y=\"-160.8\">dropout_2: Dropout</text>\n</g>\n<!-- 140003053204752&#45;&gt;140003053281424 -->\n<g class=\"edge\" id=\"edge17\">\n<title>140003053204752-&gt;140003053281424</title>\n<path d=\"M266.5,-219.31C266.5,-211.29 266.5,-201.55 266.5,-192.57\" fill=\"none\" stroke=\"black\"/>\n<polygon fill=\"black\" points=\"270,-192.53 266.5,-182.53 263,-192.53 270,-192.53\" stroke=\"black\"/>\n</g>\n<!-- 140003053264720 -->\n<g class=\"node\" id=\"node19\">\n<title>140003053264720</title>\n<polygon fill=\"none\" points=\"215.5,-73.5 215.5,-109.5 317.5,-109.5 317.5,-73.5 215.5,-73.5\" stroke=\"black\"/>\n<text font-family=\"Times,serif\" font-size=\"14.00\" text-anchor=\"middle\" x=\"266.5\" y=\"-87.8\">dense_3: Dense</text>\n</g>\n<!-- 140003053281424&#45;&gt;140003053264720 -->\n<g class=\"edge\" id=\"edge18\">\n<title>140003053281424-&gt;140003053264720</title>\n<path d=\"M266.5,-146.31C266.5,-138.29 266.5,-128.55 266.5,-119.57\" fill=\"none\" stroke=\"black\"/>\n<polygon fill=\"black\" points=\"270,-119.53 266.5,-109.53 263,-119.53 270,-119.53\" stroke=\"black\"/>\n</g>\n<!-- 140003053352208 -->\n<g class=\"node\" id=\"node20\">\n<title>140003053352208</title>\n<polygon fill=\"none\" points=\"175.5,-0.5 175.5,-36.5 257.5,-36.5 257.5,-0.5 175.5,-0.5\" stroke=\"black\"/>\n<text font-family=\"Times,serif\" font-size=\"14.00\" text-anchor=\"middle\" x=\"216.5\" y=\"-14.8\">out1: Dense</text>\n</g>\n<!-- 140003053264720&#45;&gt;140003053352208 -->\n<g class=\"edge\" id=\"edge19\">\n<title>140003053264720-&gt;140003053352208</title>\n<path d=\"M254.4,-73.31C248.38,-64.77 240.99,-54.27 234.33,-44.82\" fill=\"none\" stroke=\"black\"/>\n<polygon fill=\"black\" points=\"237.11,-42.69 228.49,-36.53 231.39,-46.72 237.11,-42.69\" stroke=\"black\"/>\n</g>\n<!-- 140003053379472 -->\n<g class=\"node\" id=\"node21\">\n<title>140003053379472</title>\n<polygon fill=\"none\" points=\"275.5,-0.5 275.5,-36.5 357.5,-36.5 357.5,-0.5 275.5,-0.5\" stroke=\"black\"/>\n<text font-family=\"Times,serif\" font-size=\"14.00\" text-anchor=\"middle\" x=\"316.5\" y=\"-14.8\">out2: Dense</text>\n</g>\n<!-- 140003053264720&#45;&gt;140003053379472 -->\n<g class=\"edge\" id=\"edge20\">\n<title>140003053264720-&gt;140003053379472</title>\n<path d=\"M278.6,-73.31C284.62,-64.77 292.01,-54.27 298.67,-44.82\" fill=\"none\" stroke=\"black\"/>\n<polygon fill=\"black\" points=\"301.61,-46.72 304.51,-36.53 295.89,-42.69 301.61,-46.72\" stroke=\"black\"/>\n</g>\n</g>\n</svg>",
            "text/plain": [
              "<IPython.core.display.SVG object>"
            ]
          },
          "metadata": {
            "tags": []
          },
          "execution_count": 28
        }
      ]
    },
    {
      "cell_type": "code",
      "metadata": {
        "id": "cx8fToBa9udu",
        "colab_type": "code",
        "colab": {}
      },
      "source": [
        ""
      ],
      "execution_count": null,
      "outputs": []
    },
    {
      "cell_type": "markdown",
      "metadata": {
        "id": "6OF2-5Wy9udv",
        "colab_type": "text"
      },
      "source": [
        "## Image 2"
      ]
    },
    {
      "cell_type": "code",
      "metadata": {
        "id": "hWcjRDAS9udv",
        "colab_type": "code",
        "colab": {},
        "outputId": "99dc551b-5ff6-4e6e-f13b-26d803c46baa"
      },
      "source": [
        "tf.keras.utils.plot_model(model1,to_file=\"modellong.png\",show_shapes=True)"
      ],
      "execution_count": null,
      "outputs": [
        {
          "output_type": "execute_result",
          "data": {
            "image/png": "[encoded data removed]",
            "text/plain": [
              "<IPython.core.display.Image object>"
            ]
          },
          "metadata": {
            "tags": []
          },
          "execution_count": 29
        }
      ]
    },
    {
      "cell_type": "code",
      "metadata": {
        "id": "-h2rjbYY9udz",
        "colab_type": "code",
        "colab": {}
      },
      "source": [
        ""
      ],
      "execution_count": null,
      "outputs": []
    },
    {
      "cell_type": "code",
      "metadata": {
        "id": "XIAk8x-y9ud0",
        "colab_type": "code",
        "colab": {}
      },
      "source": [
        "y_trainsi=np.array(y_trainl['start_index'])     \n",
        "#y_cvsi=np.array(y_acv['start_index'])\n",
        "y_testsi=np.array(y_testl['start_index'])\n",
        "\n",
        "y_trainei=np.array(y_trainl['end_index'])\n",
        "#y_cvei=np.array(y_cv['end_index'])\n",
        "y_testei=np.array(y_testl['end_index'])"
      ],
      "execution_count": null,
      "outputs": []
    },
    {
      "cell_type": "code",
      "metadata": {
        "id": "oXGh2O9C9ud2",
        "colab_type": "code",
        "colab": {}
      },
      "source": [
        ""
      ],
      "execution_count": null,
      "outputs": []
    },
    {
      "cell_type": "code",
      "metadata": {
        "id": "gUT9vAG09ud3",
        "colab_type": "code",
        "colab": {}
      },
      "source": [
        "from tensorflow.keras.optimizers import SGD\n",
        "from swa.tfkeras import SWA"
      ],
      "execution_count": null,
      "outputs": []
    },
    {
      "cell_type": "code",
      "metadata": {
        "id": "TnPwGYUP9ud5",
        "colab_type": "code",
        "colab": {},
        "outputId": "faf126ff-9e92-4e96-c6e8-9f2fcfcbf4cf"
      },
      "source": [
        "'''start_epoch=6\n",
        "swa = SWA(start_epoch=start_epoch, \n",
        "          lr_schedule='cyclic', \n",
        "          swa_lr=0.001,\n",
        "          swa_lr2=0.002,\n",
        "          swa_freq=3,\n",
        "          verbose=1)\n",
        "'''"
      ],
      "execution_count": null,
      "outputs": [
        {
          "output_type": "execute_result",
          "data": {
            "text/plain": [
              "\"start_epoch=6\\nswa = SWA(start_epoch=start_epoch, \\n          lr_schedule='cyclic', \\n          swa_lr=0.001,\\n          swa_lr2=0.002,\\n          swa_freq=3,\\n          verbose=1)\\n\""
            ]
          },
          "metadata": {
            "tags": []
          },
          "execution_count": 62
        }
      ]
    },
    {
      "cell_type": "code",
      "metadata": {
        "id": "_VELuDR69ud7",
        "colab_type": "code",
        "colab": {}
      },
      "source": [
        "filepath2=\"longmodel7.cp5\""
      ],
      "execution_count": null,
      "outputs": []
    },
    {
      "cell_type": "code",
      "metadata": {
        "id": "2T6tyFfd9ud8",
        "colab_type": "code",
        "colab": {}
      },
      "source": [
        "checkpoint_4 = ModelCheckpoint(filepath2,mode=\"max\",save_best_only = True,verbose=1)"
      ],
      "execution_count": null,
      "outputs": []
    },
    {
      "cell_type": "code",
      "metadata": {
        "id": "bFjp5GmX9ud-",
        "colab_type": "code",
        "colab": {}
      },
      "source": [
        "logdir1 = os.path.join(\"logslongfinal\", datetime.datetime.now().strftime(\"%Y%m%d-%H%M%S\"))\n",
        "tensorboard_callback3 = TensorBoard(logdir1, histogram_freq=1)\n",
        "callbacks_4 = [tensorboard_callback3,checkpoint_4]"
      ],
      "execution_count": null,
      "outputs": []
    },
    {
      "cell_type": "code",
      "metadata": {
        "id": "DG7zU8Jn9ud_",
        "colab_type": "code",
        "colab": {},
        "outputId": "f8693162-994f-4da9-cef0-446d746e54fe"
      },
      "source": [
        "tf.profiler.experimental.stop"
      ],
      "execution_count": null,
      "outputs": [
        {
          "output_type": "execute_result",
          "data": {
            "text/plain": [
              "<function tensorflow.python.profiler.profiler_v2.stop(save=True)>"
            ]
          },
          "metadata": {
            "tags": []
          },
          "execution_count": 66
        }
      ]
    },
    {
      "cell_type": "code",
      "metadata": {
        "id": "U95iZmOm9ueA",
        "colab_type": "code",
        "colab": {}
      },
      "source": [
        ""
      ],
      "execution_count": null,
      "outputs": []
    },
    {
      "cell_type": "markdown",
      "metadata": {
        "id": "2eU9f6-59ueC",
        "colab_type": "text"
      },
      "source": [
        "## Training"
      ]
    },
    {
      "cell_type": "code",
      "metadata": {
        "scrolled": false,
        "id": "YJnpI3Af9ueC",
        "colab_type": "code",
        "colab": {},
        "outputId": "52bbc663-df0a-4d2d-c606-6a0134ee1957"
      },
      "source": [
        "train_history2 = model1.fit({'input1':train_questions,'input2':X_traint1}, \n",
        "                           {'out1':y_trainsi,'out2':y_trainei},\n",
        "    epochs=30,batch_size=534,validation_split=0.35,callbacks=callbacks_4)"
      ],
      "execution_count": null,
      "outputs": [
        {
          "output_type": "stream",
          "text": [
            "Epoch 1/30\n",
            "97/97 [==============================] - ETA: 0s - loss: 5.0462 - out1_loss: 2.9735 - out2_loss: 2.0727\n",
            "Epoch 00001: val_loss improved from -inf to 3.45272, saving model to longmodel7.cp5\n",
            "INFO:tensorflow:Assets written to: longmodel7.cp5/assets\n",
            "97/97 [==============================] - 71s 733ms/step - loss: 5.0462 - out1_loss: 2.9735 - out2_loss: 2.0727 - val_loss: 3.4527 - val_out1_loss: 2.2018 - val_out2_loss: 1.2509\n",
            "Epoch 2/30\n",
            "97/97 [==============================] - ETA: 0s - loss: 3.4873 - out1_loss: 2.2157 - out2_loss: 1.2716\n",
            "Epoch 00002: val_loss did not improve from 3.45272\n",
            "97/97 [==============================] - 45s 461ms/step - loss: 3.4873 - out1_loss: 2.2157 - out2_loss: 1.2716 - val_loss: 3.3465 - val_out1_loss: 2.1425 - val_out2_loss: 1.2040\n",
            "Epoch 3/30\n",
            "97/97 [==============================] - ETA: 0s - loss: 3.4152 - out1_loss: 2.1753 - out2_loss: 1.2399\n",
            "Epoch 00003: val_loss did not improve from 3.45272\n",
            "97/97 [==============================] - 45s 463ms/step - loss: 3.4152 - out1_loss: 2.1753 - out2_loss: 1.2399 - val_loss: 3.3018 - val_out1_loss: 2.1125 - val_out2_loss: 1.1893\n",
            "Epoch 4/30\n",
            "97/97 [==============================] - ETA: 0s - loss: 3.3931 - out1_loss: 2.1644 - out2_loss: 1.2286\n",
            "Epoch 00004: val_loss did not improve from 3.45272\n",
            "97/97 [==============================] - 45s 460ms/step - loss: 3.3931 - out1_loss: 2.1644 - out2_loss: 1.2286 - val_loss: 3.4214 - val_out1_loss: 2.1910 - val_out2_loss: 1.2304\n",
            "Epoch 5/30\n",
            "97/97 [==============================] - ETA: 0s - loss: 3.3323 - out1_loss: 2.1273 - out2_loss: 1.2050\n",
            "Epoch 00005: val_loss improved from 3.45272 to 3.62185, saving model to longmodel7.cp5\n",
            "INFO:tensorflow:Assets written to: longmodel7.cp5/assets\n",
            "97/97 [==============================] - 69s 715ms/step - loss: 3.3323 - out1_loss: 2.1273 - out2_loss: 1.2050 - val_loss: 3.6218 - val_out1_loss: 2.3323 - val_out2_loss: 1.2895\n",
            "Epoch 6/30\n",
            "97/97 [==============================] - ETA: 0s - loss: 3.2922 - out1_loss: 2.1048 - out2_loss: 1.1873\n",
            "Epoch 00006: val_loss did not improve from 3.62185\n",
            "97/97 [==============================] - 45s 459ms/step - loss: 3.2922 - out1_loss: 2.1048 - out2_loss: 1.1873 - val_loss: 3.2787 - val_out1_loss: 2.1064 - val_out2_loss: 1.1723\n",
            "Epoch 7/30\n",
            "97/97 [==============================] - ETA: 0s - loss: 3.2472 - out1_loss: 2.0754 - out2_loss: 1.1718\n",
            "Epoch 00007: val_loss did not improve from 3.62185\n",
            "97/97 [==============================] - 45s 461ms/step - loss: 3.2472 - out1_loss: 2.0754 - out2_loss: 1.1718 - val_loss: 3.3255 - val_out1_loss: 2.1374 - val_out2_loss: 1.1881\n",
            "Epoch 8/30\n",
            "97/97 [==============================] - ETA: 0s - loss: 3.1936 - out1_loss: 2.0428 - out2_loss: 1.1508\n",
            "Epoch 00008: val_loss did not improve from 3.62185\n",
            "97/97 [==============================] - 45s 460ms/step - loss: 3.1936 - out1_loss: 2.0428 - out2_loss: 1.1508 - val_loss: 3.3676 - val_out1_loss: 2.1482 - val_out2_loss: 1.2194\n",
            "Epoch 9/30\n",
            "97/97 [==============================] - ETA: 0s - loss: 3.1232 - out1_loss: 1.9989 - out2_loss: 1.1243\n",
            "Epoch 00009: val_loss did not improve from 3.62185\n",
            "97/97 [==============================] - 45s 464ms/step - loss: 3.1232 - out1_loss: 1.9989 - out2_loss: 1.1243 - val_loss: 3.2292 - val_out1_loss: 2.0837 - val_out2_loss: 1.1455\n",
            "Epoch 10/30\n",
            "97/97 [==============================] - ETA: 0s - loss: 3.0910 - out1_loss: 1.9763 - out2_loss: 1.1147\n",
            "Epoch 00010: val_loss did not improve from 3.62185\n",
            "97/97 [==============================] - 45s 459ms/step - loss: 3.0910 - out1_loss: 1.9763 - out2_loss: 1.1147 - val_loss: 3.2256 - val_out1_loss: 2.0731 - val_out2_loss: 1.1526\n",
            "Epoch 11/30\n",
            "97/97 [==============================] - ETA: 0s - loss: 3.0271 - out1_loss: 1.9400 - out2_loss: 1.0871\n",
            "Epoch 00011: val_loss did not improve from 3.62185\n",
            "97/97 [==============================] - 44s 458ms/step - loss: 3.0271 - out1_loss: 1.9400 - out2_loss: 1.0871 - val_loss: 3.2802 - val_out1_loss: 2.0864 - val_out2_loss: 1.1938\n",
            "Epoch 12/30\n",
            "97/97 [==============================] - ETA: 0s - loss: 2.9560 - out1_loss: 1.8944 - out2_loss: 1.0616\n",
            "Epoch 00012: val_loss did not improve from 3.62185\n",
            "97/97 [==============================] - 45s 461ms/step - loss: 2.9560 - out1_loss: 1.8944 - out2_loss: 1.0616 - val_loss: 3.3135 - val_out1_loss: 2.1153 - val_out2_loss: 1.1982\n",
            "Epoch 13/30\n",
            "97/97 [==============================] - ETA: 0s - loss: 2.8918 - out1_loss: 1.8526 - out2_loss: 1.0392\n",
            "Epoch 00013: val_loss did not improve from 3.62185\n",
            "97/97 [==============================] - 45s 466ms/step - loss: 2.8918 - out1_loss: 1.8526 - out2_loss: 1.0392 - val_loss: 3.3965 - val_out1_loss: 2.1669 - val_out2_loss: 1.2296\n",
            "Epoch 14/30\n",
            "97/97 [==============================] - ETA: 0s - loss: 2.8249 - out1_loss: 1.8091 - out2_loss: 1.0158\n",
            "Epoch 00014: val_loss did not improve from 3.62185\n",
            "97/97 [==============================] - 44s 456ms/step - loss: 2.8249 - out1_loss: 1.8091 - out2_loss: 1.0158 - val_loss: 3.4027 - val_out1_loss: 2.2020 - val_out2_loss: 1.2007\n",
            "Epoch 15/30\n",
            "97/97 [==============================] - ETA: 0s - loss: 2.7751 - out1_loss: 1.7735 - out2_loss: 1.0016\n",
            "Epoch 00015: val_loss did not improve from 3.62185\n",
            "97/97 [==============================] - 44s 457ms/step - loss: 2.7751 - out1_loss: 1.7735 - out2_loss: 1.0016 - val_loss: 3.6135 - val_out1_loss: 2.2944 - val_out2_loss: 1.3192\n",
            "Epoch 16/30\n",
            "97/97 [==============================] - ETA: 0s - loss: 2.6787 - out1_loss: 1.7178 - out2_loss: 0.9609\n",
            "Epoch 00016: val_loss did not improve from 3.62185\n",
            "97/97 [==============================] - 45s 460ms/step - loss: 2.6787 - out1_loss: 1.7178 - out2_loss: 0.9609 - val_loss: 3.2610 - val_out1_loss: 2.0835 - val_out2_loss: 1.1774\n",
            "Epoch 17/30\n",
            "97/97 [==============================] - ETA: 0s - loss: 2.6139 - out1_loss: 1.6735 - out2_loss: 0.9404\n",
            "Epoch 00017: val_loss did not improve from 3.62185\n",
            "97/97 [==============================] - 44s 457ms/step - loss: 2.6139 - out1_loss: 1.6735 - out2_loss: 0.9404 - val_loss: 3.5531 - val_out1_loss: 2.2648 - val_out2_loss: 1.2883\n",
            "Epoch 18/30\n",
            "97/97 [==============================] - ETA: 0s - loss: 2.5659 - out1_loss: 1.6404 - out2_loss: 0.9255\n",
            "Epoch 00018: val_loss did not improve from 3.62185\n",
            "97/97 [==============================] - 44s 456ms/step - loss: 2.5659 - out1_loss: 1.6404 - out2_loss: 0.9255 - val_loss: 3.3557 - val_out1_loss: 2.1333 - val_out2_loss: 1.2223\n",
            "Epoch 19/30\n",
            "97/97 [==============================] - ETA: 0s - loss: 2.4434 - out1_loss: 1.5643 - out2_loss: 0.8790\n",
            "Epoch 00019: val_loss did not improve from 3.62185\n",
            "97/97 [==============================] - 44s 458ms/step - loss: 2.4434 - out1_loss: 1.5643 - out2_loss: 0.8790 - val_loss: 3.4373 - val_out1_loss: 2.2025 - val_out2_loss: 1.2348\n",
            "Epoch 20/30\n",
            "97/97 [==============================] - ETA: 0s - loss: 2.3812 - out1_loss: 1.5250 - out2_loss: 0.8562\n",
            "Epoch 00020: val_loss did not improve from 3.62185\n",
            "97/97 [==============================] - 44s 457ms/step - loss: 2.3812 - out1_loss: 1.5250 - out2_loss: 0.8562 - val_loss: 3.5675 - val_out1_loss: 2.2571 - val_out2_loss: 1.3103\n",
            "Epoch 21/30\n",
            "97/97 [==============================] - ETA: 0s - loss: 2.3171 - out1_loss: 1.4804 - out2_loss: 0.8367\n",
            "Epoch 00021: val_loss did not improve from 3.62185\n",
            "97/97 [==============================] - 44s 457ms/step - loss: 2.3171 - out1_loss: 1.4804 - out2_loss: 0.8367 - val_loss: 3.5291 - val_out1_loss: 2.2476 - val_out2_loss: 1.2815\n",
            "Epoch 22/30\n",
            "97/97 [==============================] - ETA: 0s - loss: 2.2288 - out1_loss: 1.4281 - out2_loss: 0.8007\n",
            "Epoch 00022: val_loss did not improve from 3.62185\n",
            "97/97 [==============================] - 44s 457ms/step - loss: 2.2288 - out1_loss: 1.4281 - out2_loss: 0.8007 - val_loss: 3.4139 - val_out1_loss: 2.1761 - val_out2_loss: 1.2377\n",
            "Epoch 23/30\n",
            "97/97 [==============================] - ETA: 0s - loss: 2.1645 - out1_loss: 1.3848 - out2_loss: 0.7797\n",
            "Epoch 00023: val_loss improved from 3.62185 to 3.69259, saving model to longmodel7.cp5\n",
            "INFO:tensorflow:Assets written to: longmodel7.cp5/assets\n",
            "97/97 [==============================] - 70s 720ms/step - loss: 2.1645 - out1_loss: 1.3848 - out2_loss: 0.7797 - val_loss: 3.6926 - val_out1_loss: 2.3458 - val_out2_loss: 1.3468\n",
            "Epoch 24/30\n",
            "97/97 [==============================] - ETA: 0s - loss: 2.1133 - out1_loss: 1.3533 - out2_loss: 0.7600\n",
            "Epoch 00024: val_loss did not improve from 3.69259\n",
            "97/97 [==============================] - 44s 458ms/step - loss: 2.1133 - out1_loss: 1.3533 - out2_loss: 0.7600 - val_loss: 3.6469 - val_out1_loss: 2.3361 - val_out2_loss: 1.3108\n",
            "Epoch 25/30\n",
            "97/97 [==============================] - ETA: 0s - loss: 2.0341 - out1_loss: 1.2999 - out2_loss: 0.7342\n",
            "Epoch 00025: val_loss improved from 3.69259 to 3.77043, saving model to longmodel7.cp5\n",
            "INFO:tensorflow:Assets written to: longmodel7.cp5/assets\n",
            "97/97 [==============================] - 69s 712ms/step - loss: 2.0341 - out1_loss: 1.2999 - out2_loss: 0.7342 - val_loss: 3.7704 - val_out1_loss: 2.3708 - val_out2_loss: 1.3996\n",
            "Epoch 26/30\n",
            "97/97 [==============================] - ETA: 0s - loss: 1.9814 - out1_loss: 1.2623 - out2_loss: 0.7191\n",
            "Epoch 00026: val_loss improved from 3.77043 to 3.86560, saving model to longmodel7.cp5\n",
            "INFO:tensorflow:Assets written to: longmodel7.cp5/assets\n",
            "97/97 [==============================] - 69s 714ms/step - loss: 1.9814 - out1_loss: 1.2623 - out2_loss: 0.7191 - val_loss: 3.8656 - val_out1_loss: 2.4982 - val_out2_loss: 1.3674\n",
            "Epoch 27/30\n",
            "97/97 [==============================] - ETA: 0s - loss: 1.9250 - out1_loss: 1.2291 - out2_loss: 0.6959\n",
            "Epoch 00027: val_loss did not improve from 3.86560\n",
            "97/97 [==============================] - 44s 458ms/step - loss: 1.9250 - out1_loss: 1.2291 - out2_loss: 0.6959 - val_loss: 3.6847 - val_out1_loss: 2.3128 - val_out2_loss: 1.3719\n",
            "Epoch 28/30\n",
            "97/97 [==============================] - ETA: 0s - loss: 1.8731 - out1_loss: 1.1982 - out2_loss: 0.6749\n",
            "Epoch 00028: val_loss did not improve from 3.86560\n",
            "97/97 [==============================] - 44s 457ms/step - loss: 1.8731 - out1_loss: 1.1982 - out2_loss: 0.6749 - val_loss: 3.7700 - val_out1_loss: 2.4006 - val_out2_loss: 1.3694\n",
            "Epoch 29/30\n",
            "97/97 [==============================] - ETA: 0s - loss: 1.8379 - out1_loss: 1.1726 - out2_loss: 0.6652\n",
            "Epoch 00029: val_loss did not improve from 3.86560\n",
            "97/97 [==============================] - 44s 459ms/step - loss: 1.8379 - out1_loss: 1.1726 - out2_loss: 0.6652 - val_loss: 3.6215 - val_out1_loss: 2.2636 - val_out2_loss: 1.3580\n",
            "Epoch 30/30\n",
            "97/97 [==============================] - ETA: 0s - loss: 1.7632 - out1_loss: 1.1221 - out2_loss: 0.6411\n",
            "Epoch 00030: val_loss did not improve from 3.86560\n",
            "97/97 [==============================] - 44s 458ms/step - loss: 1.7632 - out1_loss: 1.1221 - out2_loss: 0.6411 - val_loss: 3.6718 - val_out1_loss: 2.3533 - val_out2_loss: 1.3185\n"
          ],
          "name": "stdout"
        }
      ]
    },
    {
      "cell_type": "code",
      "metadata": {
        "id": "dSn7rkkb9ueD",
        "colab_type": "code",
        "colab": {}
      },
      "source": [
        ""
      ],
      "execution_count": null,
      "outputs": []
    },
    {
      "cell_type": "code",
      "metadata": {
        "id": "L79gfY8z9ueF",
        "colab_type": "code",
        "colab": {}
      },
      "source": [
        ""
      ],
      "execution_count": null,
      "outputs": []
    },
    {
      "cell_type": "code",
      "metadata": {
        "id": "aSh9Doim9ueG",
        "colab_type": "code",
        "colab": {},
        "outputId": "3ecdc928-a505-4dd4-8ef8-5d842192234a"
      },
      "source": [
        "print(5)\n",
        "\n"
      ],
      "execution_count": null,
      "outputs": [
        {
          "output_type": "stream",
          "text": [
            "5\n"
          ],
          "name": "stdout"
        }
      ]
    },
    {
      "cell_type": "code",
      "metadata": {
        "id": "2vEqAY499ueK",
        "colab_type": "code",
        "colab": {}
      },
      "source": [
        ""
      ],
      "execution_count": null,
      "outputs": []
    },
    {
      "cell_type": "code",
      "metadata": {
        "id": "gAj3rzhx9ueL",
        "colab_type": "code",
        "colab": {}
      },
      "source": [
        ""
      ],
      "execution_count": null,
      "outputs": []
    },
    {
      "cell_type": "code",
      "metadata": {
        "scrolled": false,
        "id": "H-MUPV-m9ueN",
        "colab_type": "code",
        "colab": {}
      },
      "source": [
        ""
      ],
      "execution_count": null,
      "outputs": []
    },
    {
      "cell_type": "code",
      "metadata": {
        "id": "mOlRydLG9ueP",
        "colab_type": "code",
        "colab": {}
      },
      "source": [
        ""
      ],
      "execution_count": null,
      "outputs": []
    },
    {
      "cell_type": "code",
      "metadata": {
        "id": "op8XVo2s9ueQ",
        "colab_type": "code",
        "colab": {}
      },
      "source": [
        ""
      ],
      "execution_count": null,
      "outputs": []
    },
    {
      "cell_type": "code",
      "metadata": {
        "id": "lOul7_uk9ueR",
        "colab_type": "code",
        "colab": {},
        "outputId": "171e1f03-40a7-4054-fa9f-aae99875a4d1"
      },
      "source": [
        "print(5)"
      ],
      "execution_count": null,
      "outputs": [
        {
          "output_type": "stream",
          "text": [
            "5\n"
          ],
          "name": "stdout"
        }
      ]
    },
    {
      "cell_type": "code",
      "metadata": {
        "id": "wpXAy8wB9ueT",
        "colab_type": "code",
        "colab": {},
        "outputId": "731e4ed6-4e4d-4ea9-cc32-f686fab90586"
      },
      "source": [
        "model1.save(\"longmodelfinal\")"
      ],
      "execution_count": null,
      "outputs": [
        {
          "output_type": "stream",
          "text": [
            "INFO:tensorflow:Assets written to: longmodelfinal/assets\n"
          ],
          "name": "stdout"
        }
      ]
    },
    {
      "cell_type": "code",
      "metadata": {
        "id": "Nrm3CFjy9ueU",
        "colab_type": "code",
        "colab": {}
      },
      "source": [
        "%load_ext tensorboard"
      ],
      "execution_count": null,
      "outputs": []
    },
    {
      "cell_type": "code",
      "metadata": {
        "id": "1tXH_nw19ueW",
        "colab_type": "code",
        "colab": {},
        "outputId": "12570875-8bec-4911-d057-edd3f1e36e4e"
      },
      "source": [
        "%tensorboard --logdir logslongfinal --port=6007 --bind_all"
      ],
      "execution_count": null,
      "outputs": [
        {
          "output_type": "display_data",
          "data": {
            "text/html": [
              "\n",
              "      <iframe id=\"tensorboard-frame-44461d2ec142e94c\" width=\"100%\" height=\"800\" frameborder=\"0\">\n",
              "      </iframe>\n",
              "      <script>\n",
              "        (function() {\n",
              "          const frame = document.getElementById(\"tensorboard-frame-44461d2ec142e94c\");\n",
              "          const url = new URL(\"/\", window.location);\n",
              "          const port = 6007;\n",
              "          if (port) {\n",
              "            url.port = port;\n",
              "          }\n",
              "          frame.src = url;\n",
              "        })();\n",
              "      </script>\n",
              "    "
            ],
            "text/plain": [
              "<IPython.core.display.HTML object>"
            ]
          },
          "metadata": {
            "tags": []
          }
        }
      ]
    },
    {
      "cell_type": "code",
      "metadata": {
        "id": "iLjQ4jBz9ueX",
        "colab_type": "code",
        "colab": {}
      },
      "source": [
        ""
      ],
      "execution_count": null,
      "outputs": []
    },
    {
      "cell_type": "markdown",
      "metadata": {
        "id": "KPhKfFv69ueY",
        "colab_type": "text"
      },
      "source": [
        "## Train vs Validation loss of Start index"
      ]
    },
    {
      "cell_type": "code",
      "metadata": {
        "id": "TIKQVQRZ9ueZ",
        "colab_type": "code",
        "colab": {}
      },
      "source": [
        "def plt_dynamic(x, vy, ty, ax, colors=['b']):\n",
        "    ax.plot(x, vy, 'b', label=\"Val_out1_Loss\") \n",
        "    ax.plot(x, ty, 'r', label=\"Train Loss\")                                       \n",
        "    plt.legend()\n",
        "    plt.grid()\n",
        "    fig.canvas.draw()\n",
        "    "
      ],
      "execution_count": null,
      "outputs": []
    },
    {
      "cell_type": "code",
      "metadata": {
        "id": "J2Zah6vN9uea",
        "colab_type": "code",
        "colab": {}
      },
      "source": [
        ""
      ],
      "execution_count": null,
      "outputs": []
    },
    {
      "cell_type": "code",
      "metadata": {
        "scrolled": false,
        "id": "lg7qWJxK9ued",
        "colab_type": "code",
        "colab": {},
        "outputId": "2808ea04-4e08-4b64-c435-09d2b84227f1"
      },
      "source": [
        "fig,ax = plt.subplots(1,1)\n",
        "ax.set_xlabel('epoch') ; ax.set_ylabel('binary Crossentropy Loss')\n",
        "\n",
        "# list of epoch nmbers\n",
        "x = list(range(1,30+1))\n",
        "\n",
        "vy = train_history2.history['val_out1_loss']\n",
        "ty = train_history2.history['out1_loss']\n",
        "plt_dynamic(x, vy, ty, ax)"
      ],
      "execution_count": null,
      "outputs": [
        {
          "output_type": "display_data",
          "data": {
            "image/png": "[encoded data removed]",
            "text/plain": [
              "<Figure size 432x288 with 1 Axes>"
            ]
          },
          "metadata": {
            "tags": [],
            "needs_background": "light"
          }
        }
      ]
    },
    {
      "cell_type": "markdown",
      "metadata": {
        "id": "Ej8x1P9h9uef",
        "colab_type": "text"
      },
      "source": [
        "## Train vs Validation loss of End index"
      ]
    },
    {
      "cell_type": "code",
      "metadata": {
        "id": "66-APrbt9uef",
        "colab_type": "code",
        "colab": {}
      },
      "source": [
        "def plt_dynamic(x, vy, ty, ax, colors=['b']):\n",
        "    ax.plot(x, vy, 'b', label=\"Val_out2_loss\") \n",
        "    ax.plot(x, ty, 'r', label=\"out1_loss\")                                       \n",
        "    plt.legend()\n",
        "    plt.grid()\n",
        "    fig.canvas.draw()"
      ],
      "execution_count": null,
      "outputs": []
    },
    {
      "cell_type": "code",
      "metadata": {
        "id": "jo_gSVkw9ueh",
        "colab_type": "code",
        "colab": {},
        "outputId": "9af07fe3-f77b-4a96-ed2d-671ade5f87fa"
      },
      "source": [
        "fig,ax = plt.subplots(1,1)\n",
        "ax.set_xlabel('epoch') ; ax.set_ylabel('binary Crossentropy Loss')\n",
        "\n",
        "# list of epoch numbers\n",
        "x = list(range(1,30+1))\n",
        "\n",
        "vy = train_history2.history['val_out2_loss']\n",
        "ty = train_history2.history['out2_loss']\n",
        "plt_dynamic(x, vy, ty, ax)"
      ],
      "execution_count": null,
      "outputs": [
        {
          "output_type": "display_data",
          "data": {
            "image/png": "[encoded data removed]",
            "text/plain": [
              "<Figure size 432x288 with 1 Axes>"
            ]
          },
          "metadata": {
            "tags": [],
            "needs_background": "light"
          }
        }
      ]
    },
    {
      "cell_type": "code",
      "metadata": {
        "id": "v1ydnufr9uej",
        "colab_type": "code",
        "colab": {}
      },
      "source": [
        ""
      ],
      "execution_count": null,
      "outputs": []
    },
    {
      "cell_type": "markdown",
      "metadata": {
        "id": "xHQCaDnQ9uem",
        "colab_type": "text"
      },
      "source": [
        "## Prediction of Train data"
      ]
    },
    {
      "cell_type": "code",
      "metadata": {
        "id": "SrnkzMZa9uem",
        "colab_type": "code",
        "colab": {}
      },
      "source": [
        ""
      ],
      "execution_count": null,
      "outputs": []
    },
    {
      "cell_type": "code",
      "metadata": {
        "id": "6ldkuIU29uen",
        "colab_type": "code",
        "colab": {}
      },
      "source": [
        "#model1=load_model(\"longmodel7.cp5\")"
      ],
      "execution_count": null,
      "outputs": []
    },
    {
      "cell_type": "code",
      "metadata": {
        "id": "WCgLOoA39ueo",
        "colab_type": "code",
        "colab": {}
      },
      "source": [
        "predtrain1=model1.predict([train_questions,X_traint1])"
      ],
      "execution_count": null,
      "outputs": []
    },
    {
      "cell_type": "code",
      "metadata": {
        "id": "K2qAivlu9ueq",
        "colab_type": "code",
        "colab": {}
      },
      "source": [
        ""
      ],
      "execution_count": null,
      "outputs": []
    },
    {
      "cell_type": "code",
      "metadata": {
        "id": "4EB9lTST9ues",
        "colab_type": "code",
        "colab": {}
      },
      "source": [
        "trsite=[]\n",
        "for i in y_trainl['start_index']:\n",
        "    trsite.append(i)"
      ],
      "execution_count": null,
      "outputs": []
    },
    {
      "cell_type": "code",
      "metadata": {
        "id": "WBpGi8dR9uet",
        "colab_type": "code",
        "colab": {}
      },
      "source": [
        "treite=[]\n",
        "for i in y_trainl['end_index']:\n",
        "    treite.append(i)"
      ],
      "execution_count": null,
      "outputs": []
    },
    {
      "cell_type": "code",
      "metadata": {
        "id": "DvMzCnpi9ueu",
        "colab_type": "code",
        "colab": {}
      },
      "source": [
        "#true start indices\n",
        "trst=[]\n",
        "for i in range(len(trsite)):\n",
        "    c=int(trsite[i])\n",
        "    trst.append(c)"
      ],
      "execution_count": null,
      "outputs": []
    },
    {
      "cell_type": "code",
      "metadata": {
        "id": "PTLXhjQw9uew",
        "colab_type": "code",
        "colab": {}
      },
      "source": [
        "#true end indices\n",
        "tren=[]\n",
        "for i in range(len(treite)):\n",
        "    c=int(treite[i])\n",
        "    tren.append(c)"
      ],
      "execution_count": null,
      "outputs": []
    },
    {
      "cell_type": "code",
      "metadata": {
        "id": "tDjl-kFY9uex",
        "colab_type": "code",
        "colab": {}
      },
      "source": [
        ""
      ],
      "execution_count": null,
      "outputs": []
    },
    {
      "cell_type": "code",
      "metadata": {
        "id": "QV4eRTl79uey",
        "colab_type": "code",
        "colab": {}
      },
      "source": [
        "#pred start indices\n",
        "prst=[]\n",
        "for i in range(len(predtrain1[0])):\n",
        "    c=int(predtrain1[0][i][0])\n",
        "    prst.append(c) \n",
        "#pred end indices\n",
        "pren=[]\n",
        "for i in range(len(predtrain1[0])):\n",
        "    c=int(predtrain1[1][i][0])\n",
        "    pren.append(c)"
      ],
      "execution_count": null,
      "outputs": []
    },
    {
      "cell_type": "code",
      "metadata": {
        "id": "HMacg16e9uez",
        "colab_type": "code",
        "colab": {}
      },
      "source": [
        "pr=[]\n",
        "tr=[]\n",
        "for i in range(0,len(trst)): #data points count\n",
        "    tr.append(X_trainl['text'].values[i].split(\" \")[trst[i]:tren[i]]) #true start and end indices\n",
        "    pr.append(X_trainl['text'].values[i].split(\" \")[prst[i]:pren[i]])# pred start and end indices"
      ],
      "execution_count": null,
      "outputs": []
    },
    {
      "cell_type": "code",
      "metadata": {
        "id": "payxH_g19ue0",
        "colab_type": "code",
        "colab": {}
      },
      "source": [
        "def Avg(lst): \n",
        "    return sum(lst) / len(lst) "
      ],
      "execution_count": null,
      "outputs": []
    },
    {
      "cell_type": "markdown",
      "metadata": {
        "id": "u5sxrcjy9ue1",
        "colab_type": "text"
      },
      "source": [
        "## Jaccard Similarity of Train data"
      ]
    },
    {
      "cell_type": "code",
      "metadata": {
        "id": "e-4i63vW9ue1",
        "colab_type": "code",
        "colab": {},
        "outputId": "310a6750-e685-4a7c-97c7-5247268969dc"
      },
      "source": [
        "def jaccard_similarity(tr,pr): #true values and pred values \n",
        "#intersection\n",
        "    jk=[]\n",
        "    for i in range(len(trst)):\n",
        "        a = set(tr[i])\n",
        "        b = set(pr[i]) \n",
        "        c= len(set(a).intersection(b))\n",
        "        jk.append(c) \n",
        "#union\n",
        "    vk=[]\n",
        "    for i in range(len(trst)):\n",
        "        a = set(tr[i])\n",
        "        b = set(pr[i])\n",
        "        v= len(list(a.union(b)))\n",
        "        vk.append(v)\n",
        "        \n",
        "#intersection/union        \n",
        "    f=[]\n",
        "    for i in range(len(jk)):\n",
        "        jac=jk[i]/vk[i]\n",
        "        f.append(jac)\n",
        "        \n",
        "    return Avg(f)\n",
        "    \n",
        "    \n",
        "print(\"The Jaccard Similarity for long answer model is:\",jaccard_similarity(tr,pr))"
      ],
      "execution_count": null,
      "outputs": [
        {
          "output_type": "stream",
          "text": [
            "The Jaccard Similarity for long answer model is: 0.26233908629976177\n"
          ],
          "name": "stdout"
        }
      ]
    },
    {
      "cell_type": "code",
      "metadata": {
        "scrolled": false,
        "id": "K_O8Lep-9ue3",
        "colab_type": "code",
        "colab": {},
        "outputId": "65ac5a16-ce26-48c7-bd9b-7fb214aa8597"
      },
      "source": [
        "predtrain1[0]"
      ],
      "execution_count": null,
      "outputs": [
        {
          "output_type": "execute_result",
          "data": {
            "text/plain": [
              "array([[ 269.45688],\n",
              "       [1058.3607 ],\n",
              "       [ 534.7253 ],\n",
              "       ...,\n",
              "       [1041.4795 ],\n",
              "       [ 275.20837],\n",
              "       [1826.2657 ]], dtype=float32)"
            ]
          },
          "metadata": {
            "tags": []
          },
          "execution_count": 91
        }
      ]
    },
    {
      "cell_type": "code",
      "metadata": {
        "id": "FoZhb8O89ue4",
        "colab_type": "code",
        "colab": {}
      },
      "source": [
        ""
      ],
      "execution_count": null,
      "outputs": []
    },
    {
      "cell_type": "code",
      "metadata": {
        "id": "JmHO0O019ue5",
        "colab_type": "code",
        "colab": {}
      },
      "source": [
        ""
      ],
      "execution_count": null,
      "outputs": []
    },
    {
      "cell_type": "code",
      "metadata": {
        "id": "PprqZG5_9ue6",
        "colab_type": "code",
        "colab": {}
      },
      "source": [
        ""
      ],
      "execution_count": null,
      "outputs": []
    },
    {
      "cell_type": "code",
      "metadata": {
        "id": "xGBEpUhM9ue8",
        "colab_type": "code",
        "colab": {}
      },
      "source": [
        ""
      ],
      "execution_count": null,
      "outputs": []
    },
    {
      "cell_type": "markdown",
      "metadata": {
        "id": "IUwiLhia9ue-",
        "colab_type": "text"
      },
      "source": [
        "## Test data Prediction"
      ]
    },
    {
      "cell_type": "code",
      "metadata": {
        "id": "ZTUnxLTL9ue-",
        "colab_type": "code",
        "colab": {}
      },
      "source": [
        "X_testt1=X_test_pooled_output1.reshape(X_test_pooled_output1.shape[0],X_test_pooled_output1.shape[1],1) "
      ],
      "execution_count": null,
      "outputs": []
    },
    {
      "cell_type": "code",
      "metadata": {
        "id": "o0Lz_iGE9ue_",
        "colab_type": "code",
        "colab": {}
      },
      "source": [
        "predf1=model1.predict([test_questions,X_testt1])    "
      ],
      "execution_count": null,
      "outputs": []
    },
    {
      "cell_type": "code",
      "metadata": {
        "scrolled": false,
        "id": "Dcn9vacT9ufB",
        "colab_type": "code",
        "colab": {},
        "outputId": "ab60185f-974b-45b3-a201-392420407adc"
      },
      "source": [
        "predf1[0]"
      ],
      "execution_count": null,
      "outputs": [
        {
          "output_type": "execute_result",
          "data": {
            "text/plain": [
              "array([[ 55.807426],\n",
              "       [ 70.26933 ],\n",
              "       [582.9036  ],\n",
              "       ...,\n",
              "       [ 72.333046],\n",
              "       [142.46422 ],\n",
              "       [178.9608  ]], dtype=float32)"
            ]
          },
          "metadata": {
            "tags": []
          },
          "execution_count": 75
        }
      ]
    },
    {
      "cell_type": "code",
      "metadata": {
        "scrolled": true,
        "id": "mJGFvVSa9ufD",
        "colab_type": "code",
        "colab": {},
        "outputId": "6451e16b-2e1e-4293-954a-3649223a9503"
      },
      "source": [
        "predf1[1]"
      ],
      "execution_count": null,
      "outputs": [
        {
          "output_type": "execute_result",
          "data": {
            "text/plain": [
              "array([[180.66989],\n",
              "       [220.403  ],\n",
              "       [999.3216 ],\n",
              "       ...,\n",
              "       [226.58205],\n",
              "       [339.16895],\n",
              "       [374.03317]], dtype=float32)"
            ]
          },
          "metadata": {
            "tags": []
          },
          "execution_count": 76
        }
      ]
    },
    {
      "cell_type": "code",
      "metadata": {
        "id": "0qsb5qIu9ufE",
        "colab_type": "code",
        "colab": {}
      },
      "source": [
        "trsite=[]\n",
        "for i in y_testl['start_index']:\n",
        "    trsite.append(i)\n",
        "treite=[]\n",
        "for i in y_testl['end_index']:\n",
        "    treite.append(i)\n",
        "#true start indices\n",
        "trst=[]\n",
        "for i in range(len(trsite)):\n",
        "    c=int(trsite[i])\n",
        "    trst.append(c)\n",
        "#true end indices\n",
        "tren=[]\n",
        "for i in range(len(treite)):\n",
        "    c=int(treite[i])\n",
        "    tren.append(c)"
      ],
      "execution_count": null,
      "outputs": []
    },
    {
      "cell_type": "code",
      "metadata": {
        "id": "GxKpR8xT9ufF",
        "colab_type": "code",
        "colab": {}
      },
      "source": [
        "#pred start indices\n",
        "prst=[]\n",
        "for i in range(len(predf1[0])):\n",
        "    c=int(predf1[0][i][0])\n",
        "    prst.append(c) \n",
        "#pred end indices\n",
        "pren=[]\n",
        "for i in range(len(predf1[0])):\n",
        "    c=int(predf1[1][i][0])\n",
        "    pren.append(c)"
      ],
      "execution_count": null,
      "outputs": []
    },
    {
      "cell_type": "code",
      "metadata": {
        "id": "M8rsS8y79ufG",
        "colab_type": "code",
        "colab": {}
      },
      "source": [
        "pr=[]\n",
        "tr=[]\n",
        "for i in range(0,len(trst)): #data points count\n",
        "    tr.append(X_testl['text'].values[i].split(\" \")[trst[i]:tren[i]]) #true start and end indices\n",
        "    pr.append(X_testl['text'].values[i].split(\" \")[prst[i]:pren[i]])# pred start and end indices"
      ],
      "execution_count": null,
      "outputs": []
    },
    {
      "cell_type": "code",
      "metadata": {
        "id": "see4NrUd9ufH",
        "colab_type": "code",
        "colab": {}
      },
      "source": [
        "def Avg(lst): \n",
        "    return sum(lst) / len(lst) "
      ],
      "execution_count": null,
      "outputs": []
    },
    {
      "cell_type": "markdown",
      "metadata": {
        "id": "ysSl0eZC9ufK",
        "colab_type": "text"
      },
      "source": [
        "## Jaccard Similarity of test data"
      ]
    },
    {
      "cell_type": "code",
      "metadata": {
        "scrolled": true,
        "id": "t2ix49Qg9ufK",
        "colab_type": "code",
        "colab": {},
        "outputId": "6a7b3207-4e95-460e-a2b3-5be5a5fba22c"
      },
      "source": [
        "def jaccard_similarity(tr,pr): #true values and pred values \n",
        "#intersection\n",
        "    jk=[]\n",
        "    for i in range(len(trst)):\n",
        "        a = set(tr[i])\n",
        "        b = set(pr[i]) \n",
        "        c= len(set(a).intersection(b))\n",
        "        jk.append(c) \n",
        "#union\n",
        "    vk=[]\n",
        "    for i in range(len(trst)):\n",
        "        a = set(tr[i])\n",
        "        b = set(pr[i])\n",
        "        v= len(list(a.union(b)))\n",
        "        vk.append(v)\n",
        "        \n",
        "#intersection/union        \n",
        "    f=[]\n",
        "    for i in range(len(jk)):\n",
        "        jac=jk[i]/vk[i]\n",
        "        f.append(jac)\n",
        "        \n",
        "    return Avg(f)\n",
        "    \n",
        "    \n",
        "print(\"The Jaccard Similarity for long answer model is:\",jaccard_similarity(tr,pr))"
      ],
      "execution_count": null,
      "outputs": [
        {
          "output_type": "stream",
          "text": [
            "The Jaccard Similarity for long answer model is: 0.22452200114734572\n"
          ],
          "name": "stdout"
        }
      ]
    },
    {
      "cell_type": "code",
      "metadata": {
        "id": "m5ufavUp9ufM",
        "colab_type": "code",
        "colab": {}
      },
      "source": [
        ""
      ],
      "execution_count": null,
      "outputs": []
    },
    {
      "cell_type": "code",
      "metadata": {
        "id": "TumTK9mS9ufN",
        "colab_type": "code",
        "colab": {}
      },
      "source": [
        ""
      ],
      "execution_count": null,
      "outputs": []
    },
    {
      "cell_type": "code",
      "metadata": {
        "id": "xLCeB3vS9ufO",
        "colab_type": "code",
        "colab": {}
      },
      "source": [
        ""
      ],
      "execution_count": null,
      "outputs": []
    },
    {
      "cell_type": "code",
      "metadata": {
        "id": "rYLJM73R9ufQ",
        "colab_type": "code",
        "colab": {}
      },
      "source": [
        ""
      ],
      "execution_count": null,
      "outputs": []
    },
    {
      "cell_type": "code",
      "metadata": {
        "id": "2wbxA-pE9ufS",
        "colab_type": "code",
        "colab": {}
      },
      "source": [
        ""
      ],
      "execution_count": null,
      "outputs": []
    },
    {
      "cell_type": "code",
      "metadata": {
        "id": "dRRkh7kc9ufT",
        "colab_type": "code",
        "colab": {}
      },
      "source": [
        ""
      ],
      "execution_count": null,
      "outputs": []
    },
    {
      "cell_type": "code",
      "metadata": {
        "id": "-XQbPUgQ9ufV",
        "colab_type": "code",
        "colab": {}
      },
      "source": [
        ""
      ],
      "execution_count": null,
      "outputs": []
    },
    {
      "cell_type": "code",
      "metadata": {
        "id": "SJ0pWFlU9ufW",
        "colab_type": "code",
        "colab": {}
      },
      "source": [
        ""
      ],
      "execution_count": null,
      "outputs": []
    },
    {
      "cell_type": "code",
      "metadata": {
        "id": "cL_2Q_uL9ufX",
        "colab_type": "code",
        "colab": {}
      },
      "source": [
        ""
      ],
      "execution_count": null,
      "outputs": []
    },
    {
      "cell_type": "code",
      "metadata": {
        "id": "QJI9sZqA9ufZ",
        "colab_type": "code",
        "colab": {}
      },
      "source": [
        ""
      ],
      "execution_count": null,
      "outputs": []
    },
    {
      "cell_type": "code",
      "metadata": {
        "id": "2wUqIStI9ufa",
        "colab_type": "code",
        "colab": {}
      },
      "source": [
        ""
      ],
      "execution_count": null,
      "outputs": []
    },
    {
      "cell_type": "code",
      "metadata": {
        "id": "Skc2LSiE9ufd",
        "colab_type": "code",
        "colab": {}
      },
      "source": [
        ""
      ],
      "execution_count": null,
      "outputs": []
    },
    {
      "cell_type": "code",
      "metadata": {
        "id": "60wqUWyX9ufe",
        "colab_type": "code",
        "colab": {}
      },
      "source": [
        ""
      ],
      "execution_count": null,
      "outputs": []
    },
    {
      "cell_type": "code",
      "metadata": {
        "id": "AESb1qWh9uff",
        "colab_type": "code",
        "colab": {}
      },
      "source": [
        ""
      ],
      "execution_count": null,
      "outputs": []
    },
    {
      "cell_type": "code",
      "metadata": {
        "id": "B1061jSK9ufg",
        "colab_type": "code",
        "colab": {}
      },
      "source": [
        ""
      ],
      "execution_count": null,
      "outputs": []
    },
    {
      "cell_type": "code",
      "metadata": {
        "id": "Boe14cMY9ufh",
        "colab_type": "code",
        "colab": {}
      },
      "source": [
        ""
      ],
      "execution_count": null,
      "outputs": []
    },
    {
      "cell_type": "code",
      "metadata": {
        "id": "Msy3PG2c9ufi",
        "colab_type": "code",
        "colab": {}
      },
      "source": [
        ""
      ],
      "execution_count": null,
      "outputs": []
    },
    {
      "cell_type": "code",
      "metadata": {
        "id": "OVfrP1WB9ufj",
        "colab_type": "code",
        "colab": {}
      },
      "source": [
        ""
      ],
      "execution_count": null,
      "outputs": []
    },
    {
      "cell_type": "code",
      "metadata": {
        "id": "CMuIhE-G9ufk",
        "colab_type": "code",
        "colab": {}
      },
      "source": [
        ""
      ],
      "execution_count": null,
      "outputs": []
    },
    {
      "cell_type": "code",
      "metadata": {
        "id": "8CprlG8m9ufl",
        "colab_type": "code",
        "colab": {}
      },
      "source": [
        ""
      ],
      "execution_count": null,
      "outputs": []
    },
    {
      "cell_type": "code",
      "metadata": {
        "id": "Btj2DSLn9ufn",
        "colab_type": "code",
        "colab": {}
      },
      "source": [
        ""
      ],
      "execution_count": null,
      "outputs": []
    },
    {
      "cell_type": "code",
      "metadata": {
        "id": "3RSZiOqH9ufo",
        "colab_type": "code",
        "colab": {}
      },
      "source": [
        ""
      ],
      "execution_count": null,
      "outputs": []
    },
    {
      "cell_type": "code",
      "metadata": {
        "id": "hzaHF4ss9ufp",
        "colab_type": "code",
        "colab": {}
      },
      "source": [
        ""
      ],
      "execution_count": null,
      "outputs": []
    },
    {
      "cell_type": "code",
      "metadata": {
        "id": "p6ukbKY49ufq",
        "colab_type": "code",
        "colab": {}
      },
      "source": [
        ""
      ],
      "execution_count": null,
      "outputs": []
    },
    {
      "cell_type": "code",
      "metadata": {
        "id": "efAk7U_U9uft",
        "colab_type": "code",
        "colab": {}
      },
      "source": [
        ""
      ],
      "execution_count": null,
      "outputs": []
    },
    {
      "cell_type": "code",
      "metadata": {
        "id": "92EyfOJv9ufu",
        "colab_type": "code",
        "colab": {}
      },
      "source": [
        ""
      ],
      "execution_count": null,
      "outputs": []
    },
    {
      "cell_type": "code",
      "metadata": {
        "id": "hfhjprqu9ufv",
        "colab_type": "code",
        "colab": {}
      },
      "source": [
        ""
      ],
      "execution_count": null,
      "outputs": []
    },
    {
      "cell_type": "code",
      "metadata": {
        "id": "y8eXZs3a9ufw",
        "colab_type": "code",
        "colab": {}
      },
      "source": [
        ""
      ],
      "execution_count": null,
      "outputs": []
    },
    {
      "cell_type": "code",
      "metadata": {
        "id": "6LKp0AxI9ufy",
        "colab_type": "code",
        "colab": {}
      },
      "source": [
        ""
      ],
      "execution_count": null,
      "outputs": []
    },
    {
      "cell_type": "code",
      "metadata": {
        "id": "UGASVNzi9ufz",
        "colab_type": "code",
        "colab": {}
      },
      "source": [
        ""
      ],
      "execution_count": null,
      "outputs": []
    },
    {
      "cell_type": "code",
      "metadata": {
        "id": "N5rgrBWJ9uf0",
        "colab_type": "code",
        "colab": {}
      },
      "source": [
        ""
      ],
      "execution_count": null,
      "outputs": []
    },
    {
      "cell_type": "code",
      "metadata": {
        "id": "IFSi3htE9uf1",
        "colab_type": "code",
        "colab": {}
      },
      "source": [
        ""
      ],
      "execution_count": null,
      "outputs": []
    },
    {
      "cell_type": "code",
      "metadata": {
        "id": "lOszx5M29uf2",
        "colab_type": "code",
        "colab": {}
      },
      "source": [
        ""
      ],
      "execution_count": null,
      "outputs": []
    },
    {
      "cell_type": "code",
      "metadata": {
        "id": "UhV5x1JR9uf3",
        "colab_type": "code",
        "colab": {}
      },
      "source": [
        ""
      ],
      "execution_count": null,
      "outputs": []
    },
    {
      "cell_type": "code",
      "metadata": {
        "id": "yDUmsJuJ9uf4",
        "colab_type": "code",
        "colab": {}
      },
      "source": [
        ""
      ],
      "execution_count": null,
      "outputs": []
    },
    {
      "cell_type": "code",
      "metadata": {
        "id": "f9q5v3z39uf5",
        "colab_type": "code",
        "colab": {}
      },
      "source": [
        ""
      ],
      "execution_count": null,
      "outputs": []
    },
    {
      "cell_type": "code",
      "metadata": {
        "id": "Nm-Tw16R9uf7",
        "colab_type": "code",
        "colab": {}
      },
      "source": [
        ""
      ],
      "execution_count": null,
      "outputs": []
    },
    {
      "cell_type": "code",
      "metadata": {
        "id": "e81nelC_9uf-",
        "colab_type": "code",
        "colab": {}
      },
      "source": [
        ""
      ],
      "execution_count": null,
      "outputs": []
    },
    {
      "cell_type": "code",
      "metadata": {
        "id": "uOYozl9Q9ugA",
        "colab_type": "code",
        "colab": {}
      },
      "source": [
        ""
      ],
      "execution_count": null,
      "outputs": []
    },
    {
      "cell_type": "code",
      "metadata": {
        "id": "2FTD5mga9ugD",
        "colab_type": "code",
        "colab": {}
      },
      "source": [
        ""
      ],
      "execution_count": null,
      "outputs": []
    },
    {
      "cell_type": "code",
      "metadata": {
        "id": "63r1NYxt9ugE",
        "colab_type": "code",
        "colab": {}
      },
      "source": [
        ""
      ],
      "execution_count": null,
      "outputs": []
    },
    {
      "cell_type": "code",
      "metadata": {
        "id": "kOy6l8FT9ugI",
        "colab_type": "code",
        "colab": {}
      },
      "source": [
        ""
      ],
      "execution_count": null,
      "outputs": []
    },
    {
      "cell_type": "code",
      "metadata": {
        "id": "RiSbsJTI9ugJ",
        "colab_type": "code",
        "colab": {}
      },
      "source": [
        ""
      ],
      "execution_count": null,
      "outputs": []
    },
    {
      "cell_type": "code",
      "metadata": {
        "id": "U8h3w-AH9_nB",
        "colab_type": "code",
        "colab": {}
      },
      "source": [
        ""
      ],
      "execution_count": null,
      "outputs": []
    },
    {
      "cell_type": "code",
      "metadata": {
        "id": "9KixUQzo9_lZ",
        "colab_type": "code",
        "colab": {}
      },
      "source": [
        ""
      ],
      "execution_count": null,
      "outputs": []
    }
  ]
}